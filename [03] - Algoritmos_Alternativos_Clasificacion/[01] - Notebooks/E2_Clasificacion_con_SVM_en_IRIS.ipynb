{
  "nbformat": 4,
  "nbformat_minor": 0,
  "metadata": {
    "colab": {
      "provenance": [],
      "authorship_tag": "ABX9TyO3gE+IyHL9QaAWbbFff7zJ",
      "include_colab_link": true
    },
    "kernelspec": {
      "name": "python3",
      "display_name": "Python 3"
    },
    "language_info": {
      "name": "python"
    }
  },
  "cells": [
    {
      "cell_type": "markdown",
      "metadata": {
        "id": "view-in-github",
        "colab_type": "text"
      },
      "source": [
        "<a href=\"https://colab.research.google.com/github/dtoralg/TheValley_MDS/blob/main/%5B03%5D%20-%20Algoritmos_Alternativos_Clasificacion/%5B01%5D%20-%20Notebooks/E2_Clasificacion_con_SVM_en_IRIS.ipynb\" target=\"_parent\"><img src=\"https://colab.research.google.com/assets/colab-badge.svg\" alt=\"Open In Colab\"/></a>"
      ]
    },
    {
      "cell_type": "markdown",
      "source": [
        "# Ejercicio de clasificación con SVM: Dataset Iris"
      ],
      "metadata": {
        "id": "RI6rKnxMEMkK"
      }
    },
    {
      "cell_type": "markdown",
      "source": [
        "## Introducción\n",
        "\n",
        "En este ejercicio aprenderás a entrenar y evaluar un modelo de Support Vector Machine (SVM), un algoritmo potente para clasificación supervisada. Probaremos dos kernels distintos (lineal y RBF) para comparar su rendimiento y entender cómo la elección del kernel afecta la capacidad del modelo para separar las clases."
      ],
      "metadata": {
        "id": "1k_UZM_dENdr"
      }
    },
    {
      "cell_type": "markdown",
      "source": [
        "## Objetivos del ejercicio\n",
        "Comprender el funcionamiento básico de un SVM y el concepto de kernel.\n",
        "\n",
        "Entrenar un SVM con diferentes kernels para observar diferencias de rendimiento.\n",
        "\n",
        "Evaluar los modelos con métricas y matrices de confusión.\n",
        "\n",
        "Reflexionar sobre cómo elegir el kernel adecuado según la naturaleza de los datos."
      ],
      "metadata": {
        "id": "O5zn-MMkEQRa"
      }
    },
    {
      "cell_type": "markdown",
      "source": [
        "## Descripción del dataset\n",
        "El dataset Iris contiene 150 muestras de flores de tres especies distintas: Iris-setosa, Iris-versicolor e Iris-virginica. Cada muestra está caracterizada por cuatro variables métricas:\n",
        "\n",
        "* Sepal length (cm)\n",
        "\n",
        "* Sepal width (cm)\n",
        "\n",
        "* Petal length (cm)\n",
        "\n",
        "* Petal width (cm)\n",
        "\n",
        "Es un dataset ideal para practicar algoritmos de clasificación y explorar cómo un SVM puede separar múltiples clases."
      ],
      "metadata": {
        "id": "aLiDd7tOESho"
      }
    },
    {
      "cell_type": "markdown",
      "source": [
        "### Importar librerías necesarias"
      ],
      "metadata": {
        "id": "5zVYgnLqEX1M"
      }
    },
    {
      "cell_type": "code",
      "source": [
        "import numpy as np\n",
        "import pandas as pd\n",
        "from sklearn import datasets\n",
        "from sklearn.model_selection import train_test_split\n",
        "from sklearn.svm import SVC\n",
        "from sklearn.metrics import accuracy_score, confusion_matrix, ConfusionMatrixDisplay, classification_report\n",
        "import matplotlib.pyplot as plt\n",
        "import seaborn as sns\n",
        "\n",
        "sns.set(style=\"whitegrid\")\n"
      ],
      "metadata": {
        "id": "VfuuoIn1EZal"
      },
      "execution_count": null,
      "outputs": []
    },
    {
      "cell_type": "markdown",
      "source": [
        "### Cargar y explorar el dataset Iris"
      ],
      "metadata": {
        "id": "cBjrfFTiEaYX"
      }
    },
    {
      "cell_type": "code",
      "source": [
        "iris = datasets.load_iris()\n",
        "df = pd.DataFrame(iris.data, columns=iris.feature_names)\n",
        "df['species'] = iris.target\n",
        "\n",
        "print(\"Primeras filas del dataset Iris:\")\n",
        "df.head()\n"
      ],
      "metadata": {
        "id": "42jVAeAXEbZn"
      },
      "execution_count": null,
      "outputs": []
    },
    {
      "cell_type": "markdown",
      "source": [
        "### Visualización de las clases"
      ],
      "metadata": {
        "id": "rwsA3MuIEcTf"
      }
    },
    {
      "cell_type": "code",
      "source": [
        "sns.countplot(x='species', data=df)\n",
        "plt.title(\"Distribución de clases en Iris\")\n",
        "plt.xticks(ticks=[0,1,2], labels=iris.target_names)\n",
        "plt.ylabel(\"Número de muestras\")\n",
        "plt.show()\n"
      ],
      "metadata": {
        "id": "JmGD-HkMEc91"
      },
      "execution_count": null,
      "outputs": []
    },
    {
      "cell_type": "markdown",
      "source": [
        "### Dividir el dataset en entrenamiento y prueba"
      ],
      "metadata": {
        "id": "OlTSQPYqEe1z"
      }
    },
    {
      "cell_type": "code",
      "source": [
        "X = iris.data\n",
        "y = iris.target\n",
        "\n",
        "X_train, X_test, y_train, y_test = train_test_split(\n",
        "    X, y, test_size=0.3, random_state=0, stratify=y)\n",
        "\n",
        "print(f\"Tamaño del conjunto de entrenamiento: {X_train.shape[0]} muestras\")\n",
        "print(f\"Tamaño del conjunto de prueba: {X_test.shape[0]} muestras\")\n"
      ],
      "metadata": {
        "id": "rOUbzCOMEfqL"
      },
      "execution_count": null,
      "outputs": []
    },
    {
      "cell_type": "markdown",
      "source": [
        "### Entrenar SVM con kernel lineal"
      ],
      "metadata": {
        "id": "MskG_SHoEgny"
      }
    },
    {
      "cell_type": "code",
      "source": [
        "svm_linear = SVC(kernel='linear', C=1, random_state=0)\n",
        "svm_linear.fit(X_train, y_train)\n",
        "y_pred_linear = svm_linear.predict(X_test)\n",
        "\n",
        "accuracy_linear = accuracy_score(y_test, y_pred_linear)\n",
        "print(f\"Precisión del modelo SVM (kernel lineal): {accuracy_linear:.2f}\")\n"
      ],
      "metadata": {
        "id": "ND0SBd_XEhbl"
      },
      "execution_count": null,
      "outputs": []
    },
    {
      "cell_type": "markdown",
      "source": [
        "### Entrenar SVM con kernel RBF"
      ],
      "metadata": {
        "id": "oc5opEczEiqM"
      }
    },
    {
      "cell_type": "code",
      "source": [
        "svm_rbf = SVC(kernel='rbf', C=1, gamma='scale', random_state=0)\n",
        "svm_rbf.fit(X_train, y_train)\n",
        "y_pred_rbf = svm_rbf.predict(X_test)\n",
        "\n",
        "accuracy_rbf = accuracy_score(y_test, y_pred_rbf)\n",
        "print(f\"Precisión del modelo SVM (kernel RBF): {accuracy_rbf:.2f}\")\n"
      ],
      "metadata": {
        "id": "iTAUF3MTEjYD"
      },
      "execution_count": null,
      "outputs": []
    },
    {
      "cell_type": "markdown",
      "source": [
        "### Visualizar matrices de confusión"
      ],
      "metadata": {
        "id": "vNWvuQqEEkYq"
      }
    },
    {
      "cell_type": "code",
      "source": [
        "fig, axes = plt.subplots(1, 2, figsize=(14, 5))\n",
        "\n",
        "cm_linear = confusion_matrix(y_test, y_pred_linear)\n",
        "disp_linear = ConfusionMatrixDisplay(confusion_matrix=cm_linear, display_labels=iris.target_names)\n",
        "disp_linear.plot(ax=axes[0], cmap=plt.cm.Blues)\n",
        "axes[0].set_title(\"SVM Lineal\")\n",
        "\n",
        "cm_rbf = confusion_matrix(y_test, y_pred_rbf)\n",
        "disp_rbf = ConfusionMatrixDisplay(confusion_matrix=cm_rbf, display_labels=iris.target_names)\n",
        "disp_rbf.plot(ax=axes[1], cmap=plt.cm.Blues)\n",
        "axes[1].set_title(\"SVM RBF\")\n",
        "\n",
        "plt.tight_layout()\n",
        "plt.show()\n"
      ],
      "metadata": {
        "id": "rjrT1EDnElK6"
      },
      "execution_count": null,
      "outputs": []
    },
    {
      "cell_type": "markdown",
      "source": [
        "### Informe detallado de métricas"
      ],
      "metadata": {
        "id": "Nd8WSAyFEmeI"
      }
    },
    {
      "cell_type": "code",
      "source": [
        "print(\"Informe de métricas para SVM (kernel lineal):\\n\")\n",
        "print(classification_report(y_test, y_pred_linear, target_names=iris.target_names))\n",
        "\n",
        "print(\"\\nInforme de métricas para SVM (kernel RBF):\\n\")\n",
        "print(classification_report(y_test, y_pred_rbf, target_names=iris.target_names))\n"
      ],
      "metadata": {
        "id": "wrFT_b8tEnWc"
      },
      "execution_count": null,
      "outputs": []
    },
    {
      "cell_type": "markdown",
      "source": [
        "### Reflexión y discusión grupal\n",
        "\n",
        "1. ¿Qué diferencias observas entre los kernels lineal y RBF en términos de precisión y matriz de confusión?\n",
        "2. ¿Qué kernel funcionó mejor? ¿Por qué crees que se debe a la forma en que se distribuyen las clases?\n",
        "3. ¿En qué situaciones reales podrías necesitar un kernel no lineal como RBF?\n",
        "4. ¿Cuáles serían las ventajas o limitaciones de usar SVM en un problema más complejo que Iris?\n"
      ],
      "metadata": {
        "id": "qZy5cw3pEnpv"
      }
    }
  ]
}