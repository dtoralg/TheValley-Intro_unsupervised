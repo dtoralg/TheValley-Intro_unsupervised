{
  "nbformat": 4,
  "nbformat_minor": 0,
  "metadata": {
    "colab": {
      "provenance": [],
      "authorship_tag": "ABX9TyNSejAkRLiNAVVuIGaw0sbg",
      "include_colab_link": true
    },
    "kernelspec": {
      "name": "python3",
      "display_name": "Python 3"
    },
    "language_info": {
      "name": "python"
    }
  },
  "cells": [
    {
      "cell_type": "markdown",
      "metadata": {
        "id": "view-in-github",
        "colab_type": "text"
      },
      "source": [
        "<a href=\"https://colab.research.google.com/github/dtoralg/TheValley_MDS/blob/main/%5B03%5D%20-%20Algoritmos_Alternativos_Clasificacion/%5B01%5D%20-%20Notebooks/E1_Naive_Bayes_Classification_IRIS.ipynb\" target=\"_parent\"><img src=\"https://colab.research.google.com/assets/colab-badge.svg\" alt=\"Open In Colab\"/></a>"
      ]
    },
    {
      "cell_type": "markdown",
      "source": [
        "# Ejercicio de clasificación con Naïve Bayes: Dataset Iris"
      ],
      "metadata": {
        "id": "hG0F2qqSyYkc"
      }
    },
    {
      "cell_type": "markdown",
      "source": [
        "## Introducción\n",
        "En este ejercicio práctico aplicaremos Naïve Bayes, un clasificador probabilístico sencillo y eficaz, al famoso dataset Iris. Este dataset es uno de los más utilizados en Machine Learning y contiene medidas de sépalos y pétalos de tres especies de flores. El objetivo es entrenar un modelo que clasifique correctamente la especie de una flor a partir de sus características métricas. A través de este ejercicio, los alumnos desarrollarán una comprensión práctica de cómo funciona Naïve Bayes y cómo evaluar su rendimiento.\n",
        "\n"
      ],
      "metadata": {
        "id": "3imCnqkJwwg8"
      }
    },
    {
      "cell_type": "markdown",
      "source": [
        "## Objetivos del ejercicio\n",
        "Comprender la teoría básica de Naïve Bayes y su aplicación en problemas de clasificación.\n",
        "\n",
        "Entrenar un modelo Gaussian Naïve Bayes sobre un problema multiclase.\n",
        "\n",
        "Evaluar el rendimiento del modelo utilizando métricas como precisión, recall y matriz de confusión.\n",
        "\n",
        "Interpretar los resultados y reflexionar sobre la utilidad de Naïve Bayes en problemas con características continuas."
      ],
      "metadata": {
        "id": "szqzUIQLwyyG"
      }
    },
    {
      "cell_type": "markdown",
      "source": [
        "## Descripción del dataset\n",
        "El dataset Iris contiene 150 muestras de flores, cada una descrita por cuatro características métricas:\n",
        "\n",
        "* Sepal length (cm): Longitud del sépalo.\n",
        "\n",
        "* Sepal width (cm): Ancho del sépalo.\n",
        "\n",
        "* Petal length (cm): Longitud del pétalo.\n",
        "\n",
        "* Petal width (cm): Ancho del pétalo.\n",
        "\n",
        "Cada muestra está etiquetada con una de tres especies de Iris:\n",
        "\n",
        "* Iris-setosa\n",
        "\n",
        "* Iris-versicolor\n",
        "\n",
        "* Iris-virginica\n",
        "\n",
        "Este dataset es ideal para ilustrar cómo funcionan los clasificadores probabilísticos, ya que permite explorar cómo las distribuciones de características ayudan a diferenciar entre clases."
      ],
      "metadata": {
        "id": "08JdaHwqw0fl"
      }
    },
    {
      "cell_type": "markdown",
      "source": [
        "### Importar librerías necesarias"
      ],
      "metadata": {
        "id": "TZHwc7eBw-1f"
      }
    },
    {
      "cell_type": "code",
      "execution_count": null,
      "metadata": {
        "id": "VjitBk8lv7VM"
      },
      "outputs": [],
      "source": [
        "import numpy as np\n",
        "import pandas as pd\n",
        "from sklearn import datasets\n",
        "from sklearn.model_selection import train_test_split\n",
        "from sklearn.naive_bayes import GaussianNB\n",
        "from sklearn.metrics import accuracy_score, confusion_matrix, ConfusionMatrixDisplay, classification_report\n",
        "import matplotlib.pyplot as plt\n",
        "import seaborn as sns\n",
        "\n",
        "sns.set(style=\"whitegrid\")"
      ]
    },
    {
      "cell_type": "markdown",
      "source": [
        "### Cargar el dataset Iris como DataFrame"
      ],
      "metadata": {
        "id": "v5XAz98VxBYA"
      }
    },
    {
      "cell_type": "code",
      "source": [
        "iris = datasets.load_iris()\n",
        "df = pd.DataFrame(iris.data, columns=iris.feature_names)\n",
        "df['species'] = iris.target\n",
        "\n",
        "print(f\"Características: {iris.feature_names}\")\n",
        "print(f\"Clases: {iris.target_names}\")\n",
        "\n",
        "df.head()"
      ],
      "metadata": {
        "id": "wEk_9BiqxBk8"
      },
      "execution_count": null,
      "outputs": []
    },
    {
      "cell_type": "markdown",
      "source": [
        "### Visualizar la distribución de las clases"
      ],
      "metadata": {
        "id": "3TKoArqhxFl3"
      }
    },
    {
      "cell_type": "code",
      "source": [
        "sns.countplot(x='species', data=df)\n",
        "plt.title(\"Distribución de clases en Iris\")\n",
        "plt.xticks(ticks=[0,1,2], labels=iris.target_names)\n",
        "plt.ylabel(\"Número de muestras\")\n",
        "plt.show()"
      ],
      "metadata": {
        "id": "g0fgzIyhxF2n"
      },
      "execution_count": null,
      "outputs": []
    },
    {
      "cell_type": "markdown",
      "source": [
        "### Visualización exploratoria de las características"
      ],
      "metadata": {
        "id": "zcXlB0P_xIyW"
      }
    },
    {
      "cell_type": "code",
      "source": [
        "sns.pairplot(df, hue='species', palette='Set1',\n",
        "             vars=iris.feature_names)\n",
        "plt.suptitle(\"Distribución de características por especie\", y=1.02)\n",
        "plt.show()\n",
        "\n",
        "# Estas gráficas ayudan a ver si las clases se separan bien en función de las características,\n",
        "# lo que nos da pistas sobre la dificultad del problema."
      ],
      "metadata": {
        "id": "fealvRtVxI-T"
      },
      "execution_count": null,
      "outputs": []
    },
    {
      "cell_type": "markdown",
      "source": [
        "### Dividir el dataset en entrenamiento y prueba"
      ],
      "metadata": {
        "id": "mX6nFW9IxN0-"
      }
    },
    {
      "cell_type": "code",
      "source": [
        "X = iris.data\n",
        "y = iris.target\n",
        "\n",
        "X_train, X_test, y_train, y_test = train_test_split(\n",
        "    X, y, test_size=0.3, random_state=0, stratify=y)\n",
        "\n",
        "print(f\"Tamaño conjunto de entrenamiento: {X_train.shape[0]} muestras\")\n",
        "print(f\"Tamaño conjunto de prueba: {X_test.shape[0]} muestras\")"
      ],
      "metadata": {
        "id": "8YoxzDjixOD7"
      },
      "execution_count": null,
      "outputs": []
    },
    {
      "cell_type": "markdown",
      "source": [
        "### Entrenar el modelo **Naïve Bayes**"
      ],
      "metadata": {
        "id": "ZznyjPmTxcZb"
      }
    },
    {
      "cell_type": "code",
      "source": [
        "nb = GaussianNB()\n",
        "nb.fit(X_train, y_train)\n",
        "print(\"Modelo Naïve Bayes entrenado correctamente.\")"
      ],
      "metadata": {
        "id": "en5kfy7Ixcl7"
      },
      "execution_count": null,
      "outputs": []
    },
    {
      "cell_type": "markdown",
      "source": [
        "### Realizar predicciones sobre el conjunto de prueba"
      ],
      "metadata": {
        "id": "sYxhuOcgxgLi"
      }
    },
    {
      "cell_type": "code",
      "source": [
        "y_pred = nb.predict(X_test)\n",
        "\n",
        "accuracy = accuracy_score(y_test, y_pred)\n",
        "print(f\"Precisión del modelo Naïve Bayes sobre el conjunto de prueba: {accuracy:.2f}\")\n"
      ],
      "metadata": {
        "id": "pWKez5qgxgZW"
      },
      "execution_count": null,
      "outputs": []
    },
    {
      "cell_type": "markdown",
      "source": [
        "### Matriz de confusión y visualización"
      ],
      "metadata": {
        "id": "VpXvWcD3xlWS"
      }
    },
    {
      "cell_type": "code",
      "source": [
        "cm = confusion_matrix(y_test, y_pred)\n",
        "disp = ConfusionMatrixDisplay(confusion_matrix=cm, display_labels=iris.target_names)\n",
        "disp.plot(cmap=plt.cm.Blues)\n",
        "plt.title(\"Matriz de confusión: Naïve Bayes en Iris\")\n",
        "plt.grid(False)\n",
        "plt.show()\n"
      ],
      "metadata": {
        "id": "EtZl2viBxlha"
      },
      "execution_count": null,
      "outputs": []
    },
    {
      "cell_type": "markdown",
      "source": [
        "### Informe detallado de métricas"
      ],
      "metadata": {
        "id": "VrDg4kY6xn23"
      }
    },
    {
      "cell_type": "code",
      "source": [
        "report = classification_report(y_test, y_pred, target_names=iris.target_names)\n",
        "print(\"Informe de métricas:\\n\")\n",
        "print(report)\n"
      ],
      "metadata": {
        "id": "2z9fpMHIxoBX"
      },
      "execution_count": null,
      "outputs": []
    },
    {
      "cell_type": "markdown",
      "source": [
        "### Reflexión\n",
        "\n",
        "1. ¿Qué clases presentan mayor confusión en la matriz de confusión?\n",
        "2. Observa el informe de métricas: ¿qué clases tienen mejor precisión y recall?\n",
        "3. ¿Cómo ayuda Naïve Bayes a clasificar un problema multiclase como Iris?\n",
        "4. ¿Qué harías para mejorar el rendimiento del modelo? Por ejemplo: ¿normalización, ingeniería de variables, etc.?\n"
      ],
      "metadata": {
        "id": "8MvHXs4ixsBP"
      }
    }
  ]
}