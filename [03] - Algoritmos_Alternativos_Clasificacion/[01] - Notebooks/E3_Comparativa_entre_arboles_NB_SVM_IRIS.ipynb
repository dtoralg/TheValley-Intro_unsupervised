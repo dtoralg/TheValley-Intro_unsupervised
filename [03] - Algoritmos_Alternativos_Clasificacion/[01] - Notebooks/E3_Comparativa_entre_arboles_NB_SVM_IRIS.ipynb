{
  "nbformat": 4,
  "nbformat_minor": 0,
  "metadata": {
    "colab": {
      "provenance": [],
      "authorship_tag": "ABX9TyNnUxSC2JdGzhHhl3B9zdwz",
      "include_colab_link": true
    },
    "kernelspec": {
      "name": "python3",
      "display_name": "Python 3"
    },
    "language_info": {
      "name": "python"
    }
  },
  "cells": [
    {
      "cell_type": "markdown",
      "metadata": {
        "id": "view-in-github",
        "colab_type": "text"
      },
      "source": [
        "<a href=\"https://colab.research.google.com/github/dtoralg/TheValley_MDS/blob/main/%5B03%5D%20-%20Algoritmos_Alternativos_Clasificacion/%5B01%5D%20-%20Notebooks/E3_Comparativa_entre_arboles_NB_SVM_IRIS.ipynb\" target=\"_parent\"><img src=\"https://colab.research.google.com/assets/colab-badge.svg\" alt=\"Open In Colab\"/></a>"
      ]
    },
    {
      "cell_type": "markdown",
      "source": [
        "# Ejercicio de comparación: Árbol de Decisión, Naïve Bayes y SVM en Iris"
      ],
      "metadata": {
        "id": "irw21MK1GUQF"
      }
    },
    {
      "cell_type": "markdown",
      "source": [
        "## Introducción\n",
        "En este ejercicio práctico vamos a entrenar y comparar tres clasificadores distintos sobre el mismo problema: predecir la especie de flores en el dataset Iris. Compararás un Árbol de Decisión, un modelo Naïve Bayes y un Support Vector Machine (SVM) para observar cómo cada algoritmo se comporta con los mismos datos. Esto te permitirá entender mejor las ventajas, limitaciones y diferencias entre modelos."
      ],
      "metadata": {
        "id": "xmdpFXJrGVuI"
      }
    },
    {
      "cell_type": "markdown",
      "source": [
        "## Objetivos del ejercicio\n",
        "* Aplicar Árbol de Decisión, Naïve Bayes y SVM sobre el dataset Iris.\n",
        "\n",
        "* Evaluar cada modelo usando precisión y matriz de confusión.\n",
        "\n",
        "* Visualizar gráficamente las fronteras de decisión de cada clasificador.\n",
        "\n",
        "* Reflexionar sobre cuál modelo se ajusta mejor a los datos y por qué."
      ],
      "metadata": {
        "id": "PwXCXTywGWva"
      }
    },
    {
      "cell_type": "markdown",
      "source": [
        "## Descripción del dataset\n",
        "El dataset Iris contiene 150 muestras de flores, cada una descrita por cuatro características métricas:\n",
        "\n",
        "* Sepal length (cm)\n",
        "\n",
        "* Sepal width (cm)\n",
        "\n",
        "* Petal length (cm)\n",
        "\n",
        "* Petal width (cm)\n",
        "\n",
        "Cada muestra está etiquetada con una de tres especies de Iris:\n",
        "\n",
        "* Iris-setosa\n",
        "\n",
        "* Iris-versicolor\n",
        "\n",
        "* Iris-virginica\n",
        "\n",
        "Es un dataset clásico en Machine Learning para problemas de clasificación multiclase."
      ],
      "metadata": {
        "id": "mPQAI1gzGfLU"
      }
    },
    {
      "cell_type": "markdown",
      "source": [
        "### Importar librerías necesarias"
      ],
      "metadata": {
        "id": "5aAuHQ-ZGt_H"
      }
    },
    {
      "cell_type": "code",
      "execution_count": null,
      "metadata": {
        "id": "dodl22ZqGOFq"
      },
      "outputs": [],
      "source": [
        "import numpy as np\n",
        "import pandas as pd\n",
        "from sklearn import datasets\n",
        "from sklearn.model_selection import train_test_split\n",
        "from sklearn.tree import DecisionTreeClassifier, plot_tree\n",
        "from sklearn.naive_bayes import GaussianNB\n",
        "from sklearn.svm import SVC\n",
        "from sklearn.metrics import accuracy_score, confusion_matrix, ConfusionMatrixDisplay, classification_report\n",
        "import matplotlib.pyplot as plt\n",
        "import seaborn as sns\n",
        "\n",
        "sns.set(style=\"whitegrid\")\n"
      ]
    },
    {
      "cell_type": "markdown",
      "source": [
        "### Cargar el dataset Iris y explorarlo"
      ],
      "metadata": {
        "id": "VZLDTmtkGxPF"
      }
    },
    {
      "cell_type": "code",
      "source": [
        "iris = datasets.load_iris()\n",
        "df = pd.DataFrame(iris.data, columns=iris.feature_names)\n",
        "df['species'] = iris.target\n",
        "df.head()\n"
      ],
      "metadata": {
        "id": "z71ylwL7GyRV"
      },
      "execution_count": null,
      "outputs": []
    },
    {
      "cell_type": "markdown",
      "source": [
        "### Dividir el dataset en entrenamiento y prueba"
      ],
      "metadata": {
        "id": "Kar-ayVRGzRs"
      }
    },
    {
      "cell_type": "code",
      "source": [
        "X = iris.data\n",
        "y = iris.target\n",
        "\n",
        "X_train, X_test, y_train, y_test = train_test_split(\n",
        "    X, y, test_size=0.3, random_state=0, stratify=y)\n",
        "\n",
        "print(f\"Tamaño conjunto de entrenamiento: {X_train.shape[0]} muestras\")\n",
        "print(f\"Tamaño conjunto de prueba: {X_test.shape[0]} muestras\")\n"
      ],
      "metadata": {
        "id": "A9UWnlt0G1s2"
      },
      "execution_count": null,
      "outputs": []
    },
    {
      "cell_type": "markdown",
      "source": [
        "### Entrenar Árbol de Decisión"
      ],
      "metadata": {
        "id": "tZikZBtYG2w_"
      }
    },
    {
      "cell_type": "code",
      "source": [
        "tree = DecisionTreeClassifier(max_depth=5, random_state=0)\n",
        "tree.fit(X_train, y_train)\n",
        "y_pred_tree = tree.predict(X_test)\n",
        "\n",
        "accuracy_tree = accuracy_score(y_test, y_pred_tree)\n",
        "print(f\"Precisión Árbol de Decisión: {accuracy_tree:.2f}\")\n"
      ],
      "metadata": {
        "id": "OzHLxQexG3i8"
      },
      "execution_count": null,
      "outputs": []
    },
    {
      "cell_type": "markdown",
      "source": [
        "### Entrenar Naïve Bayes"
      ],
      "metadata": {
        "id": "IE3PqxHHG4m2"
      }
    },
    {
      "cell_type": "code",
      "source": [
        "nb = GaussianNB()\n",
        "nb.fit(X_train, y_train)\n",
        "y_pred_nb = nb.predict(X_test)\n",
        "\n",
        "accuracy_nb = accuracy_score(y_test, y_pred_nb)\n",
        "print(f\"Precisión Naïve Bayes: {accuracy_nb:.2f}\")\n"
      ],
      "metadata": {
        "id": "ZrIrueYOG5Ti"
      },
      "execution_count": null,
      "outputs": []
    },
    {
      "cell_type": "markdown",
      "source": [
        "### Entrenar SVM"
      ],
      "metadata": {
        "id": "MZnPN2YFG6LQ"
      }
    },
    {
      "cell_type": "code",
      "source": [
        "svm = SVC(kernel='rbf', C=1, gamma='scale', random_state=0)\n",
        "svm.fit(X_train, y_train)\n",
        "y_pred_svm = svm.predict(X_test)\n",
        "\n",
        "accuracy_svm = accuracy_score(y_test, y_pred_svm)\n",
        "print(f\"Precisión SVM (kernel RBF): {accuracy_svm:.2f}\")\n"
      ],
      "metadata": {
        "id": "TYwHnJVFG6_E"
      },
      "execution_count": null,
      "outputs": []
    },
    {
      "cell_type": "markdown",
      "source": [
        "### Visualizar matrices de confusión"
      ],
      "metadata": {
        "id": "5nNldMsFG70i"
      }
    },
    {
      "cell_type": "code",
      "source": [
        "fig, axes = plt.subplots(1, 3, figsize=(18, 5))\n",
        "\n",
        "cm_tree = confusion_matrix(y_test, y_pred_tree)\n",
        "disp_tree = ConfusionMatrixDisplay(confusion_matrix=cm_tree, display_labels=iris.target_names)\n",
        "disp_tree.plot(ax=axes[0], cmap=plt.cm.Blues)\n",
        "axes[0].set_title(\"Árbol de Decisión\")\n",
        "\n",
        "cm_nb = confusion_matrix(y_test, y_pred_nb)\n",
        "disp_nb = ConfusionMatrixDisplay(confusion_matrix=cm_nb, display_labels=iris.target_names)\n",
        "disp_nb.plot(ax=axes[1], cmap=plt.cm.Blues)\n",
        "axes[1].set_title(\"Naïve Bayes\")\n",
        "\n",
        "cm_svm = confusion_matrix(y_test, y_pred_svm)\n",
        "disp_svm = ConfusionMatrixDisplay(confusion_matrix=cm_svm, display_labels=iris.target_names)\n",
        "disp_svm.plot(ax=axes[2], cmap=plt.cm.Blues)\n",
        "axes[2].set_title(\"SVM (RBF)\")\n",
        "\n",
        "plt.tight_layout()\n",
        "plt.show()\n"
      ],
      "metadata": {
        "id": "6TQVsYogG884"
      },
      "execution_count": null,
      "outputs": []
    },
    {
      "cell_type": "markdown",
      "source": [
        "### Visualizar el árbol de decisión"
      ],
      "metadata": {
        "id": "pNkcBdldG-TQ"
      }
    },
    {
      "cell_type": "code",
      "source": [
        "plt.figure(figsize=(16, 8))\n",
        "plot_tree(tree, feature_names=iris.feature_names, class_names=iris.target_names, filled=True)\n",
        "plt.title(\"Árbol de Decisión entrenado en Iris\")\n",
        "plt.show()\n"
      ],
      "metadata": {
        "id": "gNU2cntqG-wJ"
      },
      "execution_count": null,
      "outputs": []
    },
    {
      "cell_type": "markdown",
      "source": [
        "### Comparar informes de métricas"
      ],
      "metadata": {
        "id": "xhaM5OckHAGK"
      }
    },
    {
      "cell_type": "code",
      "source": [
        "print(\"Informe Árbol de Decisión:\\n\")\n",
        "print(classification_report(y_test, y_pred_tree, target_names=iris.target_names))\n",
        "\n",
        "print(\"\\nInforme Naïve Bayes:\\n\")\n",
        "print(classification_report(y_test, y_pred_nb, target_names=iris.target_names))\n",
        "\n",
        "print(\"\\nInforme SVM (RBF):\\n\")\n",
        "print(classification_report(y_test, y_pred_svm, target_names=iris.target_names))\n"
      ],
      "metadata": {
        "id": "_I8c7vX2HAx0"
      },
      "execution_count": null,
      "outputs": []
    },
    {
      "cell_type": "markdown",
      "source": [
        "### Reflexión y discusión grupal"
      ],
      "metadata": {
        "id": "pxLU7ixZHBoY"
      }
    },
    {
      "cell_type": "code",
      "source": [
        "## Reflexión final\n",
        "\n",
        "1. ¿Qué clasificador obtuvo mejor rendimiento? ¿Por qué crees que se debe a la forma de los datos?\n",
        "2. Observando las matrices de confusión, ¿dónde cometió más errores cada modelo?\n",
        "3. ¿Cuál de los tres modelos crees que sería más fácil de interpretar y explicar a alguien sin conocimientos técnicos?\n",
        "4. ¿En qué situaciones reales usarías cada clasificador?\n"
      ],
      "metadata": {
        "id": "cRRaRA1WHCY4"
      },
      "execution_count": null,
      "outputs": []
    }
  ]
}