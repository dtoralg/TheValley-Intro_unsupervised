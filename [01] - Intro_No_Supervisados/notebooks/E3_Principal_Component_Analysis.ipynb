{
  "nbformat": 4,
  "nbformat_minor": 0,
  "metadata": {
    "colab": {
      "provenance": [],
      "authorship_tag": "ABX9TyPKS6r2mwxfuiZBmfXsrgoO",
      "include_colab_link": true
    },
    "kernelspec": {
      "name": "python3",
      "display_name": "Python 3"
    },
    "language_info": {
      "name": "python"
    }
  },
  "cells": [
    {
      "cell_type": "markdown",
      "metadata": {
        "id": "view-in-github",
        "colab_type": "text"
      },
      "source": [
        "<a href=\"https://colab.research.google.com/github/dtoralg/intro_unsupervised/blob/main/notebooks/E3_Principal_Component_Analysis.ipynb\" target=\"_parent\"><img src=\"https://colab.research.google.com/assets/colab-badge.svg\" alt=\"Open In Colab\"/></a>"
      ]
    },
    {
      "cell_type": "markdown",
      "metadata": {
        "id": "Z14_gFVCCp56"
      },
      "source": [
        "# Ejercicio de Análisis de Componentes Principales (PCA): Análisis del Dataset IRIS\n"
      ]
    },
    {
      "cell_type": "markdown",
      "source": [
        "## Introducción"
      ],
      "metadata": {
        "id": "r0SWMZMqDf3e"
      }
    },
    {
      "cell_type": "markdown",
      "source": [
        "\n",
        "En este tercer ejercicio vamos a realizar un Análisis de Componentes Principales (PCA), donde aplicaremos técnicas de reducción dimensional para analizar y visualizar el famoso dataset IRIS. PCA es una técnica muy potente que nos permite transformar un conjunto de variables posiblemente correlacionadas en un conjunto más pequeño de variables no correlacionadas, llamadas componentes principales.\n",
        "\n",
        "Esta técnica es lineal, por lo que solamente capturará relaciones lineales entre variables. En PCA buscamos encontrar las componentes principales (ejes) que consiguen que la covarianza entre dos variables tienda a cero.\n",
        "\n",
        "Estas covarianzas se pueden ordenar de mayor a menor, con lo cual podremos encontrar aquellos ejes que explican la mayor parte de la varianza del dataset, pudiendo prescindir de aquellos ejes que representan un porcentaje menor de la misma - aplicando así una reducción dimensional.\n",
        "\n",
        "### Objetivos del Ejercicio\n",
        "\n",
        "- **Comprender los conceptos básicos del PCA** y su utilidad en el análisis de datos.\n",
        "- **Preprocesar los datos** del dataset IRIS para prepararlos adecuadamente para el análisis.\n",
        "- **Aplicar PCA** para reducir la dimensionalidad de los datos del IRIS.\n",
        "- **Visualizar los resultados de PCA** en 2D para interpretar las relaciones entre las muestras.\n",
        "\n",
        "### Descripción del Dataset IRIS\n",
        "\n",
        "El dataset IRIS es uno de los conjuntos de datos más conocidos y utilizados en el campo del Machine Learning y la estadística. Contiene 150 muestras de flores, cada una descrita por cuatro características métricas:\n",
        "\n",
        "- **Sepal Length (cm):** Longitud del sépalo\n",
        "- **Sepal Width (cm):** Ancho del sépalo\n",
        "- **Petal Length (cm):** Longitud del pétalo\n",
        "- **Petal Width (cm):** Ancho del pétalo\n",
        "\n",
        "Además, cada muestra está etiquetada con una de las tres especies de iris:\n",
        "\n",
        "- **Iris-setosa**\n",
        "- **Iris-versicolor**\n",
        "- **Iris-virginica**\n",
        "\n",
        "En este ejercicio, utilizaremos las características métricas para realizar PCA y analizaremos cómo las nuevas componentes principales nos ayudan a entender y visualizar mejor los datos.\n",
        "\n",
        "### Estructura del Notebook\n",
        "\n",
        "1. **Importación de Librerías y Carga de Datos:** Preparar el entorno de trabajo e importar el dataset IRIS.\n",
        "2. **Exploración de Datos:** Analizar las características principales del dataset IRIS.\n",
        "3. **Preprocesamiento de Datos:** Normalizar los datos para asegurar que todas las características contribuyan equitativamente al análisis.\n",
        "4. **Aplicación de PCA:** Implementar PCA para reducir la dimensionalidad de los datos.\n",
        "5. **Visualización de Resultados:** Graficar las componentes principales en 2D para interpretar los clusters formados.\n",
        "\n",
        "### Requisitos\n",
        "\n",
        "Para seguir este notebook, asegúrate de tener instaladas las siguientes librerías de Python:\n",
        "\n",
        "- `numpy`\n",
        "- `pandas`\n",
        "- `matplotlib`\n",
        "- `seaborn`\n",
        "- `scikit-learn`\n",
        "\n",
        "Puedes instalarlas utilizando el siguiente comando:\n",
        "\n",
        "```bash\n",
        "pip install numpy pandas matplotlib seaborn scikit-learn\n"
      ],
      "metadata": {
        "id": "B2DD2FjrVob4"
      }
    },
    {
      "cell_type": "markdown",
      "source": [
        "## Ejercicio de PCA"
      ],
      "metadata": {
        "id": "iXH-UmUEDZ6R"
      }
    },
    {
      "cell_type": "markdown",
      "source": [
        "Cargamos los datos del dataset iris para seguir con nuestro análisis."
      ],
      "metadata": {
        "id": "z08LDD6SLG-A"
      }
    },
    {
      "cell_type": "code",
      "source": [
        "from sklearn.preprocessing import StandardScaler\n",
        "from sklearn.decomposition import PCA\n",
        "import pandas as pd\n",
        "import plotly.express as px\n",
        "import numpy as np"
      ],
      "metadata": {
        "id": "2hBTFRZ3LZ2n"
      },
      "execution_count": 1,
      "outputs": []
    },
    {
      "cell_type": "code",
      "source": [
        "df = px.data.iris() # Otra forma de acceder a IRIS, con plotly express\n",
        "features = [\"sepal_width\", \"sepal_length\", \"petal_width\", \"petal_length\"] # Marcamos las variables numéricas\n",
        "\n",
        "fig = px.scatter_matrix(\n",
        "    df,\n",
        "    dimensions=features,\n",
        "    color=\"species\"\n",
        ")\n",
        "\n",
        "fig.show()"
      ],
      "metadata": {
        "id": "zq5BUuwbJ7XF",
        "outputId": "82cb91ee-0f57-4a37-fcc5-827e3a39d153",
        "colab": {
          "base_uri": "https://localhost:8080/",
          "height": 542
        }
      },
      "execution_count": 2,
      "outputs": [
        {
          "output_type": "display_data",
          "data": {
            "text/html": [
              "<html>\n",
              "<head><meta charset=\"utf-8\" /></head>\n",
              "<body>\n",
              "    <div>            <script src=\"https://cdnjs.cloudflare.com/ajax/libs/mathjax/2.7.5/MathJax.js?config=TeX-AMS-MML_SVG\"></script><script type=\"text/javascript\">if (window.MathJax && window.MathJax.Hub && window.MathJax.Hub.Config) {window.MathJax.Hub.Config({SVG: {font: \"STIX-Web\"}});}</script>                <script type=\"text/javascript\">window.PlotlyConfig = {MathJaxConfig: 'local'};</script>\n",
              "        <script charset=\"utf-8\" src=\"https://cdn.plot.ly/plotly-2.24.1.min.js\"></script>                <div id=\"657a369b-aba9-4da1-a542-a2bed2a9197a\" class=\"plotly-graph-div\" style=\"height:525px; width:100%;\"></div>            <script type=\"text/javascript\">                                    window.PLOTLYENV=window.PLOTLYENV || {};                                    if (document.getElementById(\"657a369b-aba9-4da1-a542-a2bed2a9197a\")) {                    Plotly.newPlot(                        \"657a369b-aba9-4da1-a542-a2bed2a9197a\",                        [{\"dimensions\":[{\"axis\":{\"matches\":true},\"label\":\"sepal_width\",\"values\":[3.5,3.0,3.2,3.1,3.6,3.9,3.4,3.4,2.9,3.1,3.7,3.4,3.0,3.0,4.0,4.4,3.9,3.5,3.8,3.8,3.4,3.7,3.6,3.3,3.4,3.0,3.4,3.5,3.4,3.2,3.1,3.4,4.1,4.2,3.1,3.2,3.5,3.1,3.0,3.4,3.5,2.3,3.2,3.5,3.8,3.0,3.8,3.2,3.7,3.3]},{\"axis\":{\"matches\":true},\"label\":\"sepal_length\",\"values\":[5.1,4.9,4.7,4.6,5.0,5.4,4.6,5.0,4.4,4.9,5.4,4.8,4.8,4.3,5.8,5.7,5.4,5.1,5.7,5.1,5.4,5.1,4.6,5.1,4.8,5.0,5.0,5.2,5.2,4.7,4.8,5.4,5.2,5.5,4.9,5.0,5.5,4.9,4.4,5.1,5.0,4.5,4.4,5.0,5.1,4.8,5.1,4.6,5.3,5.0]},{\"axis\":{\"matches\":true},\"label\":\"petal_width\",\"values\":[0.2,0.2,0.2,0.2,0.2,0.4,0.3,0.2,0.2,0.1,0.2,0.2,0.1,0.1,0.2,0.4,0.4,0.3,0.3,0.3,0.2,0.4,0.2,0.5,0.2,0.2,0.4,0.2,0.2,0.2,0.2,0.4,0.1,0.2,0.1,0.2,0.2,0.1,0.2,0.2,0.3,0.3,0.2,0.6,0.4,0.3,0.2,0.2,0.2,0.2]},{\"axis\":{\"matches\":true},\"label\":\"petal_length\",\"values\":[1.4,1.4,1.3,1.5,1.4,1.7,1.4,1.5,1.4,1.5,1.5,1.6,1.4,1.1,1.2,1.5,1.3,1.4,1.7,1.5,1.7,1.5,1.0,1.7,1.9,1.6,1.6,1.5,1.4,1.6,1.6,1.5,1.5,1.4,1.5,1.2,1.3,1.5,1.3,1.5,1.3,1.3,1.3,1.6,1.9,1.4,1.6,1.4,1.5,1.4]}],\"hovertemplate\":\"species=setosa\\u003cbr\\u003e%{xaxis.title.text}=%{x}\\u003cbr\\u003e%{yaxis.title.text}=%{y}\\u003cextra\\u003e\\u003c\\u002fextra\\u003e\",\"legendgroup\":\"setosa\",\"marker\":{\"color\":\"#636efa\",\"symbol\":\"circle\"},\"name\":\"setosa\",\"showlegend\":true,\"type\":\"splom\"},{\"dimensions\":[{\"axis\":{\"matches\":true},\"label\":\"sepal_width\",\"values\":[3.2,3.2,3.1,2.3,2.8,2.8,3.3,2.4,2.9,2.7,2.0,3.0,2.2,2.9,2.9,3.1,3.0,2.7,2.2,2.5,3.2,2.8,2.5,2.8,2.9,3.0,2.8,3.0,2.9,2.6,2.4,2.4,2.7,2.7,3.0,3.4,3.1,2.3,3.0,2.5,2.6,3.0,2.6,2.3,2.7,3.0,2.9,2.9,2.5,2.8]},{\"axis\":{\"matches\":true},\"label\":\"sepal_length\",\"values\":[7.0,6.4,6.9,5.5,6.5,5.7,6.3,4.9,6.6,5.2,5.0,5.9,6.0,6.1,5.6,6.7,5.6,5.8,6.2,5.6,5.9,6.1,6.3,6.1,6.4,6.6,6.8,6.7,6.0,5.7,5.5,5.5,5.8,6.0,5.4,6.0,6.7,6.3,5.6,5.5,5.5,6.1,5.8,5.0,5.6,5.7,5.7,6.2,5.1,5.7]},{\"axis\":{\"matches\":true},\"label\":\"petal_width\",\"values\":[1.4,1.5,1.5,1.3,1.5,1.3,1.6,1.0,1.3,1.4,1.0,1.5,1.0,1.4,1.3,1.4,1.5,1.0,1.5,1.1,1.8,1.3,1.5,1.2,1.3,1.4,1.4,1.7,1.5,1.0,1.1,1.0,1.2,1.6,1.5,1.6,1.5,1.3,1.3,1.3,1.2,1.4,1.2,1.0,1.3,1.2,1.3,1.3,1.1,1.3]},{\"axis\":{\"matches\":true},\"label\":\"petal_length\",\"values\":[4.7,4.5,4.9,4.0,4.6,4.5,4.7,3.3,4.6,3.9,3.5,4.2,4.0,4.7,3.6,4.4,4.5,4.1,4.5,3.9,4.8,4.0,4.9,4.7,4.3,4.4,4.8,5.0,4.5,3.5,3.8,3.7,3.9,5.1,4.5,4.5,4.7,4.4,4.1,4.0,4.4,4.6,4.0,3.3,4.2,4.2,4.2,4.3,3.0,4.1]}],\"hovertemplate\":\"species=versicolor\\u003cbr\\u003e%{xaxis.title.text}=%{x}\\u003cbr\\u003e%{yaxis.title.text}=%{y}\\u003cextra\\u003e\\u003c\\u002fextra\\u003e\",\"legendgroup\":\"versicolor\",\"marker\":{\"color\":\"#EF553B\",\"symbol\":\"circle\"},\"name\":\"versicolor\",\"showlegend\":true,\"type\":\"splom\"},{\"dimensions\":[{\"axis\":{\"matches\":true},\"label\":\"sepal_width\",\"values\":[3.3,2.7,3.0,2.9,3.0,3.0,2.5,2.9,2.5,3.6,3.2,2.7,3.0,2.5,2.8,3.2,3.0,3.8,2.6,2.2,3.2,2.8,2.8,2.7,3.3,3.2,2.8,3.0,2.8,3.0,2.8,3.8,2.8,2.8,2.6,3.0,3.4,3.1,3.0,3.1,3.1,3.1,2.7,3.2,3.3,3.0,2.5,3.0,3.4,3.0]},{\"axis\":{\"matches\":true},\"label\":\"sepal_length\",\"values\":[6.3,5.8,7.1,6.3,6.5,7.6,4.9,7.3,6.7,7.2,6.5,6.4,6.8,5.7,5.8,6.4,6.5,7.7,7.7,6.0,6.9,5.6,7.7,6.3,6.7,7.2,6.2,6.1,6.4,7.2,7.4,7.9,6.4,6.3,6.1,7.7,6.3,6.4,6.0,6.9,6.7,6.9,5.8,6.8,6.7,6.7,6.3,6.5,6.2,5.9]},{\"axis\":{\"matches\":true},\"label\":\"petal_width\",\"values\":[2.5,1.9,2.1,1.8,2.2,2.1,1.7,1.8,1.8,2.5,2.0,1.9,2.1,2.0,2.4,2.3,1.8,2.2,2.3,1.5,2.3,2.0,2.0,1.8,2.1,1.8,1.8,1.8,2.1,1.6,1.9,2.0,2.2,1.5,1.4,2.3,2.4,1.8,1.8,2.1,2.4,2.3,1.9,2.3,2.5,2.3,1.9,2.0,2.3,1.8]},{\"axis\":{\"matches\":true},\"label\":\"petal_length\",\"values\":[6.0,5.1,5.9,5.6,5.8,6.6,4.5,6.3,5.8,6.1,5.1,5.3,5.5,5.0,5.1,5.3,5.5,6.7,6.9,5.0,5.7,4.9,6.7,4.9,5.7,6.0,4.8,4.9,5.6,5.8,6.1,6.4,5.6,5.1,5.6,6.1,5.6,5.5,4.8,5.4,5.6,5.1,5.1,5.9,5.7,5.2,5.0,5.2,5.4,5.1]}],\"hovertemplate\":\"species=virginica\\u003cbr\\u003e%{xaxis.title.text}=%{x}\\u003cbr\\u003e%{yaxis.title.text}=%{y}\\u003cextra\\u003e\\u003c\\u002fextra\\u003e\",\"legendgroup\":\"virginica\",\"marker\":{\"color\":\"#00cc96\",\"symbol\":\"circle\"},\"name\":\"virginica\",\"showlegend\":true,\"type\":\"splom\"}],                        {\"template\":{\"data\":{\"histogram2dcontour\":[{\"type\":\"histogram2dcontour\",\"colorbar\":{\"outlinewidth\":0,\"ticks\":\"\"},\"colorscale\":[[0.0,\"#0d0887\"],[0.1111111111111111,\"#46039f\"],[0.2222222222222222,\"#7201a8\"],[0.3333333333333333,\"#9c179e\"],[0.4444444444444444,\"#bd3786\"],[0.5555555555555556,\"#d8576b\"],[0.6666666666666666,\"#ed7953\"],[0.7777777777777778,\"#fb9f3a\"],[0.8888888888888888,\"#fdca26\"],[1.0,\"#f0f921\"]]}],\"choropleth\":[{\"type\":\"choropleth\",\"colorbar\":{\"outlinewidth\":0,\"ticks\":\"\"}}],\"histogram2d\":[{\"type\":\"histogram2d\",\"colorbar\":{\"outlinewidth\":0,\"ticks\":\"\"},\"colorscale\":[[0.0,\"#0d0887\"],[0.1111111111111111,\"#46039f\"],[0.2222222222222222,\"#7201a8\"],[0.3333333333333333,\"#9c179e\"],[0.4444444444444444,\"#bd3786\"],[0.5555555555555556,\"#d8576b\"],[0.6666666666666666,\"#ed7953\"],[0.7777777777777778,\"#fb9f3a\"],[0.8888888888888888,\"#fdca26\"],[1.0,\"#f0f921\"]]}],\"heatmap\":[{\"type\":\"heatmap\",\"colorbar\":{\"outlinewidth\":0,\"ticks\":\"\"},\"colorscale\":[[0.0,\"#0d0887\"],[0.1111111111111111,\"#46039f\"],[0.2222222222222222,\"#7201a8\"],[0.3333333333333333,\"#9c179e\"],[0.4444444444444444,\"#bd3786\"],[0.5555555555555556,\"#d8576b\"],[0.6666666666666666,\"#ed7953\"],[0.7777777777777778,\"#fb9f3a\"],[0.8888888888888888,\"#fdca26\"],[1.0,\"#f0f921\"]]}],\"heatmapgl\":[{\"type\":\"heatmapgl\",\"colorbar\":{\"outlinewidth\":0,\"ticks\":\"\"},\"colorscale\":[[0.0,\"#0d0887\"],[0.1111111111111111,\"#46039f\"],[0.2222222222222222,\"#7201a8\"],[0.3333333333333333,\"#9c179e\"],[0.4444444444444444,\"#bd3786\"],[0.5555555555555556,\"#d8576b\"],[0.6666666666666666,\"#ed7953\"],[0.7777777777777778,\"#fb9f3a\"],[0.8888888888888888,\"#fdca26\"],[1.0,\"#f0f921\"]]}],\"contourcarpet\":[{\"type\":\"contourcarpet\",\"colorbar\":{\"outlinewidth\":0,\"ticks\":\"\"}}],\"contour\":[{\"type\":\"contour\",\"colorbar\":{\"outlinewidth\":0,\"ticks\":\"\"},\"colorscale\":[[0.0,\"#0d0887\"],[0.1111111111111111,\"#46039f\"],[0.2222222222222222,\"#7201a8\"],[0.3333333333333333,\"#9c179e\"],[0.4444444444444444,\"#bd3786\"],[0.5555555555555556,\"#d8576b\"],[0.6666666666666666,\"#ed7953\"],[0.7777777777777778,\"#fb9f3a\"],[0.8888888888888888,\"#fdca26\"],[1.0,\"#f0f921\"]]}],\"surface\":[{\"type\":\"surface\",\"colorbar\":{\"outlinewidth\":0,\"ticks\":\"\"},\"colorscale\":[[0.0,\"#0d0887\"],[0.1111111111111111,\"#46039f\"],[0.2222222222222222,\"#7201a8\"],[0.3333333333333333,\"#9c179e\"],[0.4444444444444444,\"#bd3786\"],[0.5555555555555556,\"#d8576b\"],[0.6666666666666666,\"#ed7953\"],[0.7777777777777778,\"#fb9f3a\"],[0.8888888888888888,\"#fdca26\"],[1.0,\"#f0f921\"]]}],\"mesh3d\":[{\"type\":\"mesh3d\",\"colorbar\":{\"outlinewidth\":0,\"ticks\":\"\"}}],\"scatter\":[{\"fillpattern\":{\"fillmode\":\"overlay\",\"size\":10,\"solidity\":0.2},\"type\":\"scatter\"}],\"parcoords\":[{\"type\":\"parcoords\",\"line\":{\"colorbar\":{\"outlinewidth\":0,\"ticks\":\"\"}}}],\"scatterpolargl\":[{\"type\":\"scatterpolargl\",\"marker\":{\"colorbar\":{\"outlinewidth\":0,\"ticks\":\"\"}}}],\"bar\":[{\"error_x\":{\"color\":\"#2a3f5f\"},\"error_y\":{\"color\":\"#2a3f5f\"},\"marker\":{\"line\":{\"color\":\"#E5ECF6\",\"width\":0.5},\"pattern\":{\"fillmode\":\"overlay\",\"size\":10,\"solidity\":0.2}},\"type\":\"bar\"}],\"scattergeo\":[{\"type\":\"scattergeo\",\"marker\":{\"colorbar\":{\"outlinewidth\":0,\"ticks\":\"\"}}}],\"scatterpolar\":[{\"type\":\"scatterpolar\",\"marker\":{\"colorbar\":{\"outlinewidth\":0,\"ticks\":\"\"}}}],\"histogram\":[{\"marker\":{\"pattern\":{\"fillmode\":\"overlay\",\"size\":10,\"solidity\":0.2}},\"type\":\"histogram\"}],\"scattergl\":[{\"type\":\"scattergl\",\"marker\":{\"colorbar\":{\"outlinewidth\":0,\"ticks\":\"\"}}}],\"scatter3d\":[{\"type\":\"scatter3d\",\"line\":{\"colorbar\":{\"outlinewidth\":0,\"ticks\":\"\"}},\"marker\":{\"colorbar\":{\"outlinewidth\":0,\"ticks\":\"\"}}}],\"scattermapbox\":[{\"type\":\"scattermapbox\",\"marker\":{\"colorbar\":{\"outlinewidth\":0,\"ticks\":\"\"}}}],\"scatterternary\":[{\"type\":\"scatterternary\",\"marker\":{\"colorbar\":{\"outlinewidth\":0,\"ticks\":\"\"}}}],\"scattercarpet\":[{\"type\":\"scattercarpet\",\"marker\":{\"colorbar\":{\"outlinewidth\":0,\"ticks\":\"\"}}}],\"carpet\":[{\"aaxis\":{\"endlinecolor\":\"#2a3f5f\",\"gridcolor\":\"white\",\"linecolor\":\"white\",\"minorgridcolor\":\"white\",\"startlinecolor\":\"#2a3f5f\"},\"baxis\":{\"endlinecolor\":\"#2a3f5f\",\"gridcolor\":\"white\",\"linecolor\":\"white\",\"minorgridcolor\":\"white\",\"startlinecolor\":\"#2a3f5f\"},\"type\":\"carpet\"}],\"table\":[{\"cells\":{\"fill\":{\"color\":\"#EBF0F8\"},\"line\":{\"color\":\"white\"}},\"header\":{\"fill\":{\"color\":\"#C8D4E3\"},\"line\":{\"color\":\"white\"}},\"type\":\"table\"}],\"barpolar\":[{\"marker\":{\"line\":{\"color\":\"#E5ECF6\",\"width\":0.5},\"pattern\":{\"fillmode\":\"overlay\",\"size\":10,\"solidity\":0.2}},\"type\":\"barpolar\"}],\"pie\":[{\"automargin\":true,\"type\":\"pie\"}]},\"layout\":{\"autotypenumbers\":\"strict\",\"colorway\":[\"#636efa\",\"#EF553B\",\"#00cc96\",\"#ab63fa\",\"#FFA15A\",\"#19d3f3\",\"#FF6692\",\"#B6E880\",\"#FF97FF\",\"#FECB52\"],\"font\":{\"color\":\"#2a3f5f\"},\"hovermode\":\"closest\",\"hoverlabel\":{\"align\":\"left\"},\"paper_bgcolor\":\"white\",\"plot_bgcolor\":\"#E5ECF6\",\"polar\":{\"bgcolor\":\"#E5ECF6\",\"angularaxis\":{\"gridcolor\":\"white\",\"linecolor\":\"white\",\"ticks\":\"\"},\"radialaxis\":{\"gridcolor\":\"white\",\"linecolor\":\"white\",\"ticks\":\"\"}},\"ternary\":{\"bgcolor\":\"#E5ECF6\",\"aaxis\":{\"gridcolor\":\"white\",\"linecolor\":\"white\",\"ticks\":\"\"},\"baxis\":{\"gridcolor\":\"white\",\"linecolor\":\"white\",\"ticks\":\"\"},\"caxis\":{\"gridcolor\":\"white\",\"linecolor\":\"white\",\"ticks\":\"\"}},\"coloraxis\":{\"colorbar\":{\"outlinewidth\":0,\"ticks\":\"\"}},\"colorscale\":{\"sequential\":[[0.0,\"#0d0887\"],[0.1111111111111111,\"#46039f\"],[0.2222222222222222,\"#7201a8\"],[0.3333333333333333,\"#9c179e\"],[0.4444444444444444,\"#bd3786\"],[0.5555555555555556,\"#d8576b\"],[0.6666666666666666,\"#ed7953\"],[0.7777777777777778,\"#fb9f3a\"],[0.8888888888888888,\"#fdca26\"],[1.0,\"#f0f921\"]],\"sequentialminus\":[[0.0,\"#0d0887\"],[0.1111111111111111,\"#46039f\"],[0.2222222222222222,\"#7201a8\"],[0.3333333333333333,\"#9c179e\"],[0.4444444444444444,\"#bd3786\"],[0.5555555555555556,\"#d8576b\"],[0.6666666666666666,\"#ed7953\"],[0.7777777777777778,\"#fb9f3a\"],[0.8888888888888888,\"#fdca26\"],[1.0,\"#f0f921\"]],\"diverging\":[[0,\"#8e0152\"],[0.1,\"#c51b7d\"],[0.2,\"#de77ae\"],[0.3,\"#f1b6da\"],[0.4,\"#fde0ef\"],[0.5,\"#f7f7f7\"],[0.6,\"#e6f5d0\"],[0.7,\"#b8e186\"],[0.8,\"#7fbc41\"],[0.9,\"#4d9221\"],[1,\"#276419\"]]},\"xaxis\":{\"gridcolor\":\"white\",\"linecolor\":\"white\",\"ticks\":\"\",\"title\":{\"standoff\":15},\"zerolinecolor\":\"white\",\"automargin\":true,\"zerolinewidth\":2},\"yaxis\":{\"gridcolor\":\"white\",\"linecolor\":\"white\",\"ticks\":\"\",\"title\":{\"standoff\":15},\"zerolinecolor\":\"white\",\"automargin\":true,\"zerolinewidth\":2},\"scene\":{\"xaxis\":{\"backgroundcolor\":\"#E5ECF6\",\"gridcolor\":\"white\",\"linecolor\":\"white\",\"showbackground\":true,\"ticks\":\"\",\"zerolinecolor\":\"white\",\"gridwidth\":2},\"yaxis\":{\"backgroundcolor\":\"#E5ECF6\",\"gridcolor\":\"white\",\"linecolor\":\"white\",\"showbackground\":true,\"ticks\":\"\",\"zerolinecolor\":\"white\",\"gridwidth\":2},\"zaxis\":{\"backgroundcolor\":\"#E5ECF6\",\"gridcolor\":\"white\",\"linecolor\":\"white\",\"showbackground\":true,\"ticks\":\"\",\"zerolinecolor\":\"white\",\"gridwidth\":2}},\"shapedefaults\":{\"line\":{\"color\":\"#2a3f5f\"}},\"annotationdefaults\":{\"arrowcolor\":\"#2a3f5f\",\"arrowhead\":0,\"arrowwidth\":1},\"geo\":{\"bgcolor\":\"white\",\"landcolor\":\"#E5ECF6\",\"subunitcolor\":\"white\",\"showland\":true,\"showlakes\":true,\"lakecolor\":\"white\"},\"title\":{\"x\":0.05},\"mapbox\":{\"style\":\"light\"}}},\"legend\":{\"title\":{\"text\":\"species\"},\"tracegroupgap\":0},\"margin\":{\"t\":60},\"dragmode\":\"select\"},                        {\"responsive\": true}                    ).then(function(){\n",
              "                            \n",
              "var gd = document.getElementById('657a369b-aba9-4da1-a542-a2bed2a9197a');\n",
              "var x = new MutationObserver(function (mutations, observer) {{\n",
              "        var display = window.getComputedStyle(gd).display;\n",
              "        if (!display || display === 'none') {{\n",
              "            console.log([gd, 'removed!']);\n",
              "            Plotly.purge(gd);\n",
              "            observer.disconnect();\n",
              "        }}\n",
              "}});\n",
              "\n",
              "// Listen for the removal of the full notebook cells\n",
              "var notebookContainer = gd.closest('#notebook-container');\n",
              "if (notebookContainer) {{\n",
              "    x.observe(notebookContainer, {childList: true});\n",
              "}}\n",
              "\n",
              "// Listen for the clearing of the current output cell\n",
              "var outputEl = gd.closest('.output');\n",
              "if (outputEl) {{\n",
              "    x.observe(outputEl, {childList: true});\n",
              "}}\n",
              "\n",
              "                        })                };                            </script>        </div>\n",
              "</body>\n",
              "</html>"
            ]
          },
          "metadata": {}
        }
      ]
    },
    {
      "cell_type": "markdown",
      "source": [
        "Extraemos el modelo PCA de los datos de IRIS y hallamos las componentes principales para almacenarlas en `components`"
      ],
      "metadata": {
        "id": "suhsDm0eNIFX"
      }
    },
    {
      "cell_type": "code",
      "source": [
        "df_norm = StandardScaler().fit_transform(df[features].values)\n",
        "pca = PCA()\n",
        "components = pca.fit_transform(df_norm)"
      ],
      "metadata": {
        "id": "9r6P7ogIMqLF"
      },
      "execution_count": 3,
      "outputs": []
    },
    {
      "cell_type": "markdown",
      "source": [
        "Con la siguiente función graficamos los distintos datapoints respecto a las combinaciones lineales de los 4 ejes principales que hemos obtenido.\n",
        "\n",
        "Recordemos que como en el dataset IRIS tenemos 4 variables, el número máximo de Componentes Principales que podemos obtener siempre será 4."
      ],
      "metadata": {
        "id": "HaLh1sZDN4DD"
      }
    },
    {
      "cell_type": "code",
      "source": [
        "labels = {\n",
        "    str(i): f\"PC {i+1} ({var:.1f}%)\"\n",
        "    for i, var in enumerate(pca.explained_variance_ratio_ * 100)\n",
        "}\n",
        "\n",
        "fig = px.scatter_matrix(\n",
        "    components,\n",
        "    labels=labels,\n",
        "    dimensions=range(4),\n",
        "    color=df[\"species\"]\n",
        ")\n",
        "\n",
        "fig.show()"
      ],
      "metadata": {
        "id": "oToCktYlKKAz",
        "outputId": "02e0b869-f23f-4b86-b416-ab702c2d7414",
        "colab": {
          "base_uri": "https://localhost:8080/",
          "height": 542
        }
      },
      "execution_count": 4,
      "outputs": [
        {
          "output_type": "display_data",
          "data": {
            "text/html": [
              "<html>\n",
              "<head><meta charset=\"utf-8\" /></head>\n",
              "<body>\n",
              "    <div>            <script src=\"https://cdnjs.cloudflare.com/ajax/libs/mathjax/2.7.5/MathJax.js?config=TeX-AMS-MML_SVG\"></script><script type=\"text/javascript\">if (window.MathJax && window.MathJax.Hub && window.MathJax.Hub.Config) {window.MathJax.Hub.Config({SVG: {font: \"STIX-Web\"}});}</script>                <script type=\"text/javascript\">window.PlotlyConfig = {MathJaxConfig: 'local'};</script>\n",
              "        <script charset=\"utf-8\" src=\"https://cdn.plot.ly/plotly-2.24.1.min.js\"></script>                <div id=\"a79cbd68-fa85-492e-97df-c1ffae0009c0\" class=\"plotly-graph-div\" style=\"height:525px; width:100%;\"></div>            <script type=\"text/javascript\">                                    window.PLOTLYENV=window.PLOTLYENV || {};                                    if (document.getElementById(\"a79cbd68-fa85-492e-97df-c1ffae0009c0\")) {                    Plotly.newPlot(                        \"a79cbd68-fa85-492e-97df-c1ffae0009c0\",                        [{\"dimensions\":[{\"axis\":{\"matches\":true},\"label\":\"PC 1 (72.8%)\",\"values\":[-2.264541728394903,-2.086425500616159,-2.3679504490625254,-2.3041971611520093,-2.3887774935056414,-2.0705368071805528,-2.445711339630283,-2.2338418587092654,-2.34195767645539,-2.18867575528087,-2.1634865562665224,-2.3273777541343734,-2.224082722045002,-2.6397162608446307,-2.1922915084984287,-2.2514652145840643,-2.2027504800800846,-2.190179163791052,-1.8940742930236678,-2.339949070423408,-1.914556394959517,-2.2046453975338136,-2.774169793705157,-1.820411563337214,-2.2282174994597246,-1.957024007341397,-2.052063311276686,-2.168193653345021,-2.140305963284157,-2.268790194387877,-2.144554429277135,-1.831938102201587,-2.608202867663347,-2.4379508590951415,-2.18867575528087,-2.211119896812422,-2.0444165193198,-2.18867575528087,-2.43595220296602,-2.17054720188427,-2.28652723884093,-1.8717072235369512,-2.5578344195375124,-1.964279290354737,-2.133372832920028,-2.0753575928373063,-2.381258216802373,-2.398191687662639,-2.226781213091518,-2.205954168648402]},{\"axis\":{\"matches\":true},\"label\":\"PC 2 (23.0%)\",\"values\":[0.5057039027737854,-0.6554047293691353,-0.3184773108472479,-0.575367712533194,0.6747673967025161,1.5185485598885133,0.07456267500687529,0.24761393175226606,-1.0951463625829536,-0.448629048337558,1.0705955760377266,0.1585874546594771,-0.7091181580302248,-0.9382819821078524,1.8899785123164652,2.722371076574468,1.5137502825462186,0.5143043082206933,1.4311107069412365,1.1580334289850016,0.4304651632801385,0.9524573172889989,0.4895170265034962,0.1067507928354069,0.16218616266619806,-0.6078925674838068,0.266014311981656,0.5520164953235404,0.3366404088450549,-0.31487860284052693,-0.4839420967692577,0.4452668355028074,1.8284751927341019,2.1853916156308926,-0.448629048337558,-0.18433781054027776,0.6849564262949368,-0.448629048337558,-0.8821694147756153,0.292726954966447,0.46799171567093856,-2.327691606114908,-0.45381638048979167,0.497391640018384,1.1714321117742044,-0.6919173471364086,1.1506325928736671,-0.36239076472585574,1.0254825528235452,0.03223784527378045]},{\"axis\":{\"matches\":true},\"label\":\"PC 3 (3.7%)\",\"values\":[-0.12194334778175743,-0.2272508323992486,0.05147962364496709,0.09886044443740294,0.021427848973115414,0.030684258280725265,0.34219763621375465,-0.08257446445485117,0.15356239869462507,-0.24655952238860823,-0.264009373347105,0.10016561562692781,-0.22321451399276135,0.189570030151272,-0.4694800946359476,0.03260379665903311,-0.0013634915813939639,-0.038615594880119765,-0.3707428339920335,0.13741771892565435,-0.41600687475628984,0.16473834638054366,0.3388363843434946,0.04006147242624771,0.12420142802351722,-0.2985910287763138,0.09209297881395304,-0.20129548162435212,-0.26531454453663,0.07551543604155608,-0.06785576071331641,-0.265375243884075,0.05141951815449945,-0.07934975488701833,-0.24655952238860823,-0.2186245277449368,-0.47941157047978517,-0.24655952238860823,0.20155758667584361,-0.1699385357629752,0.04073653896247463,-0.19452860985788056,0.31357183756934,0.3147556100639755,0.2527932216894108,-0.056559008189487135,0.062101903489546986,0.14685563241862137,-0.17664530203897993,-0.14659352736712916]},{\"axis\":{\"matches\":true},\"label\":\"PC 4 (0.5%)\",\"values\":[-0.02307332345462266,-0.10320824441705682,-0.027825225022451893,0.06631146221369406,0.03739728700029208,-0.004398774942173984,0.038096566801922846,0.02550516226629933,0.02679382910986195,0.039907303493150866,-0.015301137681095438,0.13455425844213464,-0.0026306138163773598,0.01942201828947465,-0.1927820421741644,-0.047125704340495254,-0.1866315810030729,-0.09190550672499456,-0.059528096787325756,0.03982818416405644,-0.010360224024472252,-0.05772916223092497,-0.017853729739385874,-0.15034559496928335,0.2712288629878087,-0.043837288716910915,-0.06660100275922133,-0.009260569269702435,-0.08354393390953593,0.1088493795232223,0.04837876906830845,-0.23914099359566712,0.23192259274832264,0.0510210290964184,0.039907303493150866,-0.16861976852859262,-0.19561331429106757,0.039907303493150866,0.00996079071924622,-0.006240285064005754,-0.10571826090991407,-0.2916929817536929,0.06741111696846366,-0.17554020617535795,0.15322880695458255,-0.14029498035712273,0.15421856894965394,0.04947842382307806,0.016444309649210002,-0.048778202373534314]}],\"hovertemplate\":\"color=setosa\\u003cbr\\u003e%{xaxis.title.text}=%{x}\\u003cbr\\u003e%{yaxis.title.text}=%{y}\\u003cextra\\u003e\\u003c\\u002fextra\\u003e\",\"legendgroup\":\"setosa\",\"marker\":{\"color\":\"#636efa\",\"symbol\":\"circle\"},\"name\":\"setosa\",\"showlegend\":true,\"type\":\"splom\"},{\"dimensions\":[{\"axis\":{\"matches\":true},\"label\":\"PC 1 (72.8%)\",\"values\":[1.1039936528045724,0.7324814400086811,1.2421095053189377,0.39730728282332667,1.0725939482015452,0.3844581461690014,0.748715075951553,-0.4978633877981187,0.9262223675330982,0.004968025584318912,-0.12469746138037142,0.4387301177805466,0.5516339814225069,0.7171650662368512,-0.03725838296568848,0.8758905359406831,0.3480064019802085,0.15339254456866683,1.2153032092161533,0.15694117564425022,0.7382561043698959,0.4723696823445683,1.227988214083442,0.6293810453149018,0.700472799208458,0.8735369874014338,1.25422219052245,1.3582398473872717,0.6621261375659376,-0.04728151331988043,0.1215342088801184,0.014118226051387451,0.23601083732659658,1.0566914280905764,0.22141708833021778,0.4317831607410538,1.0494133552191802,1.035878210322824,0.06706759987298037,0.2754250662518338,0.27233506626177184,0.6231705397262216,0.3300053638372262,-0.37362762268737654,0.2829443429551024,0.08905311031901143,0.22435678320860586,0.573883485558467,-0.45701287250467554,0.2522444732694691]},{\"axis\":{\"matches\":true},\"label\":\"PC 2 (23.0%)\",\"values\":[0.8631124458513231,0.5986355733419966,0.6148224496122856,-1.7581689474435254,-0.21175790267989614,-0.591062468622736,0.7786986113887813,-1.848868771275441,0.030330826783380508,-1.029401112403087,-2.6580626779617584,-0.058881285021454434,-1.7725815648562546,-0.18543431450504394,-0.4327950987141686,0.5099981510591466,-0.19062164665727752,-0.7907254562344849,-1.6333556445154827,-1.3031032701729102,0.4024703816185357,-0.41660822244387946,-0.9409147925302723,-0.4168116425417721,-0.06349392765170268,0.2507086107020533,-0.0826200998131133,0.32882026627040106,-0.22434607094346423,-1.05721241260502,-1.5635923798655769,-1.5733923546480586,-0.7759237840118158,-0.6369012837689367,-0.2808476930856398,0.8551369202180022,0.5221972645127757,-1.392466484387781,-0.2126207348933884,-1.3298159131577014,-1.1194415241194033,0.027542633302294273,-0.9889007318191543,-2.017932265204172,-0.8539507169865493,-0.17490854779054144,-0.38048465948654514,-0.15371997408006519,-1.53946451026398,-0.5958607459650307]},{\"axis\":{\"matches\":true},\"label\":\"PC 3 (3.7%)\",\"values\":[-0.6855551077942376,-0.0940668019749133,-0.5548465341001647,-0.01856948235344926,-0.39744743760450046,0.12679768959169135,0.14865602261265654,0.25555524997842566,-0.5954598892691508,0.5428670487940243,-0.03981344818563145,0.20670349127562343,-0.7613802230457313,-0.06729984236136136,0.19806144915679622,-0.5035058317132018,0.4928315175965869,-0.2986045157302115,-0.4794099138261457,-0.16858674603688117,0.6167726256672103,-0.2627182829684553,-0.3667048589319061,-0.28996247361138383,-0.4447675590494918,-0.4721488858518252,-0.7268435294994513,-0.2614580736618597,0.08736810691734043,-0.3153191946620144,-0.14524173764103498,-0.23658142800820198,-0.14797288485799687,0.1067532337186604,0.6675596602128355,0.4507314870527185,-0.39614226641497524,-0.6854343029563258,0.29412826193119346,0.09344476854004717,0.09817189094727738,-0.01930465438014302,-0.19596807283921525,0.11218405322355306,0.13411882305647893,0.13144837518696112,0.1587690026418501,-0.2700394164332427,0.19612617331397325,0.09474993972957209]},{\"axis\":{\"matches\":true},\"label\":\"PC 4 (0.5%)\",\"values\":[-0.034977861346302985,-0.004453763665294037,-0.009673357380529834,-0.06739784684940414,-0.10554166197880965,0.24052808168915285,0.07830106654969683,0.039389139461580645,0.029102420356239417,0.028348762854349164,-0.01614055733670983,-0.03985145780865962,-0.048353696814420886,0.16455567525261788,-0.10902512149295569,-0.10514128702567033,0.1920594887279305,0.204321214984458,-0.22821450025077109,0.050413197095028894,0.08445152772078827,-0.11424471520819166,0.008448347853649256,0.2734948786687545,-0.04408128952882463,-0.10212100281997366,-0.04082941766890297,-0.06701379087004883,0.03635253628210065,-0.06600770990119395,0.007875279785500391,0.031149261540648506,-0.024459554586736744,0.18341923585385883,0.2555503833885407,0.11114616863477161,-0.03729886575036897,-0.1391286194309468,0.1474910492077766,-0.009947520600186563,0.26984263185569407,0.14772263686200166,-0.007626516196120721,-0.021081470993333278,0.10687376134917538,0.230135986663069,0.1325786402680875,0.01940960513178586,-0.20088337989046767,0.05829527562825371]}],\"hovertemplate\":\"color=versicolor\\u003cbr\\u003e%{xaxis.title.text}=%{x}\\u003cbr\\u003e%{yaxis.title.text}=%{y}\\u003cextra\\u003e\\u003c\\u002fextra\\u003e\",\"legendgroup\":\"versicolor\",\"marker\":{\"color\":\"#EF553B\",\"symbol\":\"circle\"},\"name\":\"versicolor\",\"showlegend\":true,\"type\":\"splom\"},{\"dimensions\":[{\"axis\":{\"matches\":true},\"label\":\"PC 1 (72.8%)\",\"values\":[1.8476725943096641,1.153189808252129,2.2063494971265936,1.438685402326182,1.8678907025555846,2.7541967088257535,0.35837447484166696,2.303005898150319,2.001735299218916,2.2675545991022688,1.3659094292022143,1.599064585651869,1.884251853752074,1.2530865143775913,1.4640615229856222,1.5918093026385287,1.4712801894655438,2.4373784821935094,3.3091411826760795,1.2539809866905773,2.040496259663039,0.9739151144704733,2.8980644358432768,1.329193691323493,1.704240708519606,1.9577276617934356,1.1719045079878685,1.0197810528162627,1.786008861248468,1.8647779127074668,2.4354973914151428,2.3160824119611556,1.860371425852316,1.111271725675969,1.1974691551180376,2.800949403734029,1.5801552485205375,1.347044424354802,0.9234329777663842,1.8535519840664407,2.016157200677759,1.9031168585994873,1.153189808252129,2.04330843928781,2.001690966934998,1.8705220714601252,1.5584918907237166,1.5208450639985904,1.376391190641928,0.959298575616038]},{\"axis\":{\"matches\":true},\"label\":\"PC 2 (23.0%)\",\"values\":[0.8716966617734121,-0.7013261138565751,0.5544701049349215,-0.05001052226888588,0.29119280176116846,0.7884322063548432,-1.5600945839772882,0.40951669522194223,-0.7238653593126597,1.921442991465353,0.6939480398041602,-0.42824883590033996,0.414332757950083,-1.1673913352452452,-0.44414756947912354,0.677035371601851,0.253192471966815,2.5567573414947997,-0.0023613201020844026,-1.7175838442659772,0.9073987650150518,-0.5711743763662659,0.3977913591718666,-0.4867605419037243,1.014148424835784,1.0033345154297757,-0.31889661731056806,0.06554296309664782,-0.1932727998568918,0.5553815315789885,0.24665446806897265,2.626183869022625,-0.18467239440998365,-0.2959861024303904,-0.8171677419136156,0.8447481937849726,1.0724744961271213,0.4222559658955457,0.019230370546893052,0.6724227289716027,0.6103970375551119,0.686024831858698,-0.7013261138565751,0.8646848804720175,1.0485500466234166,0.38282183762299726,-0.9053136014070661,0.2667945748539103,1.0163619287948849,-0.022283944660567077]},{\"axis\":{\"matches\":true},\"label\":\"PC 3 (3.7%)\",\"values\":[1.0027609857792783,0.531464635039821,-0.20549591009804044,0.16339046381870662,0.39400433318681377,-0.5862327043799542,0.9909998953229917,-0.6541666870038296,-0.3940704482697248,0.39251765781193165,0.28327951601832707,0.02330408212213308,0.02454855396421387,0.5821302708905561,1.0041105249947548,0.6366507209624223,0.036657509183675725,-0.1342000817469272,-0.7069339592752083,-0.26462208388224734,0.23187811428391925,0.8295037810733955,-0.8609268420176832,-0.004707349333498199,0.29595787654364186,-0.4228170517520506,0.13065190995584403,0.3380421696229952,0.2700025257687448,-0.7175106833798807,-0.7302340057881256,-0.4996195425630402,0.353330278670382,-0.18265960766060219,-0.1632137815118374,-0.5470009572124542,0.94339260846227,0.18002870593854822,0.41739430346558964,-0.01482032936269276,0.4259149468895272,0.12779936404399186,0.531464635039821,0.33526606052310365,0.6292688881501904,0.2545323186790227,-0.02538190985982774,0.1792772025903605,0.9314050519376975,0.5287941871703032]},{\"axis\":{\"matches\":true},\"label\":\"PC 4 (0.5%)\",\"values\":[0.05106803681426449,0.040413580703351305,-0.059300499635737476,0.2357598611475389,0.016781799560496122,0.10087967431930957,0.13298743787627781,0.2372127984510601,0.08499382235833264,-0.10290729826943189,-0.10701091825611429,-0.05894270024803059,-0.14629696370572098,-0.09968168300115826,-0.2750221725239035,-0.19064561770647762,0.15543592809631268,0.275661550230726,-0.04675618750450169,0.06306740198596329,-0.16714004829710452,-0.02731894781225136,0.12607428552538424,-0.14059787570825133,0.06274037602885989,0.21845913060951735,-0.1256854667685626,0.00906850832618535,-0.031207299118493133,0.20755676787059557,0.016793601695323717,0.21316041756518705,-0.10003948238886591,0.18574024025792463,0.48840399951581426,-0.29632114712786495,-0.03360742285165313,0.21590653855122652,-0.004744245858734546,-0.19487544942664217,-0.24676470154670033,-0.469214420513062,0.040413580703351305,-0.044278197936349566,-0.21258835705263093,-0.38889048746183535,-0.2213221837126169,-0.11890304299010686,-0.0241461952814247,0.16367580601724477]}],\"hovertemplate\":\"color=virginica\\u003cbr\\u003e%{xaxis.title.text}=%{x}\\u003cbr\\u003e%{yaxis.title.text}=%{y}\\u003cextra\\u003e\\u003c\\u002fextra\\u003e\",\"legendgroup\":\"virginica\",\"marker\":{\"color\":\"#00cc96\",\"symbol\":\"circle\"},\"name\":\"virginica\",\"showlegend\":true,\"type\":\"splom\"}],                        {\"template\":{\"data\":{\"histogram2dcontour\":[{\"type\":\"histogram2dcontour\",\"colorbar\":{\"outlinewidth\":0,\"ticks\":\"\"},\"colorscale\":[[0.0,\"#0d0887\"],[0.1111111111111111,\"#46039f\"],[0.2222222222222222,\"#7201a8\"],[0.3333333333333333,\"#9c179e\"],[0.4444444444444444,\"#bd3786\"],[0.5555555555555556,\"#d8576b\"],[0.6666666666666666,\"#ed7953\"],[0.7777777777777778,\"#fb9f3a\"],[0.8888888888888888,\"#fdca26\"],[1.0,\"#f0f921\"]]}],\"choropleth\":[{\"type\":\"choropleth\",\"colorbar\":{\"outlinewidth\":0,\"ticks\":\"\"}}],\"histogram2d\":[{\"type\":\"histogram2d\",\"colorbar\":{\"outlinewidth\":0,\"ticks\":\"\"},\"colorscale\":[[0.0,\"#0d0887\"],[0.1111111111111111,\"#46039f\"],[0.2222222222222222,\"#7201a8\"],[0.3333333333333333,\"#9c179e\"],[0.4444444444444444,\"#bd3786\"],[0.5555555555555556,\"#d8576b\"],[0.6666666666666666,\"#ed7953\"],[0.7777777777777778,\"#fb9f3a\"],[0.8888888888888888,\"#fdca26\"],[1.0,\"#f0f921\"]]}],\"heatmap\":[{\"type\":\"heatmap\",\"colorbar\":{\"outlinewidth\":0,\"ticks\":\"\"},\"colorscale\":[[0.0,\"#0d0887\"],[0.1111111111111111,\"#46039f\"],[0.2222222222222222,\"#7201a8\"],[0.3333333333333333,\"#9c179e\"],[0.4444444444444444,\"#bd3786\"],[0.5555555555555556,\"#d8576b\"],[0.6666666666666666,\"#ed7953\"],[0.7777777777777778,\"#fb9f3a\"],[0.8888888888888888,\"#fdca26\"],[1.0,\"#f0f921\"]]}],\"heatmapgl\":[{\"type\":\"heatmapgl\",\"colorbar\":{\"outlinewidth\":0,\"ticks\":\"\"},\"colorscale\":[[0.0,\"#0d0887\"],[0.1111111111111111,\"#46039f\"],[0.2222222222222222,\"#7201a8\"],[0.3333333333333333,\"#9c179e\"],[0.4444444444444444,\"#bd3786\"],[0.5555555555555556,\"#d8576b\"],[0.6666666666666666,\"#ed7953\"],[0.7777777777777778,\"#fb9f3a\"],[0.8888888888888888,\"#fdca26\"],[1.0,\"#f0f921\"]]}],\"contourcarpet\":[{\"type\":\"contourcarpet\",\"colorbar\":{\"outlinewidth\":0,\"ticks\":\"\"}}],\"contour\":[{\"type\":\"contour\",\"colorbar\":{\"outlinewidth\":0,\"ticks\":\"\"},\"colorscale\":[[0.0,\"#0d0887\"],[0.1111111111111111,\"#46039f\"],[0.2222222222222222,\"#7201a8\"],[0.3333333333333333,\"#9c179e\"],[0.4444444444444444,\"#bd3786\"],[0.5555555555555556,\"#d8576b\"],[0.6666666666666666,\"#ed7953\"],[0.7777777777777778,\"#fb9f3a\"],[0.8888888888888888,\"#fdca26\"],[1.0,\"#f0f921\"]]}],\"surface\":[{\"type\":\"surface\",\"colorbar\":{\"outlinewidth\":0,\"ticks\":\"\"},\"colorscale\":[[0.0,\"#0d0887\"],[0.1111111111111111,\"#46039f\"],[0.2222222222222222,\"#7201a8\"],[0.3333333333333333,\"#9c179e\"],[0.4444444444444444,\"#bd3786\"],[0.5555555555555556,\"#d8576b\"],[0.6666666666666666,\"#ed7953\"],[0.7777777777777778,\"#fb9f3a\"],[0.8888888888888888,\"#fdca26\"],[1.0,\"#f0f921\"]]}],\"mesh3d\":[{\"type\":\"mesh3d\",\"colorbar\":{\"outlinewidth\":0,\"ticks\":\"\"}}],\"scatter\":[{\"fillpattern\":{\"fillmode\":\"overlay\",\"size\":10,\"solidity\":0.2},\"type\":\"scatter\"}],\"parcoords\":[{\"type\":\"parcoords\",\"line\":{\"colorbar\":{\"outlinewidth\":0,\"ticks\":\"\"}}}],\"scatterpolargl\":[{\"type\":\"scatterpolargl\",\"marker\":{\"colorbar\":{\"outlinewidth\":0,\"ticks\":\"\"}}}],\"bar\":[{\"error_x\":{\"color\":\"#2a3f5f\"},\"error_y\":{\"color\":\"#2a3f5f\"},\"marker\":{\"line\":{\"color\":\"#E5ECF6\",\"width\":0.5},\"pattern\":{\"fillmode\":\"overlay\",\"size\":10,\"solidity\":0.2}},\"type\":\"bar\"}],\"scattergeo\":[{\"type\":\"scattergeo\",\"marker\":{\"colorbar\":{\"outlinewidth\":0,\"ticks\":\"\"}}}],\"scatterpolar\":[{\"type\":\"scatterpolar\",\"marker\":{\"colorbar\":{\"outlinewidth\":0,\"ticks\":\"\"}}}],\"histogram\":[{\"marker\":{\"pattern\":{\"fillmode\":\"overlay\",\"size\":10,\"solidity\":0.2}},\"type\":\"histogram\"}],\"scattergl\":[{\"type\":\"scattergl\",\"marker\":{\"colorbar\":{\"outlinewidth\":0,\"ticks\":\"\"}}}],\"scatter3d\":[{\"type\":\"scatter3d\",\"line\":{\"colorbar\":{\"outlinewidth\":0,\"ticks\":\"\"}},\"marker\":{\"colorbar\":{\"outlinewidth\":0,\"ticks\":\"\"}}}],\"scattermapbox\":[{\"type\":\"scattermapbox\",\"marker\":{\"colorbar\":{\"outlinewidth\":0,\"ticks\":\"\"}}}],\"scatterternary\":[{\"type\":\"scatterternary\",\"marker\":{\"colorbar\":{\"outlinewidth\":0,\"ticks\":\"\"}}}],\"scattercarpet\":[{\"type\":\"scattercarpet\",\"marker\":{\"colorbar\":{\"outlinewidth\":0,\"ticks\":\"\"}}}],\"carpet\":[{\"aaxis\":{\"endlinecolor\":\"#2a3f5f\",\"gridcolor\":\"white\",\"linecolor\":\"white\",\"minorgridcolor\":\"white\",\"startlinecolor\":\"#2a3f5f\"},\"baxis\":{\"endlinecolor\":\"#2a3f5f\",\"gridcolor\":\"white\",\"linecolor\":\"white\",\"minorgridcolor\":\"white\",\"startlinecolor\":\"#2a3f5f\"},\"type\":\"carpet\"}],\"table\":[{\"cells\":{\"fill\":{\"color\":\"#EBF0F8\"},\"line\":{\"color\":\"white\"}},\"header\":{\"fill\":{\"color\":\"#C8D4E3\"},\"line\":{\"color\":\"white\"}},\"type\":\"table\"}],\"barpolar\":[{\"marker\":{\"line\":{\"color\":\"#E5ECF6\",\"width\":0.5},\"pattern\":{\"fillmode\":\"overlay\",\"size\":10,\"solidity\":0.2}},\"type\":\"barpolar\"}],\"pie\":[{\"automargin\":true,\"type\":\"pie\"}]},\"layout\":{\"autotypenumbers\":\"strict\",\"colorway\":[\"#636efa\",\"#EF553B\",\"#00cc96\",\"#ab63fa\",\"#FFA15A\",\"#19d3f3\",\"#FF6692\",\"#B6E880\",\"#FF97FF\",\"#FECB52\"],\"font\":{\"color\":\"#2a3f5f\"},\"hovermode\":\"closest\",\"hoverlabel\":{\"align\":\"left\"},\"paper_bgcolor\":\"white\",\"plot_bgcolor\":\"#E5ECF6\",\"polar\":{\"bgcolor\":\"#E5ECF6\",\"angularaxis\":{\"gridcolor\":\"white\",\"linecolor\":\"white\",\"ticks\":\"\"},\"radialaxis\":{\"gridcolor\":\"white\",\"linecolor\":\"white\",\"ticks\":\"\"}},\"ternary\":{\"bgcolor\":\"#E5ECF6\",\"aaxis\":{\"gridcolor\":\"white\",\"linecolor\":\"white\",\"ticks\":\"\"},\"baxis\":{\"gridcolor\":\"white\",\"linecolor\":\"white\",\"ticks\":\"\"},\"caxis\":{\"gridcolor\":\"white\",\"linecolor\":\"white\",\"ticks\":\"\"}},\"coloraxis\":{\"colorbar\":{\"outlinewidth\":0,\"ticks\":\"\"}},\"colorscale\":{\"sequential\":[[0.0,\"#0d0887\"],[0.1111111111111111,\"#46039f\"],[0.2222222222222222,\"#7201a8\"],[0.3333333333333333,\"#9c179e\"],[0.4444444444444444,\"#bd3786\"],[0.5555555555555556,\"#d8576b\"],[0.6666666666666666,\"#ed7953\"],[0.7777777777777778,\"#fb9f3a\"],[0.8888888888888888,\"#fdca26\"],[1.0,\"#f0f921\"]],\"sequentialminus\":[[0.0,\"#0d0887\"],[0.1111111111111111,\"#46039f\"],[0.2222222222222222,\"#7201a8\"],[0.3333333333333333,\"#9c179e\"],[0.4444444444444444,\"#bd3786\"],[0.5555555555555556,\"#d8576b\"],[0.6666666666666666,\"#ed7953\"],[0.7777777777777778,\"#fb9f3a\"],[0.8888888888888888,\"#fdca26\"],[1.0,\"#f0f921\"]],\"diverging\":[[0,\"#8e0152\"],[0.1,\"#c51b7d\"],[0.2,\"#de77ae\"],[0.3,\"#f1b6da\"],[0.4,\"#fde0ef\"],[0.5,\"#f7f7f7\"],[0.6,\"#e6f5d0\"],[0.7,\"#b8e186\"],[0.8,\"#7fbc41\"],[0.9,\"#4d9221\"],[1,\"#276419\"]]},\"xaxis\":{\"gridcolor\":\"white\",\"linecolor\":\"white\",\"ticks\":\"\",\"title\":{\"standoff\":15},\"zerolinecolor\":\"white\",\"automargin\":true,\"zerolinewidth\":2},\"yaxis\":{\"gridcolor\":\"white\",\"linecolor\":\"white\",\"ticks\":\"\",\"title\":{\"standoff\":15},\"zerolinecolor\":\"white\",\"automargin\":true,\"zerolinewidth\":2},\"scene\":{\"xaxis\":{\"backgroundcolor\":\"#E5ECF6\",\"gridcolor\":\"white\",\"linecolor\":\"white\",\"showbackground\":true,\"ticks\":\"\",\"zerolinecolor\":\"white\",\"gridwidth\":2},\"yaxis\":{\"backgroundcolor\":\"#E5ECF6\",\"gridcolor\":\"white\",\"linecolor\":\"white\",\"showbackground\":true,\"ticks\":\"\",\"zerolinecolor\":\"white\",\"gridwidth\":2},\"zaxis\":{\"backgroundcolor\":\"#E5ECF6\",\"gridcolor\":\"white\",\"linecolor\":\"white\",\"showbackground\":true,\"ticks\":\"\",\"zerolinecolor\":\"white\",\"gridwidth\":2}},\"shapedefaults\":{\"line\":{\"color\":\"#2a3f5f\"}},\"annotationdefaults\":{\"arrowcolor\":\"#2a3f5f\",\"arrowhead\":0,\"arrowwidth\":1},\"geo\":{\"bgcolor\":\"white\",\"landcolor\":\"#E5ECF6\",\"subunitcolor\":\"white\",\"showland\":true,\"showlakes\":true,\"lakecolor\":\"white\"},\"title\":{\"x\":0.05},\"mapbox\":{\"style\":\"light\"}}},\"legend\":{\"title\":{\"text\":\"color\"},\"tracegroupgap\":0},\"margin\":{\"t\":60},\"dragmode\":\"select\"},                        {\"responsive\": true}                    ).then(function(){\n",
              "                            \n",
              "var gd = document.getElementById('a79cbd68-fa85-492e-97df-c1ffae0009c0');\n",
              "var x = new MutationObserver(function (mutations, observer) {{\n",
              "        var display = window.getComputedStyle(gd).display;\n",
              "        if (!display || display === 'none') {{\n",
              "            console.log([gd, 'removed!']);\n",
              "            Plotly.purge(gd);\n",
              "            observer.disconnect();\n",
              "        }}\n",
              "}});\n",
              "\n",
              "// Listen for the removal of the full notebook cells\n",
              "var notebookContainer = gd.closest('#notebook-container');\n",
              "if (notebookContainer) {{\n",
              "    x.observe(notebookContainer, {childList: true});\n",
              "}}\n",
              "\n",
              "// Listen for the clearing of the current output cell\n",
              "var outputEl = gd.closest('.output');\n",
              "if (outputEl) {{\n",
              "    x.observe(outputEl, {childList: true});\n",
              "}}\n",
              "\n",
              "                        })                };                            </script>        </div>\n",
              "</body>\n",
              "</html>"
            ]
          },
          "metadata": {}
        }
      ]
    },
    {
      "cell_type": "markdown",
      "source": [
        "Ahora debemos evaluar cual de nuestras 4 componentes principales explica la mayor parte de la varianza. Para ello podemos utilizar la función `explained_variance_ratio_`."
      ],
      "metadata": {
        "id": "iyKc2qE9Ocla"
      }
    },
    {
      "cell_type": "code",
      "source": [
        "exp_var_cumul = np.cumsum(pca.explained_variance_ratio_)\n",
        "\n",
        "fig = px.area(\n",
        "              x=range(1, exp_var_cumul.shape[0] + 1),\n",
        "              y=exp_var_cumul\n",
        ")\n",
        "\n",
        "fig.update_layout(xaxis_type='category')\n",
        "fig.show()"
      ],
      "metadata": {
        "id": "uewiNF2gOccK",
        "outputId": "2f69e77d-e97f-491b-8b5a-ef898e1936c6",
        "colab": {
          "base_uri": "https://localhost:8080/",
          "height": 542
        }
      },
      "execution_count": 5,
      "outputs": [
        {
          "output_type": "display_data",
          "data": {
            "text/html": [
              "<html>\n",
              "<head><meta charset=\"utf-8\" /></head>\n",
              "<body>\n",
              "    <div>            <script src=\"https://cdnjs.cloudflare.com/ajax/libs/mathjax/2.7.5/MathJax.js?config=TeX-AMS-MML_SVG\"></script><script type=\"text/javascript\">if (window.MathJax && window.MathJax.Hub && window.MathJax.Hub.Config) {window.MathJax.Hub.Config({SVG: {font: \"STIX-Web\"}});}</script>                <script type=\"text/javascript\">window.PlotlyConfig = {MathJaxConfig: 'local'};</script>\n",
              "        <script charset=\"utf-8\" src=\"https://cdn.plot.ly/plotly-2.24.1.min.js\"></script>                <div id=\"39fffbcf-9b8d-490c-a9de-2cb1c5743d9c\" class=\"plotly-graph-div\" style=\"height:525px; width:100%;\"></div>            <script type=\"text/javascript\">                                    window.PLOTLYENV=window.PLOTLYENV || {};                                    if (document.getElementById(\"39fffbcf-9b8d-490c-a9de-2cb1c5743d9c\")) {                    Plotly.newPlot(                        \"39fffbcf-9b8d-490c-a9de-2cb1c5743d9c\",                        [{\"fillpattern\":{\"shape\":\"\"},\"hovertemplate\":\"x=%{x}\\u003cbr\\u003ey=%{y}\\u003cextra\\u003e\\u003c\\u002fextra\\u003e\",\"legendgroup\":\"\",\"line\":{\"color\":\"#636efa\"},\"marker\":{\"symbol\":\"circle\"},\"mode\":\"lines\",\"name\":\"\",\"orientation\":\"v\",\"showlegend\":false,\"stackgroup\":\"1\",\"x\":[1,2,3,4],\"xaxis\":\"x\",\"y\":[0.7277045209380139,0.9580097536148198,0.9948480731910938,1.0000000000000002],\"yaxis\":\"y\",\"type\":\"scatter\"}],                        {\"template\":{\"data\":{\"histogram2dcontour\":[{\"type\":\"histogram2dcontour\",\"colorbar\":{\"outlinewidth\":0,\"ticks\":\"\"},\"colorscale\":[[0.0,\"#0d0887\"],[0.1111111111111111,\"#46039f\"],[0.2222222222222222,\"#7201a8\"],[0.3333333333333333,\"#9c179e\"],[0.4444444444444444,\"#bd3786\"],[0.5555555555555556,\"#d8576b\"],[0.6666666666666666,\"#ed7953\"],[0.7777777777777778,\"#fb9f3a\"],[0.8888888888888888,\"#fdca26\"],[1.0,\"#f0f921\"]]}],\"choropleth\":[{\"type\":\"choropleth\",\"colorbar\":{\"outlinewidth\":0,\"ticks\":\"\"}}],\"histogram2d\":[{\"type\":\"histogram2d\",\"colorbar\":{\"outlinewidth\":0,\"ticks\":\"\"},\"colorscale\":[[0.0,\"#0d0887\"],[0.1111111111111111,\"#46039f\"],[0.2222222222222222,\"#7201a8\"],[0.3333333333333333,\"#9c179e\"],[0.4444444444444444,\"#bd3786\"],[0.5555555555555556,\"#d8576b\"],[0.6666666666666666,\"#ed7953\"],[0.7777777777777778,\"#fb9f3a\"],[0.8888888888888888,\"#fdca26\"],[1.0,\"#f0f921\"]]}],\"heatmap\":[{\"type\":\"heatmap\",\"colorbar\":{\"outlinewidth\":0,\"ticks\":\"\"},\"colorscale\":[[0.0,\"#0d0887\"],[0.1111111111111111,\"#46039f\"],[0.2222222222222222,\"#7201a8\"],[0.3333333333333333,\"#9c179e\"],[0.4444444444444444,\"#bd3786\"],[0.5555555555555556,\"#d8576b\"],[0.6666666666666666,\"#ed7953\"],[0.7777777777777778,\"#fb9f3a\"],[0.8888888888888888,\"#fdca26\"],[1.0,\"#f0f921\"]]}],\"heatmapgl\":[{\"type\":\"heatmapgl\",\"colorbar\":{\"outlinewidth\":0,\"ticks\":\"\"},\"colorscale\":[[0.0,\"#0d0887\"],[0.1111111111111111,\"#46039f\"],[0.2222222222222222,\"#7201a8\"],[0.3333333333333333,\"#9c179e\"],[0.4444444444444444,\"#bd3786\"],[0.5555555555555556,\"#d8576b\"],[0.6666666666666666,\"#ed7953\"],[0.7777777777777778,\"#fb9f3a\"],[0.8888888888888888,\"#fdca26\"],[1.0,\"#f0f921\"]]}],\"contourcarpet\":[{\"type\":\"contourcarpet\",\"colorbar\":{\"outlinewidth\":0,\"ticks\":\"\"}}],\"contour\":[{\"type\":\"contour\",\"colorbar\":{\"outlinewidth\":0,\"ticks\":\"\"},\"colorscale\":[[0.0,\"#0d0887\"],[0.1111111111111111,\"#46039f\"],[0.2222222222222222,\"#7201a8\"],[0.3333333333333333,\"#9c179e\"],[0.4444444444444444,\"#bd3786\"],[0.5555555555555556,\"#d8576b\"],[0.6666666666666666,\"#ed7953\"],[0.7777777777777778,\"#fb9f3a\"],[0.8888888888888888,\"#fdca26\"],[1.0,\"#f0f921\"]]}],\"surface\":[{\"type\":\"surface\",\"colorbar\":{\"outlinewidth\":0,\"ticks\":\"\"},\"colorscale\":[[0.0,\"#0d0887\"],[0.1111111111111111,\"#46039f\"],[0.2222222222222222,\"#7201a8\"],[0.3333333333333333,\"#9c179e\"],[0.4444444444444444,\"#bd3786\"],[0.5555555555555556,\"#d8576b\"],[0.6666666666666666,\"#ed7953\"],[0.7777777777777778,\"#fb9f3a\"],[0.8888888888888888,\"#fdca26\"],[1.0,\"#f0f921\"]]}],\"mesh3d\":[{\"type\":\"mesh3d\",\"colorbar\":{\"outlinewidth\":0,\"ticks\":\"\"}}],\"scatter\":[{\"fillpattern\":{\"fillmode\":\"overlay\",\"size\":10,\"solidity\":0.2},\"type\":\"scatter\"}],\"parcoords\":[{\"type\":\"parcoords\",\"line\":{\"colorbar\":{\"outlinewidth\":0,\"ticks\":\"\"}}}],\"scatterpolargl\":[{\"type\":\"scatterpolargl\",\"marker\":{\"colorbar\":{\"outlinewidth\":0,\"ticks\":\"\"}}}],\"bar\":[{\"error_x\":{\"color\":\"#2a3f5f\"},\"error_y\":{\"color\":\"#2a3f5f\"},\"marker\":{\"line\":{\"color\":\"#E5ECF6\",\"width\":0.5},\"pattern\":{\"fillmode\":\"overlay\",\"size\":10,\"solidity\":0.2}},\"type\":\"bar\"}],\"scattergeo\":[{\"type\":\"scattergeo\",\"marker\":{\"colorbar\":{\"outlinewidth\":0,\"ticks\":\"\"}}}],\"scatterpolar\":[{\"type\":\"scatterpolar\",\"marker\":{\"colorbar\":{\"outlinewidth\":0,\"ticks\":\"\"}}}],\"histogram\":[{\"marker\":{\"pattern\":{\"fillmode\":\"overlay\",\"size\":10,\"solidity\":0.2}},\"type\":\"histogram\"}],\"scattergl\":[{\"type\":\"scattergl\",\"marker\":{\"colorbar\":{\"outlinewidth\":0,\"ticks\":\"\"}}}],\"scatter3d\":[{\"type\":\"scatter3d\",\"line\":{\"colorbar\":{\"outlinewidth\":0,\"ticks\":\"\"}},\"marker\":{\"colorbar\":{\"outlinewidth\":0,\"ticks\":\"\"}}}],\"scattermapbox\":[{\"type\":\"scattermapbox\",\"marker\":{\"colorbar\":{\"outlinewidth\":0,\"ticks\":\"\"}}}],\"scatterternary\":[{\"type\":\"scatterternary\",\"marker\":{\"colorbar\":{\"outlinewidth\":0,\"ticks\":\"\"}}}],\"scattercarpet\":[{\"type\":\"scattercarpet\",\"marker\":{\"colorbar\":{\"outlinewidth\":0,\"ticks\":\"\"}}}],\"carpet\":[{\"aaxis\":{\"endlinecolor\":\"#2a3f5f\",\"gridcolor\":\"white\",\"linecolor\":\"white\",\"minorgridcolor\":\"white\",\"startlinecolor\":\"#2a3f5f\"},\"baxis\":{\"endlinecolor\":\"#2a3f5f\",\"gridcolor\":\"white\",\"linecolor\":\"white\",\"minorgridcolor\":\"white\",\"startlinecolor\":\"#2a3f5f\"},\"type\":\"carpet\"}],\"table\":[{\"cells\":{\"fill\":{\"color\":\"#EBF0F8\"},\"line\":{\"color\":\"white\"}},\"header\":{\"fill\":{\"color\":\"#C8D4E3\"},\"line\":{\"color\":\"white\"}},\"type\":\"table\"}],\"barpolar\":[{\"marker\":{\"line\":{\"color\":\"#E5ECF6\",\"width\":0.5},\"pattern\":{\"fillmode\":\"overlay\",\"size\":10,\"solidity\":0.2}},\"type\":\"barpolar\"}],\"pie\":[{\"automargin\":true,\"type\":\"pie\"}]},\"layout\":{\"autotypenumbers\":\"strict\",\"colorway\":[\"#636efa\",\"#EF553B\",\"#00cc96\",\"#ab63fa\",\"#FFA15A\",\"#19d3f3\",\"#FF6692\",\"#B6E880\",\"#FF97FF\",\"#FECB52\"],\"font\":{\"color\":\"#2a3f5f\"},\"hovermode\":\"closest\",\"hoverlabel\":{\"align\":\"left\"},\"paper_bgcolor\":\"white\",\"plot_bgcolor\":\"#E5ECF6\",\"polar\":{\"bgcolor\":\"#E5ECF6\",\"angularaxis\":{\"gridcolor\":\"white\",\"linecolor\":\"white\",\"ticks\":\"\"},\"radialaxis\":{\"gridcolor\":\"white\",\"linecolor\":\"white\",\"ticks\":\"\"}},\"ternary\":{\"bgcolor\":\"#E5ECF6\",\"aaxis\":{\"gridcolor\":\"white\",\"linecolor\":\"white\",\"ticks\":\"\"},\"baxis\":{\"gridcolor\":\"white\",\"linecolor\":\"white\",\"ticks\":\"\"},\"caxis\":{\"gridcolor\":\"white\",\"linecolor\":\"white\",\"ticks\":\"\"}},\"coloraxis\":{\"colorbar\":{\"outlinewidth\":0,\"ticks\":\"\"}},\"colorscale\":{\"sequential\":[[0.0,\"#0d0887\"],[0.1111111111111111,\"#46039f\"],[0.2222222222222222,\"#7201a8\"],[0.3333333333333333,\"#9c179e\"],[0.4444444444444444,\"#bd3786\"],[0.5555555555555556,\"#d8576b\"],[0.6666666666666666,\"#ed7953\"],[0.7777777777777778,\"#fb9f3a\"],[0.8888888888888888,\"#fdca26\"],[1.0,\"#f0f921\"]],\"sequentialminus\":[[0.0,\"#0d0887\"],[0.1111111111111111,\"#46039f\"],[0.2222222222222222,\"#7201a8\"],[0.3333333333333333,\"#9c179e\"],[0.4444444444444444,\"#bd3786\"],[0.5555555555555556,\"#d8576b\"],[0.6666666666666666,\"#ed7953\"],[0.7777777777777778,\"#fb9f3a\"],[0.8888888888888888,\"#fdca26\"],[1.0,\"#f0f921\"]],\"diverging\":[[0,\"#8e0152\"],[0.1,\"#c51b7d\"],[0.2,\"#de77ae\"],[0.3,\"#f1b6da\"],[0.4,\"#fde0ef\"],[0.5,\"#f7f7f7\"],[0.6,\"#e6f5d0\"],[0.7,\"#b8e186\"],[0.8,\"#7fbc41\"],[0.9,\"#4d9221\"],[1,\"#276419\"]]},\"xaxis\":{\"gridcolor\":\"white\",\"linecolor\":\"white\",\"ticks\":\"\",\"title\":{\"standoff\":15},\"zerolinecolor\":\"white\",\"automargin\":true,\"zerolinewidth\":2},\"yaxis\":{\"gridcolor\":\"white\",\"linecolor\":\"white\",\"ticks\":\"\",\"title\":{\"standoff\":15},\"zerolinecolor\":\"white\",\"automargin\":true,\"zerolinewidth\":2},\"scene\":{\"xaxis\":{\"backgroundcolor\":\"#E5ECF6\",\"gridcolor\":\"white\",\"linecolor\":\"white\",\"showbackground\":true,\"ticks\":\"\",\"zerolinecolor\":\"white\",\"gridwidth\":2},\"yaxis\":{\"backgroundcolor\":\"#E5ECF6\",\"gridcolor\":\"white\",\"linecolor\":\"white\",\"showbackground\":true,\"ticks\":\"\",\"zerolinecolor\":\"white\",\"gridwidth\":2},\"zaxis\":{\"backgroundcolor\":\"#E5ECF6\",\"gridcolor\":\"white\",\"linecolor\":\"white\",\"showbackground\":true,\"ticks\":\"\",\"zerolinecolor\":\"white\",\"gridwidth\":2}},\"shapedefaults\":{\"line\":{\"color\":\"#2a3f5f\"}},\"annotationdefaults\":{\"arrowcolor\":\"#2a3f5f\",\"arrowhead\":0,\"arrowwidth\":1},\"geo\":{\"bgcolor\":\"white\",\"landcolor\":\"#E5ECF6\",\"subunitcolor\":\"white\",\"showland\":true,\"showlakes\":true,\"lakecolor\":\"white\"},\"title\":{\"x\":0.05},\"mapbox\":{\"style\":\"light\"}}},\"xaxis\":{\"anchor\":\"y\",\"domain\":[0.0,1.0],\"title\":{\"text\":\"x\"},\"type\":\"category\"},\"yaxis\":{\"anchor\":\"x\",\"domain\":[0.0,1.0],\"title\":{\"text\":\"y\"}},\"legend\":{\"tracegroupgap\":0},\"margin\":{\"t\":60}},                        {\"responsive\": true}                    ).then(function(){\n",
              "                            \n",
              "var gd = document.getElementById('39fffbcf-9b8d-490c-a9de-2cb1c5743d9c');\n",
              "var x = new MutationObserver(function (mutations, observer) {{\n",
              "        var display = window.getComputedStyle(gd).display;\n",
              "        if (!display || display === 'none') {{\n",
              "            console.log([gd, 'removed!']);\n",
              "            Plotly.purge(gd);\n",
              "            observer.disconnect();\n",
              "        }}\n",
              "}});\n",
              "\n",
              "// Listen for the removal of the full notebook cells\n",
              "var notebookContainer = gd.closest('#notebook-container');\n",
              "if (notebookContainer) {{\n",
              "    x.observe(notebookContainer, {childList: true});\n",
              "}}\n",
              "\n",
              "// Listen for the clearing of the current output cell\n",
              "var outputEl = gd.closest('.output');\n",
              "if (outputEl) {{\n",
              "    x.observe(outputEl, {childList: true});\n",
              "}}\n",
              "\n",
              "                        })                };                            </script>        </div>\n",
              "</body>\n",
              "</html>"
            ]
          },
          "metadata": {}
        }
      ]
    },
    {
      "cell_type": "markdown",
      "source": [
        "Se aprecia que con 1 eje podemos explicar aprox. 70% de la varianza y con 2 ejes alcanzamos prácticamente el 90% de la misma.\n",
        "\n",
        "Con el método PCA podemos fijar `n_components` para definir el número de ejes principales con los que nos quedamos. En este caso tomamos n = 2 para llegar al 90% de la varianza como hemos visto en el gráfico anterior."
      ],
      "metadata": {
        "id": "3_4-gN28OOcb"
      }
    },
    {
      "cell_type": "code",
      "source": [
        "pca = PCA(n_components=2)\n",
        "components = pca.fit_transform(df_norm)\n",
        "\n",
        "fig = px.scatter(components,\n",
        "                 x=0,\n",
        "                 y=1,\n",
        "                 color=df['species'])\n",
        "fig.show()"
      ],
      "metadata": {
        "id": "SYR5ErTUKT0N",
        "outputId": "46613bed-09e6-453e-b9cc-46dba13eb6dc",
        "colab": {
          "base_uri": "https://localhost:8080/",
          "height": 542
        }
      },
      "execution_count": 6,
      "outputs": [
        {
          "output_type": "display_data",
          "data": {
            "text/html": [
              "<html>\n",
              "<head><meta charset=\"utf-8\" /></head>\n",
              "<body>\n",
              "    <div>            <script src=\"https://cdnjs.cloudflare.com/ajax/libs/mathjax/2.7.5/MathJax.js?config=TeX-AMS-MML_SVG\"></script><script type=\"text/javascript\">if (window.MathJax && window.MathJax.Hub && window.MathJax.Hub.Config) {window.MathJax.Hub.Config({SVG: {font: \"STIX-Web\"}});}</script>                <script type=\"text/javascript\">window.PlotlyConfig = {MathJaxConfig: 'local'};</script>\n",
              "        <script charset=\"utf-8\" src=\"https://cdn.plot.ly/plotly-2.24.1.min.js\"></script>                <div id=\"bbbd3474-81cc-4d0b-a56d-effae1bc36ad\" class=\"plotly-graph-div\" style=\"height:525px; width:100%;\"></div>            <script type=\"text/javascript\">                                    window.PLOTLYENV=window.PLOTLYENV || {};                                    if (document.getElementById(\"bbbd3474-81cc-4d0b-a56d-effae1bc36ad\")) {                    Plotly.newPlot(                        \"bbbd3474-81cc-4d0b-a56d-effae1bc36ad\",                        [{\"hovertemplate\":\"color=setosa\\u003cbr\\u003e0=%{x}\\u003cbr\\u003e1=%{y}\\u003cextra\\u003e\\u003c\\u002fextra\\u003e\",\"legendgroup\":\"setosa\",\"marker\":{\"color\":\"#636efa\",\"symbol\":\"circle\"},\"mode\":\"markers\",\"name\":\"setosa\",\"orientation\":\"v\",\"showlegend\":true,\"x\":[-2.264541728394903,-2.086425500616159,-2.3679504490625254,-2.3041971611520093,-2.3887774935056414,-2.0705368071805528,-2.445711339630283,-2.2338418587092654,-2.34195767645539,-2.18867575528087,-2.1634865562665224,-2.3273777541343734,-2.224082722045002,-2.6397162608446307,-2.1922915084984287,-2.2514652145840643,-2.2027504800800846,-2.190179163791052,-1.8940742930236678,-2.339949070423408,-1.914556394959517,-2.2046453975338136,-2.774169793705157,-1.820411563337214,-2.2282174994597246,-1.957024007341397,-2.052063311276686,-2.168193653345021,-2.140305963284157,-2.268790194387877,-2.144554429277135,-1.831938102201587,-2.608202867663347,-2.4379508590951415,-2.18867575528087,-2.211119896812422,-2.0444165193198,-2.18867575528087,-2.43595220296602,-2.17054720188427,-2.28652723884093,-1.8717072235369512,-2.5578344195375124,-1.964279290354737,-2.133372832920028,-2.0753575928373063,-2.381258216802373,-2.398191687662639,-2.226781213091518,-2.205954168648402],\"xaxis\":\"x\",\"y\":[0.5057039027737854,-0.6554047293691353,-0.3184773108472479,-0.575367712533194,0.6747673967025161,1.5185485598885133,0.07456267500687529,0.24761393175226606,-1.0951463625829536,-0.448629048337558,1.0705955760377266,0.1585874546594771,-0.7091181580302248,-0.9382819821078524,1.8899785123164652,2.722371076574468,1.5137502825462186,0.5143043082206933,1.4311107069412365,1.1580334289850016,0.4304651632801385,0.9524573172889989,0.4895170265034962,0.1067507928354069,0.16218616266619806,-0.6078925674838068,0.266014311981656,0.5520164953235404,0.3366404088450549,-0.31487860284052693,-0.4839420967692577,0.4452668355028074,1.8284751927341019,2.1853916156308926,-0.448629048337558,-0.18433781054027776,0.6849564262949368,-0.448629048337558,-0.8821694147756153,0.292726954966447,0.46799171567093856,-2.327691606114908,-0.45381638048979167,0.497391640018384,1.1714321117742044,-0.6919173471364086,1.1506325928736671,-0.36239076472585574,1.0254825528235452,0.03223784527378045],\"yaxis\":\"y\",\"type\":\"scatter\"},{\"hovertemplate\":\"color=versicolor\\u003cbr\\u003e0=%{x}\\u003cbr\\u003e1=%{y}\\u003cextra\\u003e\\u003c\\u002fextra\\u003e\",\"legendgroup\":\"versicolor\",\"marker\":{\"color\":\"#EF553B\",\"symbol\":\"circle\"},\"mode\":\"markers\",\"name\":\"versicolor\",\"orientation\":\"v\",\"showlegend\":true,\"x\":[1.1039936528045724,0.7324814400086811,1.2421095053189377,0.39730728282332667,1.0725939482015452,0.3844581461690014,0.748715075951553,-0.4978633877981187,0.9262223675330982,0.004968025584318912,-0.12469746138037142,0.4387301177805466,0.5516339814225069,0.7171650662368512,-0.03725838296568848,0.8758905359406831,0.3480064019802085,0.15339254456866683,1.2153032092161533,0.15694117564425022,0.7382561043698959,0.4723696823445683,1.227988214083442,0.6293810453149018,0.700472799208458,0.8735369874014338,1.25422219052245,1.3582398473872717,0.6621261375659376,-0.04728151331988043,0.1215342088801184,0.014118226051387451,0.23601083732659658,1.0566914280905764,0.22141708833021778,0.4317831607410538,1.0494133552191802,1.035878210322824,0.06706759987298037,0.2754250662518338,0.27233506626177184,0.6231705397262216,0.3300053638372262,-0.37362762268737654,0.2829443429551024,0.08905311031901143,0.22435678320860586,0.573883485558467,-0.45701287250467554,0.2522444732694691],\"xaxis\":\"x\",\"y\":[0.8631124458513231,0.5986355733419966,0.6148224496122856,-1.7581689474435254,-0.21175790267989614,-0.591062468622736,0.7786986113887813,-1.848868771275441,0.030330826783380508,-1.029401112403087,-2.6580626779617584,-0.058881285021454434,-1.7725815648562546,-0.18543431450504394,-0.4327950987141686,0.5099981510591466,-0.19062164665727752,-0.7907254562344849,-1.6333556445154827,-1.3031032701729102,0.4024703816185357,-0.41660822244387946,-0.9409147925302723,-0.4168116425417721,-0.06349392765170268,0.2507086107020533,-0.0826200998131133,0.32882026627040106,-0.22434607094346423,-1.05721241260502,-1.5635923798655769,-1.5733923546480586,-0.7759237840118158,-0.6369012837689367,-0.2808476930856398,0.8551369202180022,0.5221972645127757,-1.392466484387781,-0.2126207348933884,-1.3298159131577014,-1.1194415241194033,0.027542633302294273,-0.9889007318191543,-2.017932265204172,-0.8539507169865493,-0.17490854779054144,-0.38048465948654514,-0.15371997408006519,-1.53946451026398,-0.5958607459650307],\"yaxis\":\"y\",\"type\":\"scatter\"},{\"hovertemplate\":\"color=virginica\\u003cbr\\u003e0=%{x}\\u003cbr\\u003e1=%{y}\\u003cextra\\u003e\\u003c\\u002fextra\\u003e\",\"legendgroup\":\"virginica\",\"marker\":{\"color\":\"#00cc96\",\"symbol\":\"circle\"},\"mode\":\"markers\",\"name\":\"virginica\",\"orientation\":\"v\",\"showlegend\":true,\"x\":[1.8476725943096641,1.153189808252129,2.2063494971265936,1.438685402326182,1.8678907025555846,2.7541967088257535,0.35837447484166696,2.303005898150319,2.001735299218916,2.2675545991022688,1.3659094292022143,1.599064585651869,1.884251853752074,1.2530865143775913,1.4640615229856222,1.5918093026385287,1.4712801894655438,2.4373784821935094,3.3091411826760795,1.2539809866905773,2.040496259663039,0.9739151144704733,2.8980644358432768,1.329193691323493,1.704240708519606,1.9577276617934356,1.1719045079878685,1.0197810528162627,1.786008861248468,1.8647779127074668,2.4354973914151428,2.3160824119611556,1.860371425852316,1.111271725675969,1.1974691551180376,2.800949403734029,1.5801552485205375,1.347044424354802,0.9234329777663842,1.8535519840664407,2.016157200677759,1.9031168585994873,1.153189808252129,2.04330843928781,2.001690966934998,1.8705220714601252,1.5584918907237166,1.5208450639985904,1.376391190641928,0.959298575616038],\"xaxis\":\"x\",\"y\":[0.8716966617734121,-0.7013261138565751,0.5544701049349215,-0.05001052226888588,0.29119280176116846,0.7884322063548432,-1.5600945839772882,0.40951669522194223,-0.7238653593126597,1.921442991465353,0.6939480398041602,-0.42824883590033996,0.414332757950083,-1.1673913352452452,-0.44414756947912354,0.677035371601851,0.253192471966815,2.5567573414947997,-0.0023613201020844026,-1.7175838442659772,0.9073987650150518,-0.5711743763662659,0.3977913591718666,-0.4867605419037243,1.014148424835784,1.0033345154297757,-0.31889661731056806,0.06554296309664782,-0.1932727998568918,0.5553815315789885,0.24665446806897265,2.626183869022625,-0.18467239440998365,-0.2959861024303904,-0.8171677419136156,0.8447481937849726,1.0724744961271213,0.4222559658955457,0.019230370546893052,0.6724227289716027,0.6103970375551119,0.686024831858698,-0.7013261138565751,0.8646848804720175,1.0485500466234166,0.38282183762299726,-0.9053136014070661,0.2667945748539103,1.0163619287948849,-0.022283944660567077],\"yaxis\":\"y\",\"type\":\"scatter\"}],                        {\"template\":{\"data\":{\"histogram2dcontour\":[{\"type\":\"histogram2dcontour\",\"colorbar\":{\"outlinewidth\":0,\"ticks\":\"\"},\"colorscale\":[[0.0,\"#0d0887\"],[0.1111111111111111,\"#46039f\"],[0.2222222222222222,\"#7201a8\"],[0.3333333333333333,\"#9c179e\"],[0.4444444444444444,\"#bd3786\"],[0.5555555555555556,\"#d8576b\"],[0.6666666666666666,\"#ed7953\"],[0.7777777777777778,\"#fb9f3a\"],[0.8888888888888888,\"#fdca26\"],[1.0,\"#f0f921\"]]}],\"choropleth\":[{\"type\":\"choropleth\",\"colorbar\":{\"outlinewidth\":0,\"ticks\":\"\"}}],\"histogram2d\":[{\"type\":\"histogram2d\",\"colorbar\":{\"outlinewidth\":0,\"ticks\":\"\"},\"colorscale\":[[0.0,\"#0d0887\"],[0.1111111111111111,\"#46039f\"],[0.2222222222222222,\"#7201a8\"],[0.3333333333333333,\"#9c179e\"],[0.4444444444444444,\"#bd3786\"],[0.5555555555555556,\"#d8576b\"],[0.6666666666666666,\"#ed7953\"],[0.7777777777777778,\"#fb9f3a\"],[0.8888888888888888,\"#fdca26\"],[1.0,\"#f0f921\"]]}],\"heatmap\":[{\"type\":\"heatmap\",\"colorbar\":{\"outlinewidth\":0,\"ticks\":\"\"},\"colorscale\":[[0.0,\"#0d0887\"],[0.1111111111111111,\"#46039f\"],[0.2222222222222222,\"#7201a8\"],[0.3333333333333333,\"#9c179e\"],[0.4444444444444444,\"#bd3786\"],[0.5555555555555556,\"#d8576b\"],[0.6666666666666666,\"#ed7953\"],[0.7777777777777778,\"#fb9f3a\"],[0.8888888888888888,\"#fdca26\"],[1.0,\"#f0f921\"]]}],\"heatmapgl\":[{\"type\":\"heatmapgl\",\"colorbar\":{\"outlinewidth\":0,\"ticks\":\"\"},\"colorscale\":[[0.0,\"#0d0887\"],[0.1111111111111111,\"#46039f\"],[0.2222222222222222,\"#7201a8\"],[0.3333333333333333,\"#9c179e\"],[0.4444444444444444,\"#bd3786\"],[0.5555555555555556,\"#d8576b\"],[0.6666666666666666,\"#ed7953\"],[0.7777777777777778,\"#fb9f3a\"],[0.8888888888888888,\"#fdca26\"],[1.0,\"#f0f921\"]]}],\"contourcarpet\":[{\"type\":\"contourcarpet\",\"colorbar\":{\"outlinewidth\":0,\"ticks\":\"\"}}],\"contour\":[{\"type\":\"contour\",\"colorbar\":{\"outlinewidth\":0,\"ticks\":\"\"},\"colorscale\":[[0.0,\"#0d0887\"],[0.1111111111111111,\"#46039f\"],[0.2222222222222222,\"#7201a8\"],[0.3333333333333333,\"#9c179e\"],[0.4444444444444444,\"#bd3786\"],[0.5555555555555556,\"#d8576b\"],[0.6666666666666666,\"#ed7953\"],[0.7777777777777778,\"#fb9f3a\"],[0.8888888888888888,\"#fdca26\"],[1.0,\"#f0f921\"]]}],\"surface\":[{\"type\":\"surface\",\"colorbar\":{\"outlinewidth\":0,\"ticks\":\"\"},\"colorscale\":[[0.0,\"#0d0887\"],[0.1111111111111111,\"#46039f\"],[0.2222222222222222,\"#7201a8\"],[0.3333333333333333,\"#9c179e\"],[0.4444444444444444,\"#bd3786\"],[0.5555555555555556,\"#d8576b\"],[0.6666666666666666,\"#ed7953\"],[0.7777777777777778,\"#fb9f3a\"],[0.8888888888888888,\"#fdca26\"],[1.0,\"#f0f921\"]]}],\"mesh3d\":[{\"type\":\"mesh3d\",\"colorbar\":{\"outlinewidth\":0,\"ticks\":\"\"}}],\"scatter\":[{\"fillpattern\":{\"fillmode\":\"overlay\",\"size\":10,\"solidity\":0.2},\"type\":\"scatter\"}],\"parcoords\":[{\"type\":\"parcoords\",\"line\":{\"colorbar\":{\"outlinewidth\":0,\"ticks\":\"\"}}}],\"scatterpolargl\":[{\"type\":\"scatterpolargl\",\"marker\":{\"colorbar\":{\"outlinewidth\":0,\"ticks\":\"\"}}}],\"bar\":[{\"error_x\":{\"color\":\"#2a3f5f\"},\"error_y\":{\"color\":\"#2a3f5f\"},\"marker\":{\"line\":{\"color\":\"#E5ECF6\",\"width\":0.5},\"pattern\":{\"fillmode\":\"overlay\",\"size\":10,\"solidity\":0.2}},\"type\":\"bar\"}],\"scattergeo\":[{\"type\":\"scattergeo\",\"marker\":{\"colorbar\":{\"outlinewidth\":0,\"ticks\":\"\"}}}],\"scatterpolar\":[{\"type\":\"scatterpolar\",\"marker\":{\"colorbar\":{\"outlinewidth\":0,\"ticks\":\"\"}}}],\"histogram\":[{\"marker\":{\"pattern\":{\"fillmode\":\"overlay\",\"size\":10,\"solidity\":0.2}},\"type\":\"histogram\"}],\"scattergl\":[{\"type\":\"scattergl\",\"marker\":{\"colorbar\":{\"outlinewidth\":0,\"ticks\":\"\"}}}],\"scatter3d\":[{\"type\":\"scatter3d\",\"line\":{\"colorbar\":{\"outlinewidth\":0,\"ticks\":\"\"}},\"marker\":{\"colorbar\":{\"outlinewidth\":0,\"ticks\":\"\"}}}],\"scattermapbox\":[{\"type\":\"scattermapbox\",\"marker\":{\"colorbar\":{\"outlinewidth\":0,\"ticks\":\"\"}}}],\"scatterternary\":[{\"type\":\"scatterternary\",\"marker\":{\"colorbar\":{\"outlinewidth\":0,\"ticks\":\"\"}}}],\"scattercarpet\":[{\"type\":\"scattercarpet\",\"marker\":{\"colorbar\":{\"outlinewidth\":0,\"ticks\":\"\"}}}],\"carpet\":[{\"aaxis\":{\"endlinecolor\":\"#2a3f5f\",\"gridcolor\":\"white\",\"linecolor\":\"white\",\"minorgridcolor\":\"white\",\"startlinecolor\":\"#2a3f5f\"},\"baxis\":{\"endlinecolor\":\"#2a3f5f\",\"gridcolor\":\"white\",\"linecolor\":\"white\",\"minorgridcolor\":\"white\",\"startlinecolor\":\"#2a3f5f\"},\"type\":\"carpet\"}],\"table\":[{\"cells\":{\"fill\":{\"color\":\"#EBF0F8\"},\"line\":{\"color\":\"white\"}},\"header\":{\"fill\":{\"color\":\"#C8D4E3\"},\"line\":{\"color\":\"white\"}},\"type\":\"table\"}],\"barpolar\":[{\"marker\":{\"line\":{\"color\":\"#E5ECF6\",\"width\":0.5},\"pattern\":{\"fillmode\":\"overlay\",\"size\":10,\"solidity\":0.2}},\"type\":\"barpolar\"}],\"pie\":[{\"automargin\":true,\"type\":\"pie\"}]},\"layout\":{\"autotypenumbers\":\"strict\",\"colorway\":[\"#636efa\",\"#EF553B\",\"#00cc96\",\"#ab63fa\",\"#FFA15A\",\"#19d3f3\",\"#FF6692\",\"#B6E880\",\"#FF97FF\",\"#FECB52\"],\"font\":{\"color\":\"#2a3f5f\"},\"hovermode\":\"closest\",\"hoverlabel\":{\"align\":\"left\"},\"paper_bgcolor\":\"white\",\"plot_bgcolor\":\"#E5ECF6\",\"polar\":{\"bgcolor\":\"#E5ECF6\",\"angularaxis\":{\"gridcolor\":\"white\",\"linecolor\":\"white\",\"ticks\":\"\"},\"radialaxis\":{\"gridcolor\":\"white\",\"linecolor\":\"white\",\"ticks\":\"\"}},\"ternary\":{\"bgcolor\":\"#E5ECF6\",\"aaxis\":{\"gridcolor\":\"white\",\"linecolor\":\"white\",\"ticks\":\"\"},\"baxis\":{\"gridcolor\":\"white\",\"linecolor\":\"white\",\"ticks\":\"\"},\"caxis\":{\"gridcolor\":\"white\",\"linecolor\":\"white\",\"ticks\":\"\"}},\"coloraxis\":{\"colorbar\":{\"outlinewidth\":0,\"ticks\":\"\"}},\"colorscale\":{\"sequential\":[[0.0,\"#0d0887\"],[0.1111111111111111,\"#46039f\"],[0.2222222222222222,\"#7201a8\"],[0.3333333333333333,\"#9c179e\"],[0.4444444444444444,\"#bd3786\"],[0.5555555555555556,\"#d8576b\"],[0.6666666666666666,\"#ed7953\"],[0.7777777777777778,\"#fb9f3a\"],[0.8888888888888888,\"#fdca26\"],[1.0,\"#f0f921\"]],\"sequentialminus\":[[0.0,\"#0d0887\"],[0.1111111111111111,\"#46039f\"],[0.2222222222222222,\"#7201a8\"],[0.3333333333333333,\"#9c179e\"],[0.4444444444444444,\"#bd3786\"],[0.5555555555555556,\"#d8576b\"],[0.6666666666666666,\"#ed7953\"],[0.7777777777777778,\"#fb9f3a\"],[0.8888888888888888,\"#fdca26\"],[1.0,\"#f0f921\"]],\"diverging\":[[0,\"#8e0152\"],[0.1,\"#c51b7d\"],[0.2,\"#de77ae\"],[0.3,\"#f1b6da\"],[0.4,\"#fde0ef\"],[0.5,\"#f7f7f7\"],[0.6,\"#e6f5d0\"],[0.7,\"#b8e186\"],[0.8,\"#7fbc41\"],[0.9,\"#4d9221\"],[1,\"#276419\"]]},\"xaxis\":{\"gridcolor\":\"white\",\"linecolor\":\"white\",\"ticks\":\"\",\"title\":{\"standoff\":15},\"zerolinecolor\":\"white\",\"automargin\":true,\"zerolinewidth\":2},\"yaxis\":{\"gridcolor\":\"white\",\"linecolor\":\"white\",\"ticks\":\"\",\"title\":{\"standoff\":15},\"zerolinecolor\":\"white\",\"automargin\":true,\"zerolinewidth\":2},\"scene\":{\"xaxis\":{\"backgroundcolor\":\"#E5ECF6\",\"gridcolor\":\"white\",\"linecolor\":\"white\",\"showbackground\":true,\"ticks\":\"\",\"zerolinecolor\":\"white\",\"gridwidth\":2},\"yaxis\":{\"backgroundcolor\":\"#E5ECF6\",\"gridcolor\":\"white\",\"linecolor\":\"white\",\"showbackground\":true,\"ticks\":\"\",\"zerolinecolor\":\"white\",\"gridwidth\":2},\"zaxis\":{\"backgroundcolor\":\"#E5ECF6\",\"gridcolor\":\"white\",\"linecolor\":\"white\",\"showbackground\":true,\"ticks\":\"\",\"zerolinecolor\":\"white\",\"gridwidth\":2}},\"shapedefaults\":{\"line\":{\"color\":\"#2a3f5f\"}},\"annotationdefaults\":{\"arrowcolor\":\"#2a3f5f\",\"arrowhead\":0,\"arrowwidth\":1},\"geo\":{\"bgcolor\":\"white\",\"landcolor\":\"#E5ECF6\",\"subunitcolor\":\"white\",\"showland\":true,\"showlakes\":true,\"lakecolor\":\"white\"},\"title\":{\"x\":0.05},\"mapbox\":{\"style\":\"light\"}}},\"xaxis\":{\"anchor\":\"y\",\"domain\":[0.0,1.0],\"title\":{\"text\":\"0\"}},\"yaxis\":{\"anchor\":\"x\",\"domain\":[0.0,1.0],\"title\":{\"text\":\"1\"}},\"legend\":{\"title\":{\"text\":\"color\"},\"tracegroupgap\":0},\"margin\":{\"t\":60}},                        {\"responsive\": true}                    ).then(function(){\n",
              "                            \n",
              "var gd = document.getElementById('bbbd3474-81cc-4d0b-a56d-effae1bc36ad');\n",
              "var x = new MutationObserver(function (mutations, observer) {{\n",
              "        var display = window.getComputedStyle(gd).display;\n",
              "        if (!display || display === 'none') {{\n",
              "            console.log([gd, 'removed!']);\n",
              "            Plotly.purge(gd);\n",
              "            observer.disconnect();\n",
              "        }}\n",
              "}});\n",
              "\n",
              "// Listen for the removal of the full notebook cells\n",
              "var notebookContainer = gd.closest('#notebook-container');\n",
              "if (notebookContainer) {{\n",
              "    x.observe(notebookContainer, {childList: true});\n",
              "}}\n",
              "\n",
              "// Listen for the clearing of the current output cell\n",
              "var outputEl = gd.closest('.output');\n",
              "if (outputEl) {{\n",
              "    x.observe(outputEl, {childList: true});\n",
              "}}\n",
              "\n",
              "                        })                };                            </script>        </div>\n",
              "</body>\n",
              "</html>"
            ]
          },
          "metadata": {}
        }
      ]
    },
    {
      "cell_type": "markdown",
      "source": [
        "Finalmente podemos combinar todo de manera gráfica en un solo scatterplot: tanto los datapoints como las componentes principales que hemos seleccionado. Para ello dibujaremos los autovectores con un autovalor unitario definido por la raiz del mismo.\n",
        "\n",
        "$loading = autovector * \\sqrt autovalor$"
      ],
      "metadata": {
        "id": "_nGGrVmBTEsm"
      }
    },
    {
      "cell_type": "code",
      "source": [
        "\n",
        "loadings = pca.components_.T * np.sqrt(pca.explained_variance_) # Calculamos los loadings\n",
        "\n",
        "fig = px.scatter(components, x=0, y=1, color=df['species']) # Graficamos los datapoints\n",
        "\n",
        "for i, feature in enumerate(features):\n",
        "    fig.add_annotation(\n",
        "        ax=0, ay=0,\n",
        "        axref=\"x\", ayref=\"y\",\n",
        "        x=loadings[i, 0],\n",
        "        y=loadings[i, 1],\n",
        "        showarrow=True,\n",
        "        arrowsize=2,\n",
        "        arrowhead=2,\n",
        "        xanchor=\"right\",\n",
        "        yanchor=\"top\"\n",
        "    )\n",
        "    fig.add_annotation(\n",
        "        x=loadings[i, 0],\n",
        "        y=loadings[i, 1],\n",
        "        ax=0, ay=0,\n",
        "        xanchor=\"center\",\n",
        "        yanchor=\"bottom\",\n",
        "        text=feature,\n",
        "        yshift=5,\n",
        "    )\n",
        "fig.show()"
      ],
      "metadata": {
        "id": "oVHEQpG8TFjK",
        "outputId": "fe16d444-43b1-4e15-f6d1-8861e24e10f0",
        "colab": {
          "base_uri": "https://localhost:8080/",
          "height": 542
        }
      },
      "execution_count": 7,
      "outputs": [
        {
          "output_type": "display_data",
          "data": {
            "text/html": [
              "<html>\n",
              "<head><meta charset=\"utf-8\" /></head>\n",
              "<body>\n",
              "    <div>            <script src=\"https://cdnjs.cloudflare.com/ajax/libs/mathjax/2.7.5/MathJax.js?config=TeX-AMS-MML_SVG\"></script><script type=\"text/javascript\">if (window.MathJax && window.MathJax.Hub && window.MathJax.Hub.Config) {window.MathJax.Hub.Config({SVG: {font: \"STIX-Web\"}});}</script>                <script type=\"text/javascript\">window.PlotlyConfig = {MathJaxConfig: 'local'};</script>\n",
              "        <script charset=\"utf-8\" src=\"https://cdn.plot.ly/plotly-2.24.1.min.js\"></script>                <div id=\"51e05a3a-3554-4eb3-9823-ff9ca2f41ef6\" class=\"plotly-graph-div\" style=\"height:525px; width:100%;\"></div>            <script type=\"text/javascript\">                                    window.PLOTLYENV=window.PLOTLYENV || {};                                    if (document.getElementById(\"51e05a3a-3554-4eb3-9823-ff9ca2f41ef6\")) {                    Plotly.newPlot(                        \"51e05a3a-3554-4eb3-9823-ff9ca2f41ef6\",                        [{\"hovertemplate\":\"color=setosa\\u003cbr\\u003e0=%{x}\\u003cbr\\u003e1=%{y}\\u003cextra\\u003e\\u003c\\u002fextra\\u003e\",\"legendgroup\":\"setosa\",\"marker\":{\"color\":\"#636efa\",\"symbol\":\"circle\"},\"mode\":\"markers\",\"name\":\"setosa\",\"orientation\":\"v\",\"showlegend\":true,\"x\":[-2.264541728394903,-2.086425500616159,-2.3679504490625254,-2.3041971611520093,-2.3887774935056414,-2.0705368071805528,-2.445711339630283,-2.2338418587092654,-2.34195767645539,-2.18867575528087,-2.1634865562665224,-2.3273777541343734,-2.224082722045002,-2.6397162608446307,-2.1922915084984287,-2.2514652145840643,-2.2027504800800846,-2.190179163791052,-1.8940742930236678,-2.339949070423408,-1.914556394959517,-2.2046453975338136,-2.774169793705157,-1.820411563337214,-2.2282174994597246,-1.957024007341397,-2.052063311276686,-2.168193653345021,-2.140305963284157,-2.268790194387877,-2.144554429277135,-1.831938102201587,-2.608202867663347,-2.4379508590951415,-2.18867575528087,-2.211119896812422,-2.0444165193198,-2.18867575528087,-2.43595220296602,-2.17054720188427,-2.28652723884093,-1.8717072235369512,-2.5578344195375124,-1.964279290354737,-2.133372832920028,-2.0753575928373063,-2.381258216802373,-2.398191687662639,-2.226781213091518,-2.205954168648402],\"xaxis\":\"x\",\"y\":[0.5057039027737854,-0.6554047293691353,-0.3184773108472479,-0.575367712533194,0.6747673967025161,1.5185485598885133,0.07456267500687529,0.24761393175226606,-1.0951463625829536,-0.448629048337558,1.0705955760377266,0.1585874546594771,-0.7091181580302248,-0.9382819821078524,1.8899785123164652,2.722371076574468,1.5137502825462186,0.5143043082206933,1.4311107069412365,1.1580334289850016,0.4304651632801385,0.9524573172889989,0.4895170265034962,0.1067507928354069,0.16218616266619806,-0.6078925674838068,0.266014311981656,0.5520164953235404,0.3366404088450549,-0.31487860284052693,-0.4839420967692577,0.4452668355028074,1.8284751927341019,2.1853916156308926,-0.448629048337558,-0.18433781054027776,0.6849564262949368,-0.448629048337558,-0.8821694147756153,0.292726954966447,0.46799171567093856,-2.327691606114908,-0.45381638048979167,0.497391640018384,1.1714321117742044,-0.6919173471364086,1.1506325928736671,-0.36239076472585574,1.0254825528235452,0.03223784527378045],\"yaxis\":\"y\",\"type\":\"scatter\"},{\"hovertemplate\":\"color=versicolor\\u003cbr\\u003e0=%{x}\\u003cbr\\u003e1=%{y}\\u003cextra\\u003e\\u003c\\u002fextra\\u003e\",\"legendgroup\":\"versicolor\",\"marker\":{\"color\":\"#EF553B\",\"symbol\":\"circle\"},\"mode\":\"markers\",\"name\":\"versicolor\",\"orientation\":\"v\",\"showlegend\":true,\"x\":[1.1039936528045724,0.7324814400086811,1.2421095053189377,0.39730728282332667,1.0725939482015452,0.3844581461690014,0.748715075951553,-0.4978633877981187,0.9262223675330982,0.004968025584318912,-0.12469746138037142,0.4387301177805466,0.5516339814225069,0.7171650662368512,-0.03725838296568848,0.8758905359406831,0.3480064019802085,0.15339254456866683,1.2153032092161533,0.15694117564425022,0.7382561043698959,0.4723696823445683,1.227988214083442,0.6293810453149018,0.700472799208458,0.8735369874014338,1.25422219052245,1.3582398473872717,0.6621261375659376,-0.04728151331988043,0.1215342088801184,0.014118226051387451,0.23601083732659658,1.0566914280905764,0.22141708833021778,0.4317831607410538,1.0494133552191802,1.035878210322824,0.06706759987298037,0.2754250662518338,0.27233506626177184,0.6231705397262216,0.3300053638372262,-0.37362762268737654,0.2829443429551024,0.08905311031901143,0.22435678320860586,0.573883485558467,-0.45701287250467554,0.2522444732694691],\"xaxis\":\"x\",\"y\":[0.8631124458513231,0.5986355733419966,0.6148224496122856,-1.7581689474435254,-0.21175790267989614,-0.591062468622736,0.7786986113887813,-1.848868771275441,0.030330826783380508,-1.029401112403087,-2.6580626779617584,-0.058881285021454434,-1.7725815648562546,-0.18543431450504394,-0.4327950987141686,0.5099981510591466,-0.19062164665727752,-0.7907254562344849,-1.6333556445154827,-1.3031032701729102,0.4024703816185357,-0.41660822244387946,-0.9409147925302723,-0.4168116425417721,-0.06349392765170268,0.2507086107020533,-0.0826200998131133,0.32882026627040106,-0.22434607094346423,-1.05721241260502,-1.5635923798655769,-1.5733923546480586,-0.7759237840118158,-0.6369012837689367,-0.2808476930856398,0.8551369202180022,0.5221972645127757,-1.392466484387781,-0.2126207348933884,-1.3298159131577014,-1.1194415241194033,0.027542633302294273,-0.9889007318191543,-2.017932265204172,-0.8539507169865493,-0.17490854779054144,-0.38048465948654514,-0.15371997408006519,-1.53946451026398,-0.5958607459650307],\"yaxis\":\"y\",\"type\":\"scatter\"},{\"hovertemplate\":\"color=virginica\\u003cbr\\u003e0=%{x}\\u003cbr\\u003e1=%{y}\\u003cextra\\u003e\\u003c\\u002fextra\\u003e\",\"legendgroup\":\"virginica\",\"marker\":{\"color\":\"#00cc96\",\"symbol\":\"circle\"},\"mode\":\"markers\",\"name\":\"virginica\",\"orientation\":\"v\",\"showlegend\":true,\"x\":[1.8476725943096641,1.153189808252129,2.2063494971265936,1.438685402326182,1.8678907025555846,2.7541967088257535,0.35837447484166696,2.303005898150319,2.001735299218916,2.2675545991022688,1.3659094292022143,1.599064585651869,1.884251853752074,1.2530865143775913,1.4640615229856222,1.5918093026385287,1.4712801894655438,2.4373784821935094,3.3091411826760795,1.2539809866905773,2.040496259663039,0.9739151144704733,2.8980644358432768,1.329193691323493,1.704240708519606,1.9577276617934356,1.1719045079878685,1.0197810528162627,1.786008861248468,1.8647779127074668,2.4354973914151428,2.3160824119611556,1.860371425852316,1.111271725675969,1.1974691551180376,2.800949403734029,1.5801552485205375,1.347044424354802,0.9234329777663842,1.8535519840664407,2.016157200677759,1.9031168585994873,1.153189808252129,2.04330843928781,2.001690966934998,1.8705220714601252,1.5584918907237166,1.5208450639985904,1.376391190641928,0.959298575616038],\"xaxis\":\"x\",\"y\":[0.8716966617734121,-0.7013261138565751,0.5544701049349215,-0.05001052226888588,0.29119280176116846,0.7884322063548432,-1.5600945839772882,0.40951669522194223,-0.7238653593126597,1.921442991465353,0.6939480398041602,-0.42824883590033996,0.414332757950083,-1.1673913352452452,-0.44414756947912354,0.677035371601851,0.253192471966815,2.5567573414947997,-0.0023613201020844026,-1.7175838442659772,0.9073987650150518,-0.5711743763662659,0.3977913591718666,-0.4867605419037243,1.014148424835784,1.0033345154297757,-0.31889661731056806,0.06554296309664782,-0.1932727998568918,0.5553815315789885,0.24665446806897265,2.626183869022625,-0.18467239440998365,-0.2959861024303904,-0.8171677419136156,0.8447481937849726,1.0724744961271213,0.4222559658955457,0.019230370546893052,0.6724227289716027,0.6103970375551119,0.686024831858698,-0.7013261138565751,0.8646848804720175,1.0485500466234166,0.38282183762299726,-0.9053136014070661,0.2667945748539103,1.0163619287948849,-0.022283944660567077],\"yaxis\":\"y\",\"type\":\"scatter\"}],                        {\"template\":{\"data\":{\"histogram2dcontour\":[{\"type\":\"histogram2dcontour\",\"colorbar\":{\"outlinewidth\":0,\"ticks\":\"\"},\"colorscale\":[[0.0,\"#0d0887\"],[0.1111111111111111,\"#46039f\"],[0.2222222222222222,\"#7201a8\"],[0.3333333333333333,\"#9c179e\"],[0.4444444444444444,\"#bd3786\"],[0.5555555555555556,\"#d8576b\"],[0.6666666666666666,\"#ed7953\"],[0.7777777777777778,\"#fb9f3a\"],[0.8888888888888888,\"#fdca26\"],[1.0,\"#f0f921\"]]}],\"choropleth\":[{\"type\":\"choropleth\",\"colorbar\":{\"outlinewidth\":0,\"ticks\":\"\"}}],\"histogram2d\":[{\"type\":\"histogram2d\",\"colorbar\":{\"outlinewidth\":0,\"ticks\":\"\"},\"colorscale\":[[0.0,\"#0d0887\"],[0.1111111111111111,\"#46039f\"],[0.2222222222222222,\"#7201a8\"],[0.3333333333333333,\"#9c179e\"],[0.4444444444444444,\"#bd3786\"],[0.5555555555555556,\"#d8576b\"],[0.6666666666666666,\"#ed7953\"],[0.7777777777777778,\"#fb9f3a\"],[0.8888888888888888,\"#fdca26\"],[1.0,\"#f0f921\"]]}],\"heatmap\":[{\"type\":\"heatmap\",\"colorbar\":{\"outlinewidth\":0,\"ticks\":\"\"},\"colorscale\":[[0.0,\"#0d0887\"],[0.1111111111111111,\"#46039f\"],[0.2222222222222222,\"#7201a8\"],[0.3333333333333333,\"#9c179e\"],[0.4444444444444444,\"#bd3786\"],[0.5555555555555556,\"#d8576b\"],[0.6666666666666666,\"#ed7953\"],[0.7777777777777778,\"#fb9f3a\"],[0.8888888888888888,\"#fdca26\"],[1.0,\"#f0f921\"]]}],\"heatmapgl\":[{\"type\":\"heatmapgl\",\"colorbar\":{\"outlinewidth\":0,\"ticks\":\"\"},\"colorscale\":[[0.0,\"#0d0887\"],[0.1111111111111111,\"#46039f\"],[0.2222222222222222,\"#7201a8\"],[0.3333333333333333,\"#9c179e\"],[0.4444444444444444,\"#bd3786\"],[0.5555555555555556,\"#d8576b\"],[0.6666666666666666,\"#ed7953\"],[0.7777777777777778,\"#fb9f3a\"],[0.8888888888888888,\"#fdca26\"],[1.0,\"#f0f921\"]]}],\"contourcarpet\":[{\"type\":\"contourcarpet\",\"colorbar\":{\"outlinewidth\":0,\"ticks\":\"\"}}],\"contour\":[{\"type\":\"contour\",\"colorbar\":{\"outlinewidth\":0,\"ticks\":\"\"},\"colorscale\":[[0.0,\"#0d0887\"],[0.1111111111111111,\"#46039f\"],[0.2222222222222222,\"#7201a8\"],[0.3333333333333333,\"#9c179e\"],[0.4444444444444444,\"#bd3786\"],[0.5555555555555556,\"#d8576b\"],[0.6666666666666666,\"#ed7953\"],[0.7777777777777778,\"#fb9f3a\"],[0.8888888888888888,\"#fdca26\"],[1.0,\"#f0f921\"]]}],\"surface\":[{\"type\":\"surface\",\"colorbar\":{\"outlinewidth\":0,\"ticks\":\"\"},\"colorscale\":[[0.0,\"#0d0887\"],[0.1111111111111111,\"#46039f\"],[0.2222222222222222,\"#7201a8\"],[0.3333333333333333,\"#9c179e\"],[0.4444444444444444,\"#bd3786\"],[0.5555555555555556,\"#d8576b\"],[0.6666666666666666,\"#ed7953\"],[0.7777777777777778,\"#fb9f3a\"],[0.8888888888888888,\"#fdca26\"],[1.0,\"#f0f921\"]]}],\"mesh3d\":[{\"type\":\"mesh3d\",\"colorbar\":{\"outlinewidth\":0,\"ticks\":\"\"}}],\"scatter\":[{\"fillpattern\":{\"fillmode\":\"overlay\",\"size\":10,\"solidity\":0.2},\"type\":\"scatter\"}],\"parcoords\":[{\"type\":\"parcoords\",\"line\":{\"colorbar\":{\"outlinewidth\":0,\"ticks\":\"\"}}}],\"scatterpolargl\":[{\"type\":\"scatterpolargl\",\"marker\":{\"colorbar\":{\"outlinewidth\":0,\"ticks\":\"\"}}}],\"bar\":[{\"error_x\":{\"color\":\"#2a3f5f\"},\"error_y\":{\"color\":\"#2a3f5f\"},\"marker\":{\"line\":{\"color\":\"#E5ECF6\",\"width\":0.5},\"pattern\":{\"fillmode\":\"overlay\",\"size\":10,\"solidity\":0.2}},\"type\":\"bar\"}],\"scattergeo\":[{\"type\":\"scattergeo\",\"marker\":{\"colorbar\":{\"outlinewidth\":0,\"ticks\":\"\"}}}],\"scatterpolar\":[{\"type\":\"scatterpolar\",\"marker\":{\"colorbar\":{\"outlinewidth\":0,\"ticks\":\"\"}}}],\"histogram\":[{\"marker\":{\"pattern\":{\"fillmode\":\"overlay\",\"size\":10,\"solidity\":0.2}},\"type\":\"histogram\"}],\"scattergl\":[{\"type\":\"scattergl\",\"marker\":{\"colorbar\":{\"outlinewidth\":0,\"ticks\":\"\"}}}],\"scatter3d\":[{\"type\":\"scatter3d\",\"line\":{\"colorbar\":{\"outlinewidth\":0,\"ticks\":\"\"}},\"marker\":{\"colorbar\":{\"outlinewidth\":0,\"ticks\":\"\"}}}],\"scattermapbox\":[{\"type\":\"scattermapbox\",\"marker\":{\"colorbar\":{\"outlinewidth\":0,\"ticks\":\"\"}}}],\"scatterternary\":[{\"type\":\"scatterternary\",\"marker\":{\"colorbar\":{\"outlinewidth\":0,\"ticks\":\"\"}}}],\"scattercarpet\":[{\"type\":\"scattercarpet\",\"marker\":{\"colorbar\":{\"outlinewidth\":0,\"ticks\":\"\"}}}],\"carpet\":[{\"aaxis\":{\"endlinecolor\":\"#2a3f5f\",\"gridcolor\":\"white\",\"linecolor\":\"white\",\"minorgridcolor\":\"white\",\"startlinecolor\":\"#2a3f5f\"},\"baxis\":{\"endlinecolor\":\"#2a3f5f\",\"gridcolor\":\"white\",\"linecolor\":\"white\",\"minorgridcolor\":\"white\",\"startlinecolor\":\"#2a3f5f\"},\"type\":\"carpet\"}],\"table\":[{\"cells\":{\"fill\":{\"color\":\"#EBF0F8\"},\"line\":{\"color\":\"white\"}},\"header\":{\"fill\":{\"color\":\"#C8D4E3\"},\"line\":{\"color\":\"white\"}},\"type\":\"table\"}],\"barpolar\":[{\"marker\":{\"line\":{\"color\":\"#E5ECF6\",\"width\":0.5},\"pattern\":{\"fillmode\":\"overlay\",\"size\":10,\"solidity\":0.2}},\"type\":\"barpolar\"}],\"pie\":[{\"automargin\":true,\"type\":\"pie\"}]},\"layout\":{\"autotypenumbers\":\"strict\",\"colorway\":[\"#636efa\",\"#EF553B\",\"#00cc96\",\"#ab63fa\",\"#FFA15A\",\"#19d3f3\",\"#FF6692\",\"#B6E880\",\"#FF97FF\",\"#FECB52\"],\"font\":{\"color\":\"#2a3f5f\"},\"hovermode\":\"closest\",\"hoverlabel\":{\"align\":\"left\"},\"paper_bgcolor\":\"white\",\"plot_bgcolor\":\"#E5ECF6\",\"polar\":{\"bgcolor\":\"#E5ECF6\",\"angularaxis\":{\"gridcolor\":\"white\",\"linecolor\":\"white\",\"ticks\":\"\"},\"radialaxis\":{\"gridcolor\":\"white\",\"linecolor\":\"white\",\"ticks\":\"\"}},\"ternary\":{\"bgcolor\":\"#E5ECF6\",\"aaxis\":{\"gridcolor\":\"white\",\"linecolor\":\"white\",\"ticks\":\"\"},\"baxis\":{\"gridcolor\":\"white\",\"linecolor\":\"white\",\"ticks\":\"\"},\"caxis\":{\"gridcolor\":\"white\",\"linecolor\":\"white\",\"ticks\":\"\"}},\"coloraxis\":{\"colorbar\":{\"outlinewidth\":0,\"ticks\":\"\"}},\"colorscale\":{\"sequential\":[[0.0,\"#0d0887\"],[0.1111111111111111,\"#46039f\"],[0.2222222222222222,\"#7201a8\"],[0.3333333333333333,\"#9c179e\"],[0.4444444444444444,\"#bd3786\"],[0.5555555555555556,\"#d8576b\"],[0.6666666666666666,\"#ed7953\"],[0.7777777777777778,\"#fb9f3a\"],[0.8888888888888888,\"#fdca26\"],[1.0,\"#f0f921\"]],\"sequentialminus\":[[0.0,\"#0d0887\"],[0.1111111111111111,\"#46039f\"],[0.2222222222222222,\"#7201a8\"],[0.3333333333333333,\"#9c179e\"],[0.4444444444444444,\"#bd3786\"],[0.5555555555555556,\"#d8576b\"],[0.6666666666666666,\"#ed7953\"],[0.7777777777777778,\"#fb9f3a\"],[0.8888888888888888,\"#fdca26\"],[1.0,\"#f0f921\"]],\"diverging\":[[0,\"#8e0152\"],[0.1,\"#c51b7d\"],[0.2,\"#de77ae\"],[0.3,\"#f1b6da\"],[0.4,\"#fde0ef\"],[0.5,\"#f7f7f7\"],[0.6,\"#e6f5d0\"],[0.7,\"#b8e186\"],[0.8,\"#7fbc41\"],[0.9,\"#4d9221\"],[1,\"#276419\"]]},\"xaxis\":{\"gridcolor\":\"white\",\"linecolor\":\"white\",\"ticks\":\"\",\"title\":{\"standoff\":15},\"zerolinecolor\":\"white\",\"automargin\":true,\"zerolinewidth\":2},\"yaxis\":{\"gridcolor\":\"white\",\"linecolor\":\"white\",\"ticks\":\"\",\"title\":{\"standoff\":15},\"zerolinecolor\":\"white\",\"automargin\":true,\"zerolinewidth\":2},\"scene\":{\"xaxis\":{\"backgroundcolor\":\"#E5ECF6\",\"gridcolor\":\"white\",\"linecolor\":\"white\",\"showbackground\":true,\"ticks\":\"\",\"zerolinecolor\":\"white\",\"gridwidth\":2},\"yaxis\":{\"backgroundcolor\":\"#E5ECF6\",\"gridcolor\":\"white\",\"linecolor\":\"white\",\"showbackground\":true,\"ticks\":\"\",\"zerolinecolor\":\"white\",\"gridwidth\":2},\"zaxis\":{\"backgroundcolor\":\"#E5ECF6\",\"gridcolor\":\"white\",\"linecolor\":\"white\",\"showbackground\":true,\"ticks\":\"\",\"zerolinecolor\":\"white\",\"gridwidth\":2}},\"shapedefaults\":{\"line\":{\"color\":\"#2a3f5f\"}},\"annotationdefaults\":{\"arrowcolor\":\"#2a3f5f\",\"arrowhead\":0,\"arrowwidth\":1},\"geo\":{\"bgcolor\":\"white\",\"landcolor\":\"#E5ECF6\",\"subunitcolor\":\"white\",\"showland\":true,\"showlakes\":true,\"lakecolor\":\"white\"},\"title\":{\"x\":0.05},\"mapbox\":{\"style\":\"light\"}}},\"xaxis\":{\"anchor\":\"y\",\"domain\":[0.0,1.0],\"title\":{\"text\":\"0\"}},\"yaxis\":{\"anchor\":\"x\",\"domain\":[0.0,1.0],\"title\":{\"text\":\"1\"}},\"legend\":{\"title\":{\"text\":\"color\"},\"tracegroupgap\":0},\"margin\":{\"t\":60},\"annotations\":[{\"arrowhead\":2,\"arrowsize\":2,\"ax\":0,\"axref\":\"x\",\"ay\":0,\"ayref\":\"y\",\"showarrow\":true,\"x\":-0.4508182159736821,\"xanchor\":\"right\",\"y\":0.8913275413878008,\"yanchor\":\"top\"},{\"ax\":0,\"ay\":0,\"text\":\"sepal_width\",\"x\":-0.4508182159736821,\"xanchor\":\"center\",\"y\":0.8913275413878008,\"yanchor\":\"bottom\",\"yshift\":5},{\"arrowhead\":2,\"arrowsize\":2,\"ax\":0,\"axref\":\"x\",\"ay\":0,\"ayref\":\"y\",\"showarrow\":true,\"x\":0.8942101639027131,\"xanchor\":\"right\",\"y\":0.3585492765884531,\"yanchor\":\"top\"},{\"ax\":0,\"ay\":0,\"text\":\"sepal_length\",\"x\":0.8942101639027131,\"xanchor\":\"center\",\"y\":0.3585492765884531,\"yanchor\":\"bottom\",\"yshift\":5},{\"arrowhead\":2,\"arrowsize\":2,\"ax\":0,\"axref\":\"x\",\"ay\":0,\"ayref\":\"y\",\"showarrow\":true,\"x\":0.9682286132352305,\"xanchor\":\"right\",\"y\":0.06299656151711232,\"yanchor\":\"top\"},{\"ax\":0,\"ay\":0,\"text\":\"petal_width\",\"x\":0.9682286132352305,\"xanchor\":\"center\",\"y\":0.06299656151711232,\"yanchor\":\"bottom\",\"yshift\":5},{\"arrowhead\":2,\"arrowsize\":2,\"ax\":0,\"axref\":\"x\",\"ay\":0,\"ayref\":\"y\",\"showarrow\":true,\"x\":0.9950066567723503,\"xanchor\":\"right\",\"y\":0.020314649291456672,\"yanchor\":\"top\"},{\"ax\":0,\"ay\":0,\"text\":\"petal_length\",\"x\":0.9950066567723503,\"xanchor\":\"center\",\"y\":0.020314649291456672,\"yanchor\":\"bottom\",\"yshift\":5}]},                        {\"responsive\": true}                    ).then(function(){\n",
              "                            \n",
              "var gd = document.getElementById('51e05a3a-3554-4eb3-9823-ff9ca2f41ef6');\n",
              "var x = new MutationObserver(function (mutations, observer) {{\n",
              "        var display = window.getComputedStyle(gd).display;\n",
              "        if (!display || display === 'none') {{\n",
              "            console.log([gd, 'removed!']);\n",
              "            Plotly.purge(gd);\n",
              "            observer.disconnect();\n",
              "        }}\n",
              "}});\n",
              "\n",
              "// Listen for the removal of the full notebook cells\n",
              "var notebookContainer = gd.closest('#notebook-container');\n",
              "if (notebookContainer) {{\n",
              "    x.observe(notebookContainer, {childList: true});\n",
              "}}\n",
              "\n",
              "// Listen for the clearing of the current output cell\n",
              "var outputEl = gd.closest('.output');\n",
              "if (outputEl) {{\n",
              "    x.observe(outputEl, {childList: true});\n",
              "}}\n",
              "\n",
              "                        })                };                            </script>        </div>\n",
              "</body>\n",
              "</html>"
            ]
          },
          "metadata": {}
        }
      ]
    },
    {
      "cell_type": "markdown",
      "source": [
        "Extra: Visualización de 3 Componentes Principales en 3D"
      ],
      "metadata": {
        "id": "07YrM18mSt7N"
      }
    },
    {
      "cell_type": "code",
      "source": [
        "pca = PCA(n_components=3)\n",
        "components = pca.fit_transform(df_norm)\n",
        "\n",
        "total_var = pca.explained_variance_ratio_.sum() * 100\n",
        "\n",
        "fig = px.scatter_3d(\n",
        "    components, x=0, y=1, z=2, color=df['species'],\n",
        "    title=f'Total Explained Variance: {total_var:.2f}%',\n",
        "    labels={'0': 'PC 1', '1': 'PC 2', '2': 'PC 3'}\n",
        ")\n",
        "fig.show()"
      ],
      "metadata": {
        "id": "QPVuz82WKWPF",
        "outputId": "65ca167a-db67-44fe-c3ff-64cec8cdd32e",
        "colab": {
          "base_uri": "https://localhost:8080/",
          "height": 542
        }
      },
      "execution_count": 8,
      "outputs": [
        {
          "output_type": "display_data",
          "data": {
            "text/html": [
              "<html>\n",
              "<head><meta charset=\"utf-8\" /></head>\n",
              "<body>\n",
              "    <div>            <script src=\"https://cdnjs.cloudflare.com/ajax/libs/mathjax/2.7.5/MathJax.js?config=TeX-AMS-MML_SVG\"></script><script type=\"text/javascript\">if (window.MathJax && window.MathJax.Hub && window.MathJax.Hub.Config) {window.MathJax.Hub.Config({SVG: {font: \"STIX-Web\"}});}</script>                <script type=\"text/javascript\">window.PlotlyConfig = {MathJaxConfig: 'local'};</script>\n",
              "        <script charset=\"utf-8\" src=\"https://cdn.plot.ly/plotly-2.24.1.min.js\"></script>                <div id=\"3025ee5b-6cdc-4a4c-9ccf-ec75a63ec4af\" class=\"plotly-graph-div\" style=\"height:525px; width:100%;\"></div>            <script type=\"text/javascript\">                                    window.PLOTLYENV=window.PLOTLYENV || {};                                    if (document.getElementById(\"3025ee5b-6cdc-4a4c-9ccf-ec75a63ec4af\")) {                    Plotly.newPlot(                        \"3025ee5b-6cdc-4a4c-9ccf-ec75a63ec4af\",                        [{\"hovertemplate\":\"color=setosa\\u003cbr\\u003ePC 1=%{x}\\u003cbr\\u003ePC 2=%{y}\\u003cbr\\u003ePC 3=%{z}\\u003cextra\\u003e\\u003c\\u002fextra\\u003e\",\"legendgroup\":\"setosa\",\"marker\":{\"color\":\"#636efa\",\"symbol\":\"circle\"},\"mode\":\"markers\",\"name\":\"setosa\",\"scene\":\"scene\",\"showlegend\":true,\"x\":[-2.264541728394903,-2.086425500616159,-2.3679504490625254,-2.3041971611520093,-2.3887774935056414,-2.0705368071805528,-2.445711339630283,-2.2338418587092654,-2.34195767645539,-2.18867575528087,-2.1634865562665224,-2.3273777541343734,-2.224082722045002,-2.6397162608446307,-2.1922915084984287,-2.2514652145840643,-2.2027504800800846,-2.190179163791052,-1.8940742930236678,-2.339949070423408,-1.914556394959517,-2.2046453975338136,-2.774169793705157,-1.820411563337214,-2.2282174994597246,-1.957024007341397,-2.052063311276686,-2.168193653345021,-2.140305963284157,-2.268790194387877,-2.144554429277135,-1.831938102201587,-2.608202867663347,-2.4379508590951415,-2.18867575528087,-2.211119896812422,-2.0444165193198,-2.18867575528087,-2.43595220296602,-2.17054720188427,-2.28652723884093,-1.8717072235369512,-2.5578344195375124,-1.964279290354737,-2.133372832920028,-2.0753575928373063,-2.381258216802373,-2.398191687662639,-2.226781213091518,-2.205954168648402],\"y\":[0.5057039027737854,-0.6554047293691353,-0.3184773108472479,-0.575367712533194,0.6747673967025161,1.5185485598885133,0.07456267500687529,0.24761393175226606,-1.0951463625829536,-0.448629048337558,1.0705955760377266,0.1585874546594771,-0.7091181580302248,-0.9382819821078524,1.8899785123164652,2.722371076574468,1.5137502825462186,0.5143043082206933,1.4311107069412365,1.1580334289850016,0.4304651632801385,0.9524573172889989,0.4895170265034962,0.1067507928354069,0.16218616266619806,-0.6078925674838068,0.266014311981656,0.5520164953235404,0.3366404088450549,-0.31487860284052693,-0.4839420967692577,0.4452668355028074,1.8284751927341019,2.1853916156308926,-0.448629048337558,-0.18433781054027776,0.6849564262949368,-0.448629048337558,-0.8821694147756153,0.292726954966447,0.46799171567093856,-2.327691606114908,-0.45381638048979167,0.497391640018384,1.1714321117742044,-0.6919173471364086,1.1506325928736671,-0.36239076472585574,1.0254825528235452,0.03223784527378045],\"z\":[-0.12194334778175743,-0.2272508323992486,0.05147962364496709,0.09886044443740294,0.021427848973115414,0.030684258280725265,0.34219763621375465,-0.08257446445485117,0.15356239869462507,-0.24655952238860823,-0.264009373347105,0.10016561562692781,-0.22321451399276135,0.189570030151272,-0.4694800946359476,0.03260379665903311,-0.0013634915813939639,-0.038615594880119765,-0.3707428339920335,0.13741771892565435,-0.41600687475628984,0.16473834638054366,0.3388363843434946,0.04006147242624771,0.12420142802351722,-0.2985910287763138,0.09209297881395304,-0.20129548162435212,-0.26531454453663,0.07551543604155608,-0.06785576071331641,-0.265375243884075,0.05141951815449945,-0.07934975488701833,-0.24655952238860823,-0.2186245277449368,-0.47941157047978517,-0.24655952238860823,0.20155758667584361,-0.1699385357629752,0.04073653896247463,-0.19452860985788056,0.31357183756934,0.3147556100639755,0.2527932216894108,-0.056559008189487135,0.062101903489546986,0.14685563241862137,-0.17664530203897993,-0.14659352736712916],\"type\":\"scatter3d\"},{\"hovertemplate\":\"color=versicolor\\u003cbr\\u003ePC 1=%{x}\\u003cbr\\u003ePC 2=%{y}\\u003cbr\\u003ePC 3=%{z}\\u003cextra\\u003e\\u003c\\u002fextra\\u003e\",\"legendgroup\":\"versicolor\",\"marker\":{\"color\":\"#EF553B\",\"symbol\":\"circle\"},\"mode\":\"markers\",\"name\":\"versicolor\",\"scene\":\"scene\",\"showlegend\":true,\"x\":[1.1039936528045724,0.7324814400086811,1.2421095053189377,0.39730728282332667,1.0725939482015452,0.3844581461690014,0.748715075951553,-0.4978633877981187,0.9262223675330982,0.004968025584318912,-0.12469746138037142,0.4387301177805466,0.5516339814225069,0.7171650662368512,-0.03725838296568848,0.8758905359406831,0.3480064019802085,0.15339254456866683,1.2153032092161533,0.15694117564425022,0.7382561043698959,0.4723696823445683,1.227988214083442,0.6293810453149018,0.700472799208458,0.8735369874014338,1.25422219052245,1.3582398473872717,0.6621261375659376,-0.04728151331988043,0.1215342088801184,0.014118226051387451,0.23601083732659658,1.0566914280905764,0.22141708833021778,0.4317831607410538,1.0494133552191802,1.035878210322824,0.06706759987298037,0.2754250662518338,0.27233506626177184,0.6231705397262216,0.3300053638372262,-0.37362762268737654,0.2829443429551024,0.08905311031901143,0.22435678320860586,0.573883485558467,-0.45701287250467554,0.2522444732694691],\"y\":[0.8631124458513231,0.5986355733419966,0.6148224496122856,-1.7581689474435254,-0.21175790267989614,-0.591062468622736,0.7786986113887813,-1.848868771275441,0.030330826783380508,-1.029401112403087,-2.6580626779617584,-0.058881285021454434,-1.7725815648562546,-0.18543431450504394,-0.4327950987141686,0.5099981510591466,-0.19062164665727752,-0.7907254562344849,-1.6333556445154827,-1.3031032701729102,0.4024703816185357,-0.41660822244387946,-0.9409147925302723,-0.4168116425417721,-0.06349392765170268,0.2507086107020533,-0.0826200998131133,0.32882026627040106,-0.22434607094346423,-1.05721241260502,-1.5635923798655769,-1.5733923546480586,-0.7759237840118158,-0.6369012837689367,-0.2808476930856398,0.8551369202180022,0.5221972645127757,-1.392466484387781,-0.2126207348933884,-1.3298159131577014,-1.1194415241194033,0.027542633302294273,-0.9889007318191543,-2.017932265204172,-0.8539507169865493,-0.17490854779054144,-0.38048465948654514,-0.15371997408006519,-1.53946451026398,-0.5958607459650307],\"z\":[-0.6855551077942376,-0.0940668019749133,-0.5548465341001647,-0.01856948235344926,-0.39744743760450046,0.12679768959169135,0.14865602261265654,0.25555524997842566,-0.5954598892691508,0.5428670487940243,-0.03981344818563145,0.20670349127562343,-0.7613802230457313,-0.06729984236136136,0.19806144915679622,-0.5035058317132018,0.4928315175965869,-0.2986045157302115,-0.4794099138261457,-0.16858674603688117,0.6167726256672103,-0.2627182829684553,-0.3667048589319061,-0.28996247361138383,-0.4447675590494918,-0.4721488858518252,-0.7268435294994513,-0.2614580736618597,0.08736810691734043,-0.3153191946620144,-0.14524173764103498,-0.23658142800820198,-0.14797288485799687,0.1067532337186604,0.6675596602128355,0.4507314870527185,-0.39614226641497524,-0.6854343029563258,0.29412826193119346,0.09344476854004717,0.09817189094727738,-0.01930465438014302,-0.19596807283921525,0.11218405322355306,0.13411882305647893,0.13144837518696112,0.1587690026418501,-0.2700394164332427,0.19612617331397325,0.09474993972957209],\"type\":\"scatter3d\"},{\"hovertemplate\":\"color=virginica\\u003cbr\\u003ePC 1=%{x}\\u003cbr\\u003ePC 2=%{y}\\u003cbr\\u003ePC 3=%{z}\\u003cextra\\u003e\\u003c\\u002fextra\\u003e\",\"legendgroup\":\"virginica\",\"marker\":{\"color\":\"#00cc96\",\"symbol\":\"circle\"},\"mode\":\"markers\",\"name\":\"virginica\",\"scene\":\"scene\",\"showlegend\":true,\"x\":[1.8476725943096641,1.153189808252129,2.2063494971265936,1.438685402326182,1.8678907025555846,2.7541967088257535,0.35837447484166696,2.303005898150319,2.001735299218916,2.2675545991022688,1.3659094292022143,1.599064585651869,1.884251853752074,1.2530865143775913,1.4640615229856222,1.5918093026385287,1.4712801894655438,2.4373784821935094,3.3091411826760795,1.2539809866905773,2.040496259663039,0.9739151144704733,2.8980644358432768,1.329193691323493,1.704240708519606,1.9577276617934356,1.1719045079878685,1.0197810528162627,1.786008861248468,1.8647779127074668,2.4354973914151428,2.3160824119611556,1.860371425852316,1.111271725675969,1.1974691551180376,2.800949403734029,1.5801552485205375,1.347044424354802,0.9234329777663842,1.8535519840664407,2.016157200677759,1.9031168585994873,1.153189808252129,2.04330843928781,2.001690966934998,1.8705220714601252,1.5584918907237166,1.5208450639985904,1.376391190641928,0.959298575616038],\"y\":[0.8716966617734121,-0.7013261138565751,0.5544701049349215,-0.05001052226888588,0.29119280176116846,0.7884322063548432,-1.5600945839772882,0.40951669522194223,-0.7238653593126597,1.921442991465353,0.6939480398041602,-0.42824883590033996,0.414332757950083,-1.1673913352452452,-0.44414756947912354,0.677035371601851,0.253192471966815,2.5567573414947997,-0.0023613201020844026,-1.7175838442659772,0.9073987650150518,-0.5711743763662659,0.3977913591718666,-0.4867605419037243,1.014148424835784,1.0033345154297757,-0.31889661731056806,0.06554296309664782,-0.1932727998568918,0.5553815315789885,0.24665446806897265,2.626183869022625,-0.18467239440998365,-0.2959861024303904,-0.8171677419136156,0.8447481937849726,1.0724744961271213,0.4222559658955457,0.019230370546893052,0.6724227289716027,0.6103970375551119,0.686024831858698,-0.7013261138565751,0.8646848804720175,1.0485500466234166,0.38282183762299726,-0.9053136014070661,0.2667945748539103,1.0163619287948849,-0.022283944660567077],\"z\":[1.0027609857792783,0.531464635039821,-0.20549591009804044,0.16339046381870662,0.39400433318681377,-0.5862327043799542,0.9909998953229917,-0.6541666870038296,-0.3940704482697248,0.39251765781193165,0.28327951601832707,0.02330408212213308,0.02454855396421387,0.5821302708905561,1.0041105249947548,0.6366507209624223,0.036657509183675725,-0.1342000817469272,-0.7069339592752083,-0.26462208388224734,0.23187811428391925,0.8295037810733955,-0.8609268420176832,-0.004707349333498199,0.29595787654364186,-0.4228170517520506,0.13065190995584403,0.3380421696229952,0.2700025257687448,-0.7175106833798807,-0.7302340057881256,-0.4996195425630402,0.353330278670382,-0.18265960766060219,-0.1632137815118374,-0.5470009572124542,0.94339260846227,0.18002870593854822,0.41739430346558964,-0.01482032936269276,0.4259149468895272,0.12779936404399186,0.531464635039821,0.33526606052310365,0.6292688881501904,0.2545323186790227,-0.02538190985982774,0.1792772025903605,0.9314050519376975,0.5287941871703032],\"type\":\"scatter3d\"}],                        {\"template\":{\"data\":{\"histogram2dcontour\":[{\"type\":\"histogram2dcontour\",\"colorbar\":{\"outlinewidth\":0,\"ticks\":\"\"},\"colorscale\":[[0.0,\"#0d0887\"],[0.1111111111111111,\"#46039f\"],[0.2222222222222222,\"#7201a8\"],[0.3333333333333333,\"#9c179e\"],[0.4444444444444444,\"#bd3786\"],[0.5555555555555556,\"#d8576b\"],[0.6666666666666666,\"#ed7953\"],[0.7777777777777778,\"#fb9f3a\"],[0.8888888888888888,\"#fdca26\"],[1.0,\"#f0f921\"]]}],\"choropleth\":[{\"type\":\"choropleth\",\"colorbar\":{\"outlinewidth\":0,\"ticks\":\"\"}}],\"histogram2d\":[{\"type\":\"histogram2d\",\"colorbar\":{\"outlinewidth\":0,\"ticks\":\"\"},\"colorscale\":[[0.0,\"#0d0887\"],[0.1111111111111111,\"#46039f\"],[0.2222222222222222,\"#7201a8\"],[0.3333333333333333,\"#9c179e\"],[0.4444444444444444,\"#bd3786\"],[0.5555555555555556,\"#d8576b\"],[0.6666666666666666,\"#ed7953\"],[0.7777777777777778,\"#fb9f3a\"],[0.8888888888888888,\"#fdca26\"],[1.0,\"#f0f921\"]]}],\"heatmap\":[{\"type\":\"heatmap\",\"colorbar\":{\"outlinewidth\":0,\"ticks\":\"\"},\"colorscale\":[[0.0,\"#0d0887\"],[0.1111111111111111,\"#46039f\"],[0.2222222222222222,\"#7201a8\"],[0.3333333333333333,\"#9c179e\"],[0.4444444444444444,\"#bd3786\"],[0.5555555555555556,\"#d8576b\"],[0.6666666666666666,\"#ed7953\"],[0.7777777777777778,\"#fb9f3a\"],[0.8888888888888888,\"#fdca26\"],[1.0,\"#f0f921\"]]}],\"heatmapgl\":[{\"type\":\"heatmapgl\",\"colorbar\":{\"outlinewidth\":0,\"ticks\":\"\"},\"colorscale\":[[0.0,\"#0d0887\"],[0.1111111111111111,\"#46039f\"],[0.2222222222222222,\"#7201a8\"],[0.3333333333333333,\"#9c179e\"],[0.4444444444444444,\"#bd3786\"],[0.5555555555555556,\"#d8576b\"],[0.6666666666666666,\"#ed7953\"],[0.7777777777777778,\"#fb9f3a\"],[0.8888888888888888,\"#fdca26\"],[1.0,\"#f0f921\"]]}],\"contourcarpet\":[{\"type\":\"contourcarpet\",\"colorbar\":{\"outlinewidth\":0,\"ticks\":\"\"}}],\"contour\":[{\"type\":\"contour\",\"colorbar\":{\"outlinewidth\":0,\"ticks\":\"\"},\"colorscale\":[[0.0,\"#0d0887\"],[0.1111111111111111,\"#46039f\"],[0.2222222222222222,\"#7201a8\"],[0.3333333333333333,\"#9c179e\"],[0.4444444444444444,\"#bd3786\"],[0.5555555555555556,\"#d8576b\"],[0.6666666666666666,\"#ed7953\"],[0.7777777777777778,\"#fb9f3a\"],[0.8888888888888888,\"#fdca26\"],[1.0,\"#f0f921\"]]}],\"surface\":[{\"type\":\"surface\",\"colorbar\":{\"outlinewidth\":0,\"ticks\":\"\"},\"colorscale\":[[0.0,\"#0d0887\"],[0.1111111111111111,\"#46039f\"],[0.2222222222222222,\"#7201a8\"],[0.3333333333333333,\"#9c179e\"],[0.4444444444444444,\"#bd3786\"],[0.5555555555555556,\"#d8576b\"],[0.6666666666666666,\"#ed7953\"],[0.7777777777777778,\"#fb9f3a\"],[0.8888888888888888,\"#fdca26\"],[1.0,\"#f0f921\"]]}],\"mesh3d\":[{\"type\":\"mesh3d\",\"colorbar\":{\"outlinewidth\":0,\"ticks\":\"\"}}],\"scatter\":[{\"fillpattern\":{\"fillmode\":\"overlay\",\"size\":10,\"solidity\":0.2},\"type\":\"scatter\"}],\"parcoords\":[{\"type\":\"parcoords\",\"line\":{\"colorbar\":{\"outlinewidth\":0,\"ticks\":\"\"}}}],\"scatterpolargl\":[{\"type\":\"scatterpolargl\",\"marker\":{\"colorbar\":{\"outlinewidth\":0,\"ticks\":\"\"}}}],\"bar\":[{\"error_x\":{\"color\":\"#2a3f5f\"},\"error_y\":{\"color\":\"#2a3f5f\"},\"marker\":{\"line\":{\"color\":\"#E5ECF6\",\"width\":0.5},\"pattern\":{\"fillmode\":\"overlay\",\"size\":10,\"solidity\":0.2}},\"type\":\"bar\"}],\"scattergeo\":[{\"type\":\"scattergeo\",\"marker\":{\"colorbar\":{\"outlinewidth\":0,\"ticks\":\"\"}}}],\"scatterpolar\":[{\"type\":\"scatterpolar\",\"marker\":{\"colorbar\":{\"outlinewidth\":0,\"ticks\":\"\"}}}],\"histogram\":[{\"marker\":{\"pattern\":{\"fillmode\":\"overlay\",\"size\":10,\"solidity\":0.2}},\"type\":\"histogram\"}],\"scattergl\":[{\"type\":\"scattergl\",\"marker\":{\"colorbar\":{\"outlinewidth\":0,\"ticks\":\"\"}}}],\"scatter3d\":[{\"type\":\"scatter3d\",\"line\":{\"colorbar\":{\"outlinewidth\":0,\"ticks\":\"\"}},\"marker\":{\"colorbar\":{\"outlinewidth\":0,\"ticks\":\"\"}}}],\"scattermapbox\":[{\"type\":\"scattermapbox\",\"marker\":{\"colorbar\":{\"outlinewidth\":0,\"ticks\":\"\"}}}],\"scatterternary\":[{\"type\":\"scatterternary\",\"marker\":{\"colorbar\":{\"outlinewidth\":0,\"ticks\":\"\"}}}],\"scattercarpet\":[{\"type\":\"scattercarpet\",\"marker\":{\"colorbar\":{\"outlinewidth\":0,\"ticks\":\"\"}}}],\"carpet\":[{\"aaxis\":{\"endlinecolor\":\"#2a3f5f\",\"gridcolor\":\"white\",\"linecolor\":\"white\",\"minorgridcolor\":\"white\",\"startlinecolor\":\"#2a3f5f\"},\"baxis\":{\"endlinecolor\":\"#2a3f5f\",\"gridcolor\":\"white\",\"linecolor\":\"white\",\"minorgridcolor\":\"white\",\"startlinecolor\":\"#2a3f5f\"},\"type\":\"carpet\"}],\"table\":[{\"cells\":{\"fill\":{\"color\":\"#EBF0F8\"},\"line\":{\"color\":\"white\"}},\"header\":{\"fill\":{\"color\":\"#C8D4E3\"},\"line\":{\"color\":\"white\"}},\"type\":\"table\"}],\"barpolar\":[{\"marker\":{\"line\":{\"color\":\"#E5ECF6\",\"width\":0.5},\"pattern\":{\"fillmode\":\"overlay\",\"size\":10,\"solidity\":0.2}},\"type\":\"barpolar\"}],\"pie\":[{\"automargin\":true,\"type\":\"pie\"}]},\"layout\":{\"autotypenumbers\":\"strict\",\"colorway\":[\"#636efa\",\"#EF553B\",\"#00cc96\",\"#ab63fa\",\"#FFA15A\",\"#19d3f3\",\"#FF6692\",\"#B6E880\",\"#FF97FF\",\"#FECB52\"],\"font\":{\"color\":\"#2a3f5f\"},\"hovermode\":\"closest\",\"hoverlabel\":{\"align\":\"left\"},\"paper_bgcolor\":\"white\",\"plot_bgcolor\":\"#E5ECF6\",\"polar\":{\"bgcolor\":\"#E5ECF6\",\"angularaxis\":{\"gridcolor\":\"white\",\"linecolor\":\"white\",\"ticks\":\"\"},\"radialaxis\":{\"gridcolor\":\"white\",\"linecolor\":\"white\",\"ticks\":\"\"}},\"ternary\":{\"bgcolor\":\"#E5ECF6\",\"aaxis\":{\"gridcolor\":\"white\",\"linecolor\":\"white\",\"ticks\":\"\"},\"baxis\":{\"gridcolor\":\"white\",\"linecolor\":\"white\",\"ticks\":\"\"},\"caxis\":{\"gridcolor\":\"white\",\"linecolor\":\"white\",\"ticks\":\"\"}},\"coloraxis\":{\"colorbar\":{\"outlinewidth\":0,\"ticks\":\"\"}},\"colorscale\":{\"sequential\":[[0.0,\"#0d0887\"],[0.1111111111111111,\"#46039f\"],[0.2222222222222222,\"#7201a8\"],[0.3333333333333333,\"#9c179e\"],[0.4444444444444444,\"#bd3786\"],[0.5555555555555556,\"#d8576b\"],[0.6666666666666666,\"#ed7953\"],[0.7777777777777778,\"#fb9f3a\"],[0.8888888888888888,\"#fdca26\"],[1.0,\"#f0f921\"]],\"sequentialminus\":[[0.0,\"#0d0887\"],[0.1111111111111111,\"#46039f\"],[0.2222222222222222,\"#7201a8\"],[0.3333333333333333,\"#9c179e\"],[0.4444444444444444,\"#bd3786\"],[0.5555555555555556,\"#d8576b\"],[0.6666666666666666,\"#ed7953\"],[0.7777777777777778,\"#fb9f3a\"],[0.8888888888888888,\"#fdca26\"],[1.0,\"#f0f921\"]],\"diverging\":[[0,\"#8e0152\"],[0.1,\"#c51b7d\"],[0.2,\"#de77ae\"],[0.3,\"#f1b6da\"],[0.4,\"#fde0ef\"],[0.5,\"#f7f7f7\"],[0.6,\"#e6f5d0\"],[0.7,\"#b8e186\"],[0.8,\"#7fbc41\"],[0.9,\"#4d9221\"],[1,\"#276419\"]]},\"xaxis\":{\"gridcolor\":\"white\",\"linecolor\":\"white\",\"ticks\":\"\",\"title\":{\"standoff\":15},\"zerolinecolor\":\"white\",\"automargin\":true,\"zerolinewidth\":2},\"yaxis\":{\"gridcolor\":\"white\",\"linecolor\":\"white\",\"ticks\":\"\",\"title\":{\"standoff\":15},\"zerolinecolor\":\"white\",\"automargin\":true,\"zerolinewidth\":2},\"scene\":{\"xaxis\":{\"backgroundcolor\":\"#E5ECF6\",\"gridcolor\":\"white\",\"linecolor\":\"white\",\"showbackground\":true,\"ticks\":\"\",\"zerolinecolor\":\"white\",\"gridwidth\":2},\"yaxis\":{\"backgroundcolor\":\"#E5ECF6\",\"gridcolor\":\"white\",\"linecolor\":\"white\",\"showbackground\":true,\"ticks\":\"\",\"zerolinecolor\":\"white\",\"gridwidth\":2},\"zaxis\":{\"backgroundcolor\":\"#E5ECF6\",\"gridcolor\":\"white\",\"linecolor\":\"white\",\"showbackground\":true,\"ticks\":\"\",\"zerolinecolor\":\"white\",\"gridwidth\":2}},\"shapedefaults\":{\"line\":{\"color\":\"#2a3f5f\"}},\"annotationdefaults\":{\"arrowcolor\":\"#2a3f5f\",\"arrowhead\":0,\"arrowwidth\":1},\"geo\":{\"bgcolor\":\"white\",\"landcolor\":\"#E5ECF6\",\"subunitcolor\":\"white\",\"showland\":true,\"showlakes\":true,\"lakecolor\":\"white\"},\"title\":{\"x\":0.05},\"mapbox\":{\"style\":\"light\"}}},\"scene\":{\"domain\":{\"x\":[0.0,1.0],\"y\":[0.0,1.0]},\"xaxis\":{\"title\":{\"text\":\"PC 1\"}},\"yaxis\":{\"title\":{\"text\":\"PC 2\"}},\"zaxis\":{\"title\":{\"text\":\"PC 3\"}}},\"legend\":{\"title\":{\"text\":\"color\"},\"tracegroupgap\":0},\"title\":{\"text\":\"Total Explained Variance: 99.48%\"}},                        {\"responsive\": true}                    ).then(function(){\n",
              "                            \n",
              "var gd = document.getElementById('3025ee5b-6cdc-4a4c-9ccf-ec75a63ec4af');\n",
              "var x = new MutationObserver(function (mutations, observer) {{\n",
              "        var display = window.getComputedStyle(gd).display;\n",
              "        if (!display || display === 'none') {{\n",
              "            console.log([gd, 'removed!']);\n",
              "            Plotly.purge(gd);\n",
              "            observer.disconnect();\n",
              "        }}\n",
              "}});\n",
              "\n",
              "// Listen for the removal of the full notebook cells\n",
              "var notebookContainer = gd.closest('#notebook-container');\n",
              "if (notebookContainer) {{\n",
              "    x.observe(notebookContainer, {childList: true});\n",
              "}}\n",
              "\n",
              "// Listen for the clearing of the current output cell\n",
              "var outputEl = gd.closest('.output');\n",
              "if (outputEl) {{\n",
              "    x.observe(outputEl, {childList: true});\n",
              "}}\n",
              "\n",
              "                        })                };                            </script>        </div>\n",
              "</body>\n",
              "</html>"
            ]
          },
          "metadata": {}
        }
      ]
    }
  ]
}