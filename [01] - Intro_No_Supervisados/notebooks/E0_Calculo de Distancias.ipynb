{
  "nbformat": 4,
  "nbformat_minor": 0,
  "metadata": {
    "colab": {
      "provenance": [],
      "authorship_tag": "ABX9TyPY1s1f3TZacNQjDhZwTiLH",
      "include_colab_link": true
    },
    "kernelspec": {
      "name": "python3",
      "display_name": "Python 3"
    },
    "language_info": {
      "name": "python"
    }
  },
  "cells": [
    {
      "cell_type": "markdown",
      "metadata": {
        "id": "view-in-github",
        "colab_type": "text"
      },
      "source": [
        "<a href=\"https://colab.research.google.com/github/dtoralg/TheValley-Intro_unsupervised/blob/main/%5B01%5D%20-%20Intro_No_Supervisados/notebooks/E0_Calculo%20de%20Distancias.ipynb\" target=\"_parent\"><img src=\"https://colab.research.google.com/assets/colab-badge.svg\" alt=\"Open In Colab\"/></a>"
      ]
    },
    {
      "cell_type": "markdown",
      "source": [
        "Celda 1 – Importar librerías"
      ],
      "metadata": {
        "id": "Z620WESuwPYM"
      }
    },
    {
      "cell_type": "code",
      "execution_count": null,
      "metadata": {
        "id": "jdgIb0eRwNAq"
      },
      "outputs": [],
      "source": [
        "import numpy as np\n",
        "import pandas as pd"
      ]
    },
    {
      "cell_type": "markdown",
      "source": [
        "Celda 2 – Crear dataset mini"
      ],
      "metadata": {
        "id": "Oy9QONVSwRXm"
      }
    },
    {
      "cell_type": "code",
      "source": [
        "# Dataset de ejemplo con 3 puntos y 2 variables numéricas: Altura y Peso\n",
        "data = pd.DataFrame({\n",
        "    'Altura': [1.70, 1.80, 1.60],\n",
        "    'Peso': [65, 80, 55]\n",
        "}, index=['Persona1', 'Persona2', 'Persona3'])\n",
        "\n",
        "data"
      ],
      "metadata": {
        "id": "17qdj0M5wRm-"
      },
      "execution_count": null,
      "outputs": []
    },
    {
      "cell_type": "markdown",
      "source": [
        "Celda 3 – Calcular distancia Euclídea manualmente"
      ],
      "metadata": {
        "id": "14agwyLFwRyz"
      }
    },
    {
      "cell_type": "code",
      "source": [
        "# Definir función para distancia Euclídea\n",
        "def euclidean_distance(a, b):\n",
        "    return np.sqrt(np.sum((a - b) ** 2))\n",
        "\n",
        "# Calcular distancias entre cada par de puntos\n",
        "pairs = [('Persona1', 'Persona2'), ('Persona1', 'Persona3'), ('Persona2', 'Persona3')]\n",
        "for p1, p2 in pairs:\n",
        "    dist = euclidean_distance(data.loc[p1], data.loc[p2])\n",
        "    print(f\"Distancia Euclídea entre {p1} y {p2}: {dist:.2f}\")\n"
      ],
      "metadata": {
        "id": "M4Nu-XUPwSAe"
      },
      "execution_count": null,
      "outputs": []
    },
    {
      "cell_type": "markdown",
      "source": [
        "Celda 4 – Calcular distancia Manhattan manualmente"
      ],
      "metadata": {
        "id": "krWCV4QlwZOM"
      }
    },
    {
      "cell_type": "code",
      "source": [
        "# Definir función para distancia Manhattan\n",
        "def manhattan_distance(a, b):\n",
        "    return np.sum(np.abs(a - b))\n",
        "\n",
        "# Calcular distancias entre cada par de puntos\n",
        "for p1, p2 in pairs:\n",
        "    dist = manhattan_distance(data.loc[p1], data.loc[p2])\n",
        "    print(f\"Distancia Manhattan entre {p1} y {p2}: {dist:.2f}\")\n"
      ],
      "metadata": {
        "id": "yW_VV9nZwY9_"
      },
      "execution_count": null,
      "outputs": []
    },
    {
      "cell_type": "markdown",
      "source": [
        "Celda 5 - Reflexión"
      ],
      "metadata": {
        "id": "L81pCctjwc3w"
      }
    },
    {
      "cell_type": "code",
      "source": [
        "# Preguntas para los alumnos:\n",
        "# - ¿Qué parejas de puntos son más similares según cada distancia?\n",
        "# - ¿Observas diferencias entre las distancias Euclídea y Manhattan?\n",
        "# - ¿Cómo influiría estandarizar Altura y Peso en estas distancias?\n"
      ],
      "metadata": {
        "id": "fb5g96pSwdE8"
      },
      "execution_count": null,
      "outputs": []
    }
  ]
}