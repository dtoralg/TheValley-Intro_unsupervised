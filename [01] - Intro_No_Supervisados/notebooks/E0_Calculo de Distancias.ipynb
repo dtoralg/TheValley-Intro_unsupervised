{
  "nbformat": 4,
  "nbformat_minor": 0,
  "metadata": {
    "colab": {
      "provenance": [],
      "authorship_tag": "ABX9TyMK/Kwmd2/iDmZnzvXrPI0r",
      "include_colab_link": true
    },
    "kernelspec": {
      "name": "python3",
      "display_name": "Python 3"
    },
    "language_info": {
      "name": "python"
    }
  },
  "cells": [
    {
      "cell_type": "markdown",
      "metadata": {
        "id": "view-in-github",
        "colab_type": "text"
      },
      "source": [
        "<a href=\"https://colab.research.google.com/github/dtoralg/TheValley-Intro_unsupervised/blob/main/%5B01%5D%20-%20Intro_No_Supervisados/notebooks/E0_Calculo%20de%20Distancias.ipynb\" target=\"_parent\"><img src=\"https://colab.research.google.com/assets/colab-badge.svg\" alt=\"Open In Colab\"/></a>"
      ]
    },
    {
      "cell_type": "markdown",
      "source": [
        "# Celda 1 – Importar librerías y dataset"
      ],
      "metadata": {
        "id": "Z620WESuwPYM"
      }
    },
    {
      "cell_type": "code",
      "execution_count": null,
      "metadata": {
        "id": "jdgIb0eRwNAq"
      },
      "outputs": [],
      "source": [
        "import numpy as np\n",
        "import pandas as pd\n",
        "from scipy.spatial import distance\n",
        "\n",
        "# Creamos un mini-dataset de 3 puntos con 2 features\n",
        "# Puntos diseñados para mostrar diferencias claras entre distancias\n",
        "data = pd.DataFrame({\n",
        "    'Feature1': [1, 10, 5],\n",
        "    'Feature2': [1, 10, 8]\n",
        "}, index=['A', 'B', 'C'])\n",
        "\n",
        "print(\"Mini-dataset:\")\n",
        "display(data)\n"
      ]
    },
    {
      "cell_type": "markdown",
      "source": [
        "# Celda 2: Calculamos distancias manualmente"
      ],
      "metadata": {
        "id": "Oy9QONVSwRXm"
      }
    },
    {
      "cell_type": "code",
      "source": [
        "# Creamos las parejas de puntos\n",
        "pairs = [('A', 'B'), ('A', 'C'), ('B', 'C')]\n",
        "\n",
        "for p1, p2 in pairs:\n",
        "    vec1 = data.loc[p1].values\n",
        "    vec2 = data.loc[p2].values\n",
        "\n",
        "    print(f\"\\nDistancias entre {p1} y {p2}:\")\n",
        "    print(f\"Euclídea: {distance.euclidean(vec1, vec2):.2f}\")\n",
        "    print(f\"Manhattan: {distance.cityblock(vec1, vec2):.2f}\")\n",
        "    print(f\"Coseno: {distance.cosine(vec1, vec2):.2f}\")\n"
      ],
      "metadata": {
        "id": "17qdj0M5wRm-"
      },
      "execution_count": null,
      "outputs": []
    },
    {
      "cell_type": "markdown",
      "source": [
        "# Celda 3: Observación del efecto de escalado"
      ],
      "metadata": {
        "id": "14agwyLFwRyz"
      }
    },
    {
      "cell_type": "code",
      "source": [
        "# Estandarizamos el dataset para observar cómo cambian las distancias\n",
        "from sklearn.preprocessing import StandardScaler\n",
        "\n",
        "scaler = StandardScaler()\n",
        "scaled_data = scaler.fit_transform(data)\n",
        "scaled_df = pd.DataFrame(scaled_data, columns=data.columns, index=data.index)\n",
        "\n",
        "print(\"\\nMini-dataset estandarizado:\")\n",
        "display(scaled_df)\n",
        "\n",
        "for p1, p2 in pairs:\n",
        "    vec1 = scaled_df.loc[p1].values\n",
        "    vec2 = scaled_df.loc[p2].values\n",
        "\n",
        "    print(f\"\\nDistancias (dataset estandarizado) entre {p1} y {p2}:\")\n",
        "    print(f\"Euclídea: {distance.euclidean(vec1, vec2):.2f}\")\n",
        "    print(f\"Manhattan: {distance.cityblock(vec1, vec2):.2f}\")\n",
        "    print(f\"Coseno: {distance.cosine(vec1, vec2):.2f}\")\n"
      ],
      "metadata": {
        "id": "M4Nu-XUPwSAe"
      },
      "execution_count": null,
      "outputs": []
    },
    {
      "cell_type": "markdown",
      "source": [
        "# Reflexión\n"
      ],
      "metadata": {
        "id": "GfWLopFx0-52"
      }
    },
    {
      "cell_type": "markdown",
      "source": [
        "\n",
        "\n",
        "Al terminar el ejercicio, responde estas preguntas:\n",
        "\n",
        "* ¿Qué diferencias observaste en las distancias antes y después del escalado?\n",
        "\n",
        "* ¿Qué distancia fue más sensible a la magnitud de las variables?\n",
        "\n",
        "* ¿Por qué es importante estandarizar los datos antes de aplicar clustering o PCA?\n",
        "\n",
        "* ¿En qué tipo de problemas te imaginas usando la distancia coseno en vez de la euclídea?"
      ],
      "metadata": {
        "id": "bsOxFDNU08T0"
      }
    }
  ]
}