{
  "nbformat": 4,
  "nbformat_minor": 0,
  "metadata": {
    "colab": {
      "provenance": [],
      "authorship_tag": "ABX9TyM4xDNVpZanJzWfGIQfpegH",
      "include_colab_link": true
    },
    "kernelspec": {
      "name": "python3",
      "display_name": "Python 3"
    },
    "language_info": {
      "name": "python"
    }
  },
  "cells": [
    {
      "cell_type": "markdown",
      "metadata": {
        "id": "view-in-github",
        "colab_type": "text"
      },
      "source": [
        "<a href=\"https://colab.research.google.com/github/dtoralg/TheValley-Intro_unsupervised/blob/main/%5B01%5D%20-%20Intro_No_Supervisados/%5B01%5D%20-%20Notebooks/E3_Principal_Component_Analysis.ipynb\" target=\"_parent\"><img src=\"https://colab.research.google.com/assets/colab-badge.svg\" alt=\"Open In Colab\"/></a>"
      ]
    },
    {
      "cell_type": "markdown",
      "metadata": {
        "id": "Z14_gFVCCp56"
      },
      "source": [
        "# Ejercicio de Análisis de Componentes Principales (PCA): Análisis del Dataset IRIS\n"
      ]
    },
    {
      "cell_type": "markdown",
      "source": [
        "## Introducción"
      ],
      "metadata": {
        "id": "r0SWMZMqDf3e"
      }
    },
    {
      "cell_type": "markdown",
      "source": [
        "\n",
        "En este ejercicio vamos a realizar un Análisis de Componentes Principales (PCA), donde aplicaremos técnicas de reducción dimensional para analizar y visualizar el famoso dataset IRIS. PCA es una técnica muy potente que nos permite transformar un conjunto de variables posiblemente correlacionadas en un conjunto más pequeño de variables no correlacionadas, llamadas componentes principales.\n",
        "\n",
        "Esta técnica es lineal, por lo que solamente capturará relaciones lineales entre variables. En PCA buscamos encontrar las componentes principales (ejes) que consiguen que la covarianza entre dos variables tienda a cero.\n",
        "\n",
        "Estas covarianzas se pueden ordenar de mayor a menor, con lo cual podremos encontrar aquellos ejes que explican la mayor parte de la varianza del dataset, pudiendo prescindir de aquellos ejes que representan un porcentaje menor de la misma - aplicando así una reducción dimensional.\n",
        "\n",
        "### Objetivos del Ejercicio\n",
        "\n",
        "- **Comprender los conceptos básicos del PCA** y su utilidad en el análisis de datos.\n",
        "- **Preprocesar los datos** del dataset IRIS para prepararlos adecuadamente para el análisis.\n",
        "- **Aplicar PCA** para reducir la dimensionalidad de los datos del IRIS.\n",
        "- **Visualizar los resultados de PCA** en 2D para interpretar las relaciones entre las muestras.\n",
        "\n",
        "### Descripción del Dataset IRIS\n",
        "\n",
        "El dataset IRIS es uno de los conjuntos de datos más conocidos y utilizados en el campo del Machine Learning y la estadística. Contiene 150 muestras de flores, cada una descrita por cuatro características métricas:\n",
        "\n",
        "- **Sepal Length (cm):** Longitud del sépalo\n",
        "- **Sepal Width (cm):** Ancho del sépalo\n",
        "- **Petal Length (cm):** Longitud del pétalo\n",
        "- **Petal Width (cm):** Ancho del pétalo\n",
        "\n",
        "Además, cada muestra está etiquetada con una de las tres especies de iris:\n",
        "\n",
        "- **Iris-setosa**\n",
        "- **Iris-versicolor**\n",
        "- **Iris-virginica**\n",
        "\n",
        "En este ejercicio, utilizaremos las características métricas para realizar PCA y analizaremos cómo las nuevas componentes principales nos ayudan a entender y visualizar mejor los datos.\n",
        "\n",
        "### Estructura del Notebook\n",
        "\n",
        "1. **Importación de Librerías y Carga de Datos:** Preparar el entorno de trabajo e importar el dataset IRIS.\n",
        "2. **Exploración de Datos:** Analizar las características principales del dataset IRIS.\n",
        "3. **Preprocesamiento de Datos:** Normalizar los datos para asegurar que todas las características contribuyan equitativamente al análisis.\n",
        "4. **Aplicación de PCA:** Implementar PCA para reducir la dimensionalidad de los datos.\n",
        "5. **Visualización de Resultados:** Graficar las componentes principales en 2D para interpretar los clusters formados.\n",
        "\n",
        "### Requisitos\n",
        "\n",
        "Para seguir este notebook, asegúrate de tener instaladas las siguientes librerías de Python:\n",
        "\n",
        "- `numpy`\n",
        "- `pandas`\n",
        "- `matplotlib`\n",
        "- `seaborn`\n",
        "- `scikit-learn`\n",
        "\n",
        "Puedes instalarlas utilizando el siguiente comando:\n",
        "\n",
        "```bash\n",
        "pip install numpy pandas matplotlib seaborn scikit-learn\n"
      ],
      "metadata": {
        "id": "B2DD2FjrVob4"
      }
    },
    {
      "cell_type": "markdown",
      "source": [
        "## Ejercicio de PCA"
      ],
      "metadata": {
        "id": "iXH-UmUEDZ6R"
      }
    },
    {
      "cell_type": "markdown",
      "source": [
        "Cargamos los datos del dataset iris para seguir con nuestro análisis."
      ],
      "metadata": {
        "id": "z08LDD6SLG-A"
      }
    },
    {
      "cell_type": "code",
      "source": [
        "from sklearn.preprocessing import StandardScaler\n",
        "from sklearn.decomposition import PCA\n",
        "import pandas as pd\n",
        "import plotly.express as px\n",
        "import numpy as np"
      ],
      "metadata": {
        "id": "2hBTFRZ3LZ2n"
      },
      "execution_count": 9,
      "outputs": []
    },
    {
      "cell_type": "code",
      "source": [
        "df = px.data.iris() # Otra forma de acceder a IRIS, con plotly express\n",
        "features = [\"sepal_width\", \"sepal_length\", \"petal_width\", \"petal_length\"] # Marcamos las variables numéricas\n",
        "\n",
        "fig = px.scatter_matrix(\n",
        "    df,\n",
        "    dimensions=features,\n",
        "    color=\"species\"\n",
        ")\n",
        "\n",
        "fig.show()"
      ],
      "metadata": {
        "id": "zq5BUuwbJ7XF",
        "colab": {
          "base_uri": "https://localhost:8080/",
          "height": 542
        },
        "outputId": "142e7f17-9254-4646-e814-697539ed9608"
      },
      "execution_count": 10,
      "outputs": [
        {
          "output_type": "display_data",
          "data": {
            "text/html": [
              "<html>\n",
              "<head><meta charset=\"utf-8\" /></head>\n",
              "<body>\n",
              "    <div>            <script src=\"https://cdnjs.cloudflare.com/ajax/libs/mathjax/2.7.5/MathJax.js?config=TeX-AMS-MML_SVG\"></script><script type=\"text/javascript\">if (window.MathJax && window.MathJax.Hub && window.MathJax.Hub.Config) {window.MathJax.Hub.Config({SVG: {font: \"STIX-Web\"}});}</script>                <script type=\"text/javascript\">window.PlotlyConfig = {MathJaxConfig: 'local'};</script>\n",
              "        <script charset=\"utf-8\" src=\"https://cdn.plot.ly/plotly-2.35.2.min.js\"></script>                <div id=\"f3d08143-fe2d-4e13-8467-7a329981752d\" class=\"plotly-graph-div\" style=\"height:525px; width:100%;\"></div>            <script type=\"text/javascript\">                                    window.PLOTLYENV=window.PLOTLYENV || {};                                    if (document.getElementById(\"f3d08143-fe2d-4e13-8467-7a329981752d\")) {                    Plotly.newPlot(                        \"f3d08143-fe2d-4e13-8467-7a329981752d\",                        [{\"dimensions\":[{\"axis\":{\"matches\":true},\"label\":\"sepal_width\",\"values\":[3.5,3.0,3.2,3.1,3.6,3.9,3.4,3.4,2.9,3.1,3.7,3.4,3.0,3.0,4.0,4.4,3.9,3.5,3.8,3.8,3.4,3.7,3.6,3.3,3.4,3.0,3.4,3.5,3.4,3.2,3.1,3.4,4.1,4.2,3.1,3.2,3.5,3.1,3.0,3.4,3.5,2.3,3.2,3.5,3.8,3.0,3.8,3.2,3.7,3.3]},{\"axis\":{\"matches\":true},\"label\":\"sepal_length\",\"values\":[5.1,4.9,4.7,4.6,5.0,5.4,4.6,5.0,4.4,4.9,5.4,4.8,4.8,4.3,5.8,5.7,5.4,5.1,5.7,5.1,5.4,5.1,4.6,5.1,4.8,5.0,5.0,5.2,5.2,4.7,4.8,5.4,5.2,5.5,4.9,5.0,5.5,4.9,4.4,5.1,5.0,4.5,4.4,5.0,5.1,4.8,5.1,4.6,5.3,5.0]},{\"axis\":{\"matches\":true},\"label\":\"petal_width\",\"values\":[0.2,0.2,0.2,0.2,0.2,0.4,0.3,0.2,0.2,0.1,0.2,0.2,0.1,0.1,0.2,0.4,0.4,0.3,0.3,0.3,0.2,0.4,0.2,0.5,0.2,0.2,0.4,0.2,0.2,0.2,0.2,0.4,0.1,0.2,0.1,0.2,0.2,0.1,0.2,0.2,0.3,0.3,0.2,0.6,0.4,0.3,0.2,0.2,0.2,0.2]},{\"axis\":{\"matches\":true},\"label\":\"petal_length\",\"values\":[1.4,1.4,1.3,1.5,1.4,1.7,1.4,1.5,1.4,1.5,1.5,1.6,1.4,1.1,1.2,1.5,1.3,1.4,1.7,1.5,1.7,1.5,1.0,1.7,1.9,1.6,1.6,1.5,1.4,1.6,1.6,1.5,1.5,1.4,1.5,1.2,1.3,1.5,1.3,1.5,1.3,1.3,1.3,1.6,1.9,1.4,1.6,1.4,1.5,1.4]}],\"hovertemplate\":\"species=setosa\\u003cbr\\u003e%{xaxis.title.text}=%{x}\\u003cbr\\u003e%{yaxis.title.text}=%{y}\\u003cextra\\u003e\\u003c\\u002fextra\\u003e\",\"legendgroup\":\"setosa\",\"marker\":{\"color\":\"#636efa\",\"symbol\":\"circle\"},\"name\":\"setosa\",\"showlegend\":true,\"type\":\"splom\"},{\"dimensions\":[{\"axis\":{\"matches\":true},\"label\":\"sepal_width\",\"values\":[3.2,3.2,3.1,2.3,2.8,2.8,3.3,2.4,2.9,2.7,2.0,3.0,2.2,2.9,2.9,3.1,3.0,2.7,2.2,2.5,3.2,2.8,2.5,2.8,2.9,3.0,2.8,3.0,2.9,2.6,2.4,2.4,2.7,2.7,3.0,3.4,3.1,2.3,3.0,2.5,2.6,3.0,2.6,2.3,2.7,3.0,2.9,2.9,2.5,2.8]},{\"axis\":{\"matches\":true},\"label\":\"sepal_length\",\"values\":[7.0,6.4,6.9,5.5,6.5,5.7,6.3,4.9,6.6,5.2,5.0,5.9,6.0,6.1,5.6,6.7,5.6,5.8,6.2,5.6,5.9,6.1,6.3,6.1,6.4,6.6,6.8,6.7,6.0,5.7,5.5,5.5,5.8,6.0,5.4,6.0,6.7,6.3,5.6,5.5,5.5,6.1,5.8,5.0,5.6,5.7,5.7,6.2,5.1,5.7]},{\"axis\":{\"matches\":true},\"label\":\"petal_width\",\"values\":[1.4,1.5,1.5,1.3,1.5,1.3,1.6,1.0,1.3,1.4,1.0,1.5,1.0,1.4,1.3,1.4,1.5,1.0,1.5,1.1,1.8,1.3,1.5,1.2,1.3,1.4,1.4,1.7,1.5,1.0,1.1,1.0,1.2,1.6,1.5,1.6,1.5,1.3,1.3,1.3,1.2,1.4,1.2,1.0,1.3,1.2,1.3,1.3,1.1,1.3]},{\"axis\":{\"matches\":true},\"label\":\"petal_length\",\"values\":[4.7,4.5,4.9,4.0,4.6,4.5,4.7,3.3,4.6,3.9,3.5,4.2,4.0,4.7,3.6,4.4,4.5,4.1,4.5,3.9,4.8,4.0,4.9,4.7,4.3,4.4,4.8,5.0,4.5,3.5,3.8,3.7,3.9,5.1,4.5,4.5,4.7,4.4,4.1,4.0,4.4,4.6,4.0,3.3,4.2,4.2,4.2,4.3,3.0,4.1]}],\"hovertemplate\":\"species=versicolor\\u003cbr\\u003e%{xaxis.title.text}=%{x}\\u003cbr\\u003e%{yaxis.title.text}=%{y}\\u003cextra\\u003e\\u003c\\u002fextra\\u003e\",\"legendgroup\":\"versicolor\",\"marker\":{\"color\":\"#EF553B\",\"symbol\":\"circle\"},\"name\":\"versicolor\",\"showlegend\":true,\"type\":\"splom\"},{\"dimensions\":[{\"axis\":{\"matches\":true},\"label\":\"sepal_width\",\"values\":[3.3,2.7,3.0,2.9,3.0,3.0,2.5,2.9,2.5,3.6,3.2,2.7,3.0,2.5,2.8,3.2,3.0,3.8,2.6,2.2,3.2,2.8,2.8,2.7,3.3,3.2,2.8,3.0,2.8,3.0,2.8,3.8,2.8,2.8,2.6,3.0,3.4,3.1,3.0,3.1,3.1,3.1,2.7,3.2,3.3,3.0,2.5,3.0,3.4,3.0]},{\"axis\":{\"matches\":true},\"label\":\"sepal_length\",\"values\":[6.3,5.8,7.1,6.3,6.5,7.6,4.9,7.3,6.7,7.2,6.5,6.4,6.8,5.7,5.8,6.4,6.5,7.7,7.7,6.0,6.9,5.6,7.7,6.3,6.7,7.2,6.2,6.1,6.4,7.2,7.4,7.9,6.4,6.3,6.1,7.7,6.3,6.4,6.0,6.9,6.7,6.9,5.8,6.8,6.7,6.7,6.3,6.5,6.2,5.9]},{\"axis\":{\"matches\":true},\"label\":\"petal_width\",\"values\":[2.5,1.9,2.1,1.8,2.2,2.1,1.7,1.8,1.8,2.5,2.0,1.9,2.1,2.0,2.4,2.3,1.8,2.2,2.3,1.5,2.3,2.0,2.0,1.8,2.1,1.8,1.8,1.8,2.1,1.6,1.9,2.0,2.2,1.5,1.4,2.3,2.4,1.8,1.8,2.1,2.4,2.3,1.9,2.3,2.5,2.3,1.9,2.0,2.3,1.8]},{\"axis\":{\"matches\":true},\"label\":\"petal_length\",\"values\":[6.0,5.1,5.9,5.6,5.8,6.6,4.5,6.3,5.8,6.1,5.1,5.3,5.5,5.0,5.1,5.3,5.5,6.7,6.9,5.0,5.7,4.9,6.7,4.9,5.7,6.0,4.8,4.9,5.6,5.8,6.1,6.4,5.6,5.1,5.6,6.1,5.6,5.5,4.8,5.4,5.6,5.1,5.1,5.9,5.7,5.2,5.0,5.2,5.4,5.1]}],\"hovertemplate\":\"species=virginica\\u003cbr\\u003e%{xaxis.title.text}=%{x}\\u003cbr\\u003e%{yaxis.title.text}=%{y}\\u003cextra\\u003e\\u003c\\u002fextra\\u003e\",\"legendgroup\":\"virginica\",\"marker\":{\"color\":\"#00cc96\",\"symbol\":\"circle\"},\"name\":\"virginica\",\"showlegend\":true,\"type\":\"splom\"}],                        {\"template\":{\"data\":{\"histogram2dcontour\":[{\"type\":\"histogram2dcontour\",\"colorbar\":{\"outlinewidth\":0,\"ticks\":\"\"},\"colorscale\":[[0.0,\"#0d0887\"],[0.1111111111111111,\"#46039f\"],[0.2222222222222222,\"#7201a8\"],[0.3333333333333333,\"#9c179e\"],[0.4444444444444444,\"#bd3786\"],[0.5555555555555556,\"#d8576b\"],[0.6666666666666666,\"#ed7953\"],[0.7777777777777778,\"#fb9f3a\"],[0.8888888888888888,\"#fdca26\"],[1.0,\"#f0f921\"]]}],\"choropleth\":[{\"type\":\"choropleth\",\"colorbar\":{\"outlinewidth\":0,\"ticks\":\"\"}}],\"histogram2d\":[{\"type\":\"histogram2d\",\"colorbar\":{\"outlinewidth\":0,\"ticks\":\"\"},\"colorscale\":[[0.0,\"#0d0887\"],[0.1111111111111111,\"#46039f\"],[0.2222222222222222,\"#7201a8\"],[0.3333333333333333,\"#9c179e\"],[0.4444444444444444,\"#bd3786\"],[0.5555555555555556,\"#d8576b\"],[0.6666666666666666,\"#ed7953\"],[0.7777777777777778,\"#fb9f3a\"],[0.8888888888888888,\"#fdca26\"],[1.0,\"#f0f921\"]]}],\"heatmap\":[{\"type\":\"heatmap\",\"colorbar\":{\"outlinewidth\":0,\"ticks\":\"\"},\"colorscale\":[[0.0,\"#0d0887\"],[0.1111111111111111,\"#46039f\"],[0.2222222222222222,\"#7201a8\"],[0.3333333333333333,\"#9c179e\"],[0.4444444444444444,\"#bd3786\"],[0.5555555555555556,\"#d8576b\"],[0.6666666666666666,\"#ed7953\"],[0.7777777777777778,\"#fb9f3a\"],[0.8888888888888888,\"#fdca26\"],[1.0,\"#f0f921\"]]}],\"heatmapgl\":[{\"type\":\"heatmapgl\",\"colorbar\":{\"outlinewidth\":0,\"ticks\":\"\"},\"colorscale\":[[0.0,\"#0d0887\"],[0.1111111111111111,\"#46039f\"],[0.2222222222222222,\"#7201a8\"],[0.3333333333333333,\"#9c179e\"],[0.4444444444444444,\"#bd3786\"],[0.5555555555555556,\"#d8576b\"],[0.6666666666666666,\"#ed7953\"],[0.7777777777777778,\"#fb9f3a\"],[0.8888888888888888,\"#fdca26\"],[1.0,\"#f0f921\"]]}],\"contourcarpet\":[{\"type\":\"contourcarpet\",\"colorbar\":{\"outlinewidth\":0,\"ticks\":\"\"}}],\"contour\":[{\"type\":\"contour\",\"colorbar\":{\"outlinewidth\":0,\"ticks\":\"\"},\"colorscale\":[[0.0,\"#0d0887\"],[0.1111111111111111,\"#46039f\"],[0.2222222222222222,\"#7201a8\"],[0.3333333333333333,\"#9c179e\"],[0.4444444444444444,\"#bd3786\"],[0.5555555555555556,\"#d8576b\"],[0.6666666666666666,\"#ed7953\"],[0.7777777777777778,\"#fb9f3a\"],[0.8888888888888888,\"#fdca26\"],[1.0,\"#f0f921\"]]}],\"surface\":[{\"type\":\"surface\",\"colorbar\":{\"outlinewidth\":0,\"ticks\":\"\"},\"colorscale\":[[0.0,\"#0d0887\"],[0.1111111111111111,\"#46039f\"],[0.2222222222222222,\"#7201a8\"],[0.3333333333333333,\"#9c179e\"],[0.4444444444444444,\"#bd3786\"],[0.5555555555555556,\"#d8576b\"],[0.6666666666666666,\"#ed7953\"],[0.7777777777777778,\"#fb9f3a\"],[0.8888888888888888,\"#fdca26\"],[1.0,\"#f0f921\"]]}],\"mesh3d\":[{\"type\":\"mesh3d\",\"colorbar\":{\"outlinewidth\":0,\"ticks\":\"\"}}],\"scatter\":[{\"fillpattern\":{\"fillmode\":\"overlay\",\"size\":10,\"solidity\":0.2},\"type\":\"scatter\"}],\"parcoords\":[{\"type\":\"parcoords\",\"line\":{\"colorbar\":{\"outlinewidth\":0,\"ticks\":\"\"}}}],\"scatterpolargl\":[{\"type\":\"scatterpolargl\",\"marker\":{\"colorbar\":{\"outlinewidth\":0,\"ticks\":\"\"}}}],\"bar\":[{\"error_x\":{\"color\":\"#2a3f5f\"},\"error_y\":{\"color\":\"#2a3f5f\"},\"marker\":{\"line\":{\"color\":\"#E5ECF6\",\"width\":0.5},\"pattern\":{\"fillmode\":\"overlay\",\"size\":10,\"solidity\":0.2}},\"type\":\"bar\"}],\"scattergeo\":[{\"type\":\"scattergeo\",\"marker\":{\"colorbar\":{\"outlinewidth\":0,\"ticks\":\"\"}}}],\"scatterpolar\":[{\"type\":\"scatterpolar\",\"marker\":{\"colorbar\":{\"outlinewidth\":0,\"ticks\":\"\"}}}],\"histogram\":[{\"marker\":{\"pattern\":{\"fillmode\":\"overlay\",\"size\":10,\"solidity\":0.2}},\"type\":\"histogram\"}],\"scattergl\":[{\"type\":\"scattergl\",\"marker\":{\"colorbar\":{\"outlinewidth\":0,\"ticks\":\"\"}}}],\"scatter3d\":[{\"type\":\"scatter3d\",\"line\":{\"colorbar\":{\"outlinewidth\":0,\"ticks\":\"\"}},\"marker\":{\"colorbar\":{\"outlinewidth\":0,\"ticks\":\"\"}}}],\"scattermapbox\":[{\"type\":\"scattermapbox\",\"marker\":{\"colorbar\":{\"outlinewidth\":0,\"ticks\":\"\"}}}],\"scatterternary\":[{\"type\":\"scatterternary\",\"marker\":{\"colorbar\":{\"outlinewidth\":0,\"ticks\":\"\"}}}],\"scattercarpet\":[{\"type\":\"scattercarpet\",\"marker\":{\"colorbar\":{\"outlinewidth\":0,\"ticks\":\"\"}}}],\"carpet\":[{\"aaxis\":{\"endlinecolor\":\"#2a3f5f\",\"gridcolor\":\"white\",\"linecolor\":\"white\",\"minorgridcolor\":\"white\",\"startlinecolor\":\"#2a3f5f\"},\"baxis\":{\"endlinecolor\":\"#2a3f5f\",\"gridcolor\":\"white\",\"linecolor\":\"white\",\"minorgridcolor\":\"white\",\"startlinecolor\":\"#2a3f5f\"},\"type\":\"carpet\"}],\"table\":[{\"cells\":{\"fill\":{\"color\":\"#EBF0F8\"},\"line\":{\"color\":\"white\"}},\"header\":{\"fill\":{\"color\":\"#C8D4E3\"},\"line\":{\"color\":\"white\"}},\"type\":\"table\"}],\"barpolar\":[{\"marker\":{\"line\":{\"color\":\"#E5ECF6\",\"width\":0.5},\"pattern\":{\"fillmode\":\"overlay\",\"size\":10,\"solidity\":0.2}},\"type\":\"barpolar\"}],\"pie\":[{\"automargin\":true,\"type\":\"pie\"}]},\"layout\":{\"autotypenumbers\":\"strict\",\"colorway\":[\"#636efa\",\"#EF553B\",\"#00cc96\",\"#ab63fa\",\"#FFA15A\",\"#19d3f3\",\"#FF6692\",\"#B6E880\",\"#FF97FF\",\"#FECB52\"],\"font\":{\"color\":\"#2a3f5f\"},\"hovermode\":\"closest\",\"hoverlabel\":{\"align\":\"left\"},\"paper_bgcolor\":\"white\",\"plot_bgcolor\":\"#E5ECF6\",\"polar\":{\"bgcolor\":\"#E5ECF6\",\"angularaxis\":{\"gridcolor\":\"white\",\"linecolor\":\"white\",\"ticks\":\"\"},\"radialaxis\":{\"gridcolor\":\"white\",\"linecolor\":\"white\",\"ticks\":\"\"}},\"ternary\":{\"bgcolor\":\"#E5ECF6\",\"aaxis\":{\"gridcolor\":\"white\",\"linecolor\":\"white\",\"ticks\":\"\"},\"baxis\":{\"gridcolor\":\"white\",\"linecolor\":\"white\",\"ticks\":\"\"},\"caxis\":{\"gridcolor\":\"white\",\"linecolor\":\"white\",\"ticks\":\"\"}},\"coloraxis\":{\"colorbar\":{\"outlinewidth\":0,\"ticks\":\"\"}},\"colorscale\":{\"sequential\":[[0.0,\"#0d0887\"],[0.1111111111111111,\"#46039f\"],[0.2222222222222222,\"#7201a8\"],[0.3333333333333333,\"#9c179e\"],[0.4444444444444444,\"#bd3786\"],[0.5555555555555556,\"#d8576b\"],[0.6666666666666666,\"#ed7953\"],[0.7777777777777778,\"#fb9f3a\"],[0.8888888888888888,\"#fdca26\"],[1.0,\"#f0f921\"]],\"sequentialminus\":[[0.0,\"#0d0887\"],[0.1111111111111111,\"#46039f\"],[0.2222222222222222,\"#7201a8\"],[0.3333333333333333,\"#9c179e\"],[0.4444444444444444,\"#bd3786\"],[0.5555555555555556,\"#d8576b\"],[0.6666666666666666,\"#ed7953\"],[0.7777777777777778,\"#fb9f3a\"],[0.8888888888888888,\"#fdca26\"],[1.0,\"#f0f921\"]],\"diverging\":[[0,\"#8e0152\"],[0.1,\"#c51b7d\"],[0.2,\"#de77ae\"],[0.3,\"#f1b6da\"],[0.4,\"#fde0ef\"],[0.5,\"#f7f7f7\"],[0.6,\"#e6f5d0\"],[0.7,\"#b8e186\"],[0.8,\"#7fbc41\"],[0.9,\"#4d9221\"],[1,\"#276419\"]]},\"xaxis\":{\"gridcolor\":\"white\",\"linecolor\":\"white\",\"ticks\":\"\",\"title\":{\"standoff\":15},\"zerolinecolor\":\"white\",\"automargin\":true,\"zerolinewidth\":2},\"yaxis\":{\"gridcolor\":\"white\",\"linecolor\":\"white\",\"ticks\":\"\",\"title\":{\"standoff\":15},\"zerolinecolor\":\"white\",\"automargin\":true,\"zerolinewidth\":2},\"scene\":{\"xaxis\":{\"backgroundcolor\":\"#E5ECF6\",\"gridcolor\":\"white\",\"linecolor\":\"white\",\"showbackground\":true,\"ticks\":\"\",\"zerolinecolor\":\"white\",\"gridwidth\":2},\"yaxis\":{\"backgroundcolor\":\"#E5ECF6\",\"gridcolor\":\"white\",\"linecolor\":\"white\",\"showbackground\":true,\"ticks\":\"\",\"zerolinecolor\":\"white\",\"gridwidth\":2},\"zaxis\":{\"backgroundcolor\":\"#E5ECF6\",\"gridcolor\":\"white\",\"linecolor\":\"white\",\"showbackground\":true,\"ticks\":\"\",\"zerolinecolor\":\"white\",\"gridwidth\":2}},\"shapedefaults\":{\"line\":{\"color\":\"#2a3f5f\"}},\"annotationdefaults\":{\"arrowcolor\":\"#2a3f5f\",\"arrowhead\":0,\"arrowwidth\":1},\"geo\":{\"bgcolor\":\"white\",\"landcolor\":\"#E5ECF6\",\"subunitcolor\":\"white\",\"showland\":true,\"showlakes\":true,\"lakecolor\":\"white\"},\"title\":{\"x\":0.05},\"mapbox\":{\"style\":\"light\"}}},\"legend\":{\"title\":{\"text\":\"species\"},\"tracegroupgap\":0},\"margin\":{\"t\":60},\"dragmode\":\"select\"},                        {\"responsive\": true}                    ).then(function(){\n",
              "                            \n",
              "var gd = document.getElementById('f3d08143-fe2d-4e13-8467-7a329981752d');\n",
              "var x = new MutationObserver(function (mutations, observer) {{\n",
              "        var display = window.getComputedStyle(gd).display;\n",
              "        if (!display || display === 'none') {{\n",
              "            console.log([gd, 'removed!']);\n",
              "            Plotly.purge(gd);\n",
              "            observer.disconnect();\n",
              "        }}\n",
              "}});\n",
              "\n",
              "// Listen for the removal of the full notebook cells\n",
              "var notebookContainer = gd.closest('#notebook-container');\n",
              "if (notebookContainer) {{\n",
              "    x.observe(notebookContainer, {childList: true});\n",
              "}}\n",
              "\n",
              "// Listen for the clearing of the current output cell\n",
              "var outputEl = gd.closest('.output');\n",
              "if (outputEl) {{\n",
              "    x.observe(outputEl, {childList: true});\n",
              "}}\n",
              "\n",
              "                        })                };                            </script>        </div>\n",
              "</body>\n",
              "</html>"
            ]
          },
          "metadata": {}
        }
      ]
    },
    {
      "cell_type": "markdown",
      "source": [
        "Extraemos el modelo PCA de los datos de IRIS y hallamos las componentes principales para almacenarlas en `components`"
      ],
      "metadata": {
        "id": "suhsDm0eNIFX"
      }
    },
    {
      "cell_type": "code",
      "source": [
        "df_norm = StandardScaler().fit_transform(df[features].values)\n",
        "pca = PCA()\n",
        "components = pca.fit_transform(df_norm)"
      ],
      "metadata": {
        "id": "9r6P7ogIMqLF"
      },
      "execution_count": 11,
      "outputs": []
    },
    {
      "cell_type": "markdown",
      "source": [
        "Con la siguiente función graficamos los distintos datapoints respecto a las combinaciones lineales de los 4 ejes principales que hemos obtenido.\n",
        "\n",
        "Recordemos que como en el dataset IRIS tenemos 4 variables, el número máximo de Componentes Principales que podemos obtener siempre será 4."
      ],
      "metadata": {
        "id": "HaLh1sZDN4DD"
      }
    },
    {
      "cell_type": "code",
      "source": [
        "labels = {\n",
        "    str(i): f\"PC {i+1} ({var:.1f}%)\"\n",
        "    for i, var in enumerate(pca.explained_variance_ratio_ * 100)\n",
        "}\n",
        "\n",
        "fig = px.scatter_matrix(\n",
        "    components,\n",
        "    labels=labels,\n",
        "    dimensions=range(4),\n",
        "    color=df[\"species\"]\n",
        ")\n",
        "\n",
        "fig.show()"
      ],
      "metadata": {
        "id": "oToCktYlKKAz",
        "colab": {
          "base_uri": "https://localhost:8080/",
          "height": 542
        },
        "outputId": "0326206b-47e8-4537-f581-3d75d918cec7"
      },
      "execution_count": 12,
      "outputs": [
        {
          "output_type": "display_data",
          "data": {
            "text/html": [
              "<html>\n",
              "<head><meta charset=\"utf-8\" /></head>\n",
              "<body>\n",
              "    <div>            <script src=\"https://cdnjs.cloudflare.com/ajax/libs/mathjax/2.7.5/MathJax.js?config=TeX-AMS-MML_SVG\"></script><script type=\"text/javascript\">if (window.MathJax && window.MathJax.Hub && window.MathJax.Hub.Config) {window.MathJax.Hub.Config({SVG: {font: \"STIX-Web\"}});}</script>                <script type=\"text/javascript\">window.PlotlyConfig = {MathJaxConfig: 'local'};</script>\n",
              "        <script charset=\"utf-8\" src=\"https://cdn.plot.ly/plotly-2.35.2.min.js\"></script>                <div id=\"86eec453-85e2-47af-bba5-989ad29604f9\" class=\"plotly-graph-div\" style=\"height:525px; width:100%;\"></div>            <script type=\"text/javascript\">                                    window.PLOTLYENV=window.PLOTLYENV || {};                                    if (document.getElementById(\"86eec453-85e2-47af-bba5-989ad29604f9\")) {                    Plotly.newPlot(                        \"86eec453-85e2-47af-bba5-989ad29604f9\",                        [{\"dimensions\":[{\"axis\":{\"matches\":true},\"label\":\"PC 1 (72.8%)\",\"values\":[-2.2645417283949,-2.086425500616159,-2.367950449062526,-2.3041971611520093,-2.388777493505642,-2.0705368071805528,-2.4457113396302836,-2.233841858709266,-2.34195767645539,-2.1886757552808698,-2.1634865562665224,-2.327377754134374,-2.2240827220450026,-2.63971626084463,-2.1922915084984287,-2.2514652145840643,-2.202750480080085,-2.190179163791052,-1.894074293023668,-2.339949070423408,-1.9145563949595172,-2.2046453975338136,-2.7741697937051564,-1.820411563337214,-2.228217499459725,-1.9570240073413971,-2.0520633112766866,-2.168193653345021,-2.1403059632841575,-2.2687901943878765,-2.1445544292771346,-1.8319381022015873,-2.608202867663347,-2.4379508590951424,-2.1886757552808698,-2.211119896812422,-2.0444165193198005,-2.1886757552808698,-2.4359522029660194,-2.1705472018842706,-2.28652723884093,-1.8717072235369514,-2.5578344195375124,-1.964279290354737,-2.1333728329200277,-2.0753575928373067,-2.381258216802373,-2.398191687662639,-2.2267812130915186,-2.2059541686484025]},{\"axis\":{\"matches\":true},\"label\":\"PC 2 (23.0%)\",\"values\":[0.5057039027737852,-0.6554047293691364,-0.3184773108472486,-0.5753677125331949,0.674767396702516,1.518548559888514,0.07456267500687491,0.24761393175226576,-1.0951463625829547,-0.44862904833755884,1.070595576037727,0.1585874546594767,-0.709118158030226,-0.9382819821078536,1.8899785123164665,2.72237107657447,1.5137502825462192,0.5143043082206934,1.4311107069412377,1.1580334289850023,0.4304651632801383,0.952457317288999,0.48951702650349593,0.10675079283540677,0.16218616266619768,-0.6078925674838079,0.26601431198165576,0.5520164953235404,0.3366404088450547,-0.31487860284052765,-0.4839420967692585,0.4452668355028073,1.8284751927341027,2.185391615630894,-0.44862904833755884,-0.18433781054027842,0.6849564262949369,-0.44862904833755884,-0.8821694147756164,0.2927269549664468,0.46799171567093867,-2.32769160611491,-0.45381638048979234,0.49739164001838426,1.171432111774205,-0.6919173471364096,1.1506325928736676,-0.36239076472585646,1.0254825528235456,0.0322378452737801]},{\"axis\":{\"matches\":true},\"label\":\"PC 3 (3.7%)\",\"values\":[0.12194334778175694,0.22725083239924868,-0.05147962364496686,-0.09886044443740315,-0.021427848973115143,-0.030684258280724633,-0.34219763621375454,0.0825744644548511,-0.15356239869462568,0.24655952238860795,0.2640093733471052,-0.10016561562692773,0.2232145139927609,-0.18957003015127227,0.469480094635948,-0.032603796659031986,0.0013634915813944253,0.03861559488011973,0.3707428339920339,-0.13741771892565388,0.4160068747562897,-0.16473834638054327,-0.3388363843434943,-0.040061472426247746,-0.12420142802351701,0.2985910287763133,-0.09209297881395308,0.20129548162435212,0.26531454453662995,-0.07551543604155618,0.06785576071331613,0.2653752438840749,-0.05141951815449872,0.07934975488701909,0.24655952238860795,0.21862452774493638,0.47941157047978494,0.24655952238860795,-0.20155758667584395,0.16993853576297518,-0.04073653896247459,0.1945286098578791,-0.31357183756933993,-0.31475561006397534,-0.2527932216894101,0.056559008189486615,-0.06210190348954645,-0.14685563241862137,0.17664530203898027,0.14659352736712902]},{\"axis\":{\"matches\":true},\"label\":\"PC 4 (0.5%)\",\"values\":[-0.023073323454622322,-0.103208244417056,-0.02782522502245236,0.06631146221369387,0.03739728700029166,-0.004398774942174218,0.03809656680192286,0.025505162266298825,0.02679382910986172,0.03990730349315018,-0.015301137681095991,0.1345542584421344,-0.0026306138163780814,0.019422018289474312,-0.19278204217416514,-0.04712570434049536,-0.18663158100307312,-0.09190550672499487,-0.0595280967873264,0.0398281841640563,-0.010360224024473116,-0.05772916223092507,-0.01785372973938592,-0.15034559496928354,0.2712288629878085,-0.04383728871691164,-0.06660100275922157,-0.009260569269702881,-0.08354393390953663,0.1088493795232219,0.04837876906830793,-0.23914099359566776,0.23192259274832228,0.05102102909641815,0.03990730349315018,-0.16861976852859326,-0.19561331429106835,0.03990730349315018,0.009960790719245905,-0.006240285064006327,-0.10571826090991446,-0.29169298175369374,0.06741111696846355,-0.17554020617535784,0.15322880695458255,-0.14029498035712318,0.15421856894965377,0.04947842382307788,0.01644430964920938,-0.04877820237353481]}],\"hovertemplate\":\"color=setosa\\u003cbr\\u003e%{xaxis.title.text}=%{x}\\u003cbr\\u003e%{yaxis.title.text}=%{y}\\u003cextra\\u003e\\u003c\\u002fextra\\u003e\",\"legendgroup\":\"setosa\",\"marker\":{\"color\":\"#636efa\",\"symbol\":\"circle\"},\"name\":\"setosa\",\"showlegend\":true,\"type\":\"splom\"},{\"dimensions\":[{\"axis\":{\"matches\":true},\"label\":\"PC 1 (72.8%)\",\"values\":[1.1039936528045724,0.7324814400086809,1.2421095053189377,0.3973072828233269,1.072593948201545,0.3844581461690015,0.748715075951553,-0.4978633877981183,0.9262223675330978,0.004968025584319231,-0.12469746138037133,0.4387301177805467,0.551633981422507,0.7171650662368511,-0.03725838296568835,0.8758905359406831,0.3480064019802086,0.15339254456866666,1.2153032092161535,0.15694117564425028,0.7382561043698961,0.4723696823445683,1.2279882140834422,0.6293810453149016,0.7004727992084581,0.8735369874014336,1.2542221905224498,1.3582398473872717,0.6621261375659376,-0.04728151331988038,0.12153420888011836,0.014118226051387378,0.23601083732659658,1.0566914280905764,0.2214170883302178,0.43178316074105366,1.0494133552191802,1.0358782103228237,0.06706759987298029,0.275425066251834,0.27233506626177184,0.6231705397262214,0.33000536383722623,-0.3736276226873765,0.2829443429551026,0.08905311031901139,0.2243567832086059,0.5738834855584668,-0.4570128725046751,0.25224447326946914]},{\"axis\":{\"matches\":true},\"label\":\"PC 2 (23.0%)\",\"values\":[0.8631124458513239,0.598635573341997,0.6148224496122862,-1.7581689474435265,-0.21175790267989616,-0.5910624686227366,0.7786986113887823,-1.8488687712754426,0.03033082678338059,-1.0294011124030877,-2.658062677961761,-0.058881285021454316,-1.7725815648562557,-0.185434314505044,-0.43279509871416894,0.509998151059147,-0.19062164665727754,-0.7907254562344856,-1.6333556445154838,-1.3031032701729113,0.40247038161853627,-0.41660822244387985,-0.9409147925302731,-0.41681164254177244,-0.06349392765170264,0.25070861070205347,-0.08262009981311325,0.3288202662704016,-0.22434607094346423,-1.0572124126050206,-1.5635923798655784,-1.5733923546480602,-0.7759237840118167,-0.6369012837689372,-0.28084769308563984,0.8551369202180031,0.5221972645127763,-1.3924664843877816,-0.2126207348933886,-1.3298159131577023,-1.119441524119404,0.02754263330229436,-0.9889007318191552,-2.0179322652041733,-0.8539507169865501,-0.17490854779054157,-0.3804846594865454,-0.1537199740800653,-1.5394645102639808,-0.5958607459650311]},{\"axis\":{\"matches\":true},\"label\":\"PC 3 (3.7%)\",\"values\":[0.6855551077942378,0.09406680197491354,0.5548465341001647,0.018569482353448397,0.39744743760450024,-0.12679768959169138,-0.14865602261265595,-0.2555552499784263,0.5954598892691505,-0.5428670487940244,0.03981344818563035,-0.20670349127562335,0.7613802230457299,0.06729984236136136,-0.1980614491567964,0.5035058317132018,-0.49283151759658667,0.2986045157302112,0.4794099138261446,0.16858674603688048,-0.6167726256672097,0.26271828296845495,0.3667048589319056,0.2899624736113837,0.44476755904949156,0.472148885851825,0.7268435294994511,0.26145807366185986,-0.08736810691734048,0.3153191946620137,0.14524173764103418,0.23658142800820112,0.14797288485799648,-0.10675323371866044,-0.6675596602128351,-0.45073148705271765,0.3961422664149754,0.6854343029563248,-0.2941282619311933,-0.09344476854004775,-0.09817189094727766,0.019304654380143102,0.19596807283921475,-0.11218405322355401,-0.1341188230564792,-0.13144837518696093,-0.15876900264185012,0.27003941643324253,-0.196126173313974,-0.09474993972957227]},{\"axis\":{\"matches\":true},\"label\":\"PC 4 (0.5%)\",\"values\":[-0.034977861346303624,-0.004453763665294042,-0.00967335738053021,-0.06739784684940428,-0.10554166197881007,0.24052808168915302,0.07830106654969723,0.039389139461580715,0.02910242035623875,0.028348762854349768,-0.01614055733671016,-0.03985145780865936,-0.048353696814421865,0.16455567525261786,-0.10902512149295551,-0.10514128702567081,0.19205948872793108,0.20432121498445763,-0.22821450025077167,0.05041319709502856,0.08445152772078907,-0.11424471520819193,0.008448347853648898,0.27349487866875416,-0.0440812895288251,-0.10212100281997409,-0.040829417668903634,-0.06701379087004897,0.036352536282100834,-0.06600770990119448,0.007875279785500082,0.03114926154064811,-0.024459554586736914,0.1834192358538591,0.25555038338854147,0.11114616863477236,-0.03729886575036925,-0.13912861943094754,0.147491049207777,-0.009947520600186551,0.2698426318556942,0.14772263686200177,-0.007626516196120962,-0.021081470993333372,0.10687376134917556,0.23013598666306917,0.13257864026808766,0.01940960513178563,-0.20088337989046767,0.058295275628253776]}],\"hovertemplate\":\"color=versicolor\\u003cbr\\u003e%{xaxis.title.text}=%{x}\\u003cbr\\u003e%{yaxis.title.text}=%{y}\\u003cextra\\u003e\\u003c\\u002fextra\\u003e\",\"legendgroup\":\"versicolor\",\"marker\":{\"color\":\"#EF553B\",\"symbol\":\"circle\"},\"name\":\"versicolor\",\"showlegend\":true,\"type\":\"splom\"},{\"dimensions\":[{\"axis\":{\"matches\":true},\"label\":\"PC 1 (72.8%)\",\"values\":[1.8476725943096646,1.153189808252129,2.206349497126593,1.4386854023261817,1.8678907025555846,2.7541967088257526,0.3583744748416678,2.303005898150319,2.001735299218916,2.2675545991022688,1.3659094292022145,1.5990645856518693,1.8842518537520743,1.2530865143775918,1.4640615229856226,1.5918093026385292,1.4712801894655436,2.4373784821935085,3.309141182676079,1.2539809866905776,2.040496259663039,0.9739151144704737,2.8980644358432763,1.3291936913234932,1.704240708519606,1.9577276617934352,1.1719045079878685,1.019781052816263,1.7860088612484681,1.864777912707466,2.435497391415143,2.3160824119611547,1.8603714258523163,1.1112717256759688,1.1974691551180374,2.800949403734029,1.5801552485205375,1.3470444243548019,0.9234329777663843,1.853551984066441,2.016157200677759,1.903116858599487,1.153189808252129,2.0433084392878094,2.001690966934998,1.8705220714601258,1.558491890723717,1.5208450639985907,1.3763911906419284,0.959298575616038]},{\"axis\":{\"matches\":true},\"label\":\"PC 2 (23.0%)\",\"values\":[0.8716966617734135,-0.7013261138565753,0.5544701049349223,-0.05001052226888562,0.2911928017611692,0.7884322063548445,-1.560094583977289,0.4095166952219429,-0.72386535931266,1.921442991465355,0.6939480398041613,-0.42824883590034,0.4143327579500838,-1.1673913352452459,-0.4441475694791233,0.6770353716018519,0.25319247196681544,2.5567573414948024,-0.0023613201020839074,-1.717583844265978,0.907398765015053,-0.571174376366266,0.3977913591718673,-0.4867605419037244,1.0141484248357855,1.003334515429777,-0.31889661731056806,0.06554296309664816,-0.1932727998568915,0.5553815315789892,0.24665446806897337,2.626183869022628,-0.18467239440998331,-0.2959861024303906,-0.8171677419136163,0.844748193784974,1.0724744961271229,0.4222559658955463,0.019230370546893368,0.6724227289716037,0.610397037555113,0.6860248318586991,-0.7013261138565753,0.8646848804720189,1.0485500466234183,0.38282183762299815,-0.9053136014070666,0.26679457485391084,1.0163619287948862,-0.022283944660566785]},{\"axis\":{\"matches\":true},\"label\":\"PC 3 (3.7%)\",\"values\":[-1.0027609857792774,-0.5314646350398209,0.20549591009804052,-0.16339046381870623,-0.3940043331868134,0.5862327043799545,-0.9909998953229917,0.65416668700383,0.39407044826972454,-0.39251765781193065,-0.2832795160183266,-0.023304082122133165,-0.024548553964213682,-0.5821302708905565,-1.0041105249947544,-0.6366507209624218,-0.03665750918367543,0.13420008174692877,0.706933959275208,0.26462208388224656,-0.23187811428391852,-0.8295037810733956,0.8609268420176831,0.004707349333497981,-0.2959578765436411,0.4228170517520512,-0.1306519099558441,-0.33804216962299505,-0.2700025257687447,0.717510683379881,0.7302340057881257,0.49961954256304153,-0.35333027867038186,0.18265960766060224,0.16321378151183735,0.5470009572124545,-0.943392608462269,-0.1800287059385476,-0.4173943034655893,0.014820329362692905,-0.4259149468895268,-0.12779936404399184,-0.5314646350398209,-0.3352660605231029,-0.6292688881501898,-0.25453231867902254,0.025381909859827207,-0.17927720259036037,-0.9314050519376965,-0.5287941871703028]},{\"axis\":{\"matches\":true},\"label\":\"PC 4 (0.5%)\",\"values\":[0.051068036814265784,0.040413580703352076,-0.05930049963573758,0.23575986114753933,0.016781799560496805,0.10087967431930915,0.13298743787627887,0.23721279845105964,0.08499382235833225,-0.10290729826943094,-0.10701091825611367,-0.058942700248030444,-0.1462969637057207,-0.09968168300115762,-0.27502217252390204,-0.1906456177064765,0.15543592809631296,0.27566155023072647,-0.04675618750450221,0.06306740198596297,-0.1671400482971039,-0.027318947812250305,0.12607428552538358,-0.1405978757082512,0.06274037602886043,0.2184591306095171,-0.1256854667685622,0.009068508326185888,-0.031207299118492765,0.20755676787059504,0.01679360169532302,0.21316041756518678,-0.10003948238886531,0.18574024025792452,0.4884039995158141,-0.29632114712786545,-0.033607422851651886,0.21590653855122705,-0.004744245858733894,-0.194875449426642,-0.24676470154669983,-0.4692144205130615,0.040413580703352076,-0.044278197936348906,-0.21258835705262988,-0.3888904874618348,-0.22132218371261675,-0.11890304299010643,-0.024146195281423255,0.16367580601724552]}],\"hovertemplate\":\"color=virginica\\u003cbr\\u003e%{xaxis.title.text}=%{x}\\u003cbr\\u003e%{yaxis.title.text}=%{y}\\u003cextra\\u003e\\u003c\\u002fextra\\u003e\",\"legendgroup\":\"virginica\",\"marker\":{\"color\":\"#00cc96\",\"symbol\":\"circle\"},\"name\":\"virginica\",\"showlegend\":true,\"type\":\"splom\"}],                        {\"template\":{\"data\":{\"histogram2dcontour\":[{\"type\":\"histogram2dcontour\",\"colorbar\":{\"outlinewidth\":0,\"ticks\":\"\"},\"colorscale\":[[0.0,\"#0d0887\"],[0.1111111111111111,\"#46039f\"],[0.2222222222222222,\"#7201a8\"],[0.3333333333333333,\"#9c179e\"],[0.4444444444444444,\"#bd3786\"],[0.5555555555555556,\"#d8576b\"],[0.6666666666666666,\"#ed7953\"],[0.7777777777777778,\"#fb9f3a\"],[0.8888888888888888,\"#fdca26\"],[1.0,\"#f0f921\"]]}],\"choropleth\":[{\"type\":\"choropleth\",\"colorbar\":{\"outlinewidth\":0,\"ticks\":\"\"}}],\"histogram2d\":[{\"type\":\"histogram2d\",\"colorbar\":{\"outlinewidth\":0,\"ticks\":\"\"},\"colorscale\":[[0.0,\"#0d0887\"],[0.1111111111111111,\"#46039f\"],[0.2222222222222222,\"#7201a8\"],[0.3333333333333333,\"#9c179e\"],[0.4444444444444444,\"#bd3786\"],[0.5555555555555556,\"#d8576b\"],[0.6666666666666666,\"#ed7953\"],[0.7777777777777778,\"#fb9f3a\"],[0.8888888888888888,\"#fdca26\"],[1.0,\"#f0f921\"]]}],\"heatmap\":[{\"type\":\"heatmap\",\"colorbar\":{\"outlinewidth\":0,\"ticks\":\"\"},\"colorscale\":[[0.0,\"#0d0887\"],[0.1111111111111111,\"#46039f\"],[0.2222222222222222,\"#7201a8\"],[0.3333333333333333,\"#9c179e\"],[0.4444444444444444,\"#bd3786\"],[0.5555555555555556,\"#d8576b\"],[0.6666666666666666,\"#ed7953\"],[0.7777777777777778,\"#fb9f3a\"],[0.8888888888888888,\"#fdca26\"],[1.0,\"#f0f921\"]]}],\"heatmapgl\":[{\"type\":\"heatmapgl\",\"colorbar\":{\"outlinewidth\":0,\"ticks\":\"\"},\"colorscale\":[[0.0,\"#0d0887\"],[0.1111111111111111,\"#46039f\"],[0.2222222222222222,\"#7201a8\"],[0.3333333333333333,\"#9c179e\"],[0.4444444444444444,\"#bd3786\"],[0.5555555555555556,\"#d8576b\"],[0.6666666666666666,\"#ed7953\"],[0.7777777777777778,\"#fb9f3a\"],[0.8888888888888888,\"#fdca26\"],[1.0,\"#f0f921\"]]}],\"contourcarpet\":[{\"type\":\"contourcarpet\",\"colorbar\":{\"outlinewidth\":0,\"ticks\":\"\"}}],\"contour\":[{\"type\":\"contour\",\"colorbar\":{\"outlinewidth\":0,\"ticks\":\"\"},\"colorscale\":[[0.0,\"#0d0887\"],[0.1111111111111111,\"#46039f\"],[0.2222222222222222,\"#7201a8\"],[0.3333333333333333,\"#9c179e\"],[0.4444444444444444,\"#bd3786\"],[0.5555555555555556,\"#d8576b\"],[0.6666666666666666,\"#ed7953\"],[0.7777777777777778,\"#fb9f3a\"],[0.8888888888888888,\"#fdca26\"],[1.0,\"#f0f921\"]]}],\"surface\":[{\"type\":\"surface\",\"colorbar\":{\"outlinewidth\":0,\"ticks\":\"\"},\"colorscale\":[[0.0,\"#0d0887\"],[0.1111111111111111,\"#46039f\"],[0.2222222222222222,\"#7201a8\"],[0.3333333333333333,\"#9c179e\"],[0.4444444444444444,\"#bd3786\"],[0.5555555555555556,\"#d8576b\"],[0.6666666666666666,\"#ed7953\"],[0.7777777777777778,\"#fb9f3a\"],[0.8888888888888888,\"#fdca26\"],[1.0,\"#f0f921\"]]}],\"mesh3d\":[{\"type\":\"mesh3d\",\"colorbar\":{\"outlinewidth\":0,\"ticks\":\"\"}}],\"scatter\":[{\"fillpattern\":{\"fillmode\":\"overlay\",\"size\":10,\"solidity\":0.2},\"type\":\"scatter\"}],\"parcoords\":[{\"type\":\"parcoords\",\"line\":{\"colorbar\":{\"outlinewidth\":0,\"ticks\":\"\"}}}],\"scatterpolargl\":[{\"type\":\"scatterpolargl\",\"marker\":{\"colorbar\":{\"outlinewidth\":0,\"ticks\":\"\"}}}],\"bar\":[{\"error_x\":{\"color\":\"#2a3f5f\"},\"error_y\":{\"color\":\"#2a3f5f\"},\"marker\":{\"line\":{\"color\":\"#E5ECF6\",\"width\":0.5},\"pattern\":{\"fillmode\":\"overlay\",\"size\":10,\"solidity\":0.2}},\"type\":\"bar\"}],\"scattergeo\":[{\"type\":\"scattergeo\",\"marker\":{\"colorbar\":{\"outlinewidth\":0,\"ticks\":\"\"}}}],\"scatterpolar\":[{\"type\":\"scatterpolar\",\"marker\":{\"colorbar\":{\"outlinewidth\":0,\"ticks\":\"\"}}}],\"histogram\":[{\"marker\":{\"pattern\":{\"fillmode\":\"overlay\",\"size\":10,\"solidity\":0.2}},\"type\":\"histogram\"}],\"scattergl\":[{\"type\":\"scattergl\",\"marker\":{\"colorbar\":{\"outlinewidth\":0,\"ticks\":\"\"}}}],\"scatter3d\":[{\"type\":\"scatter3d\",\"line\":{\"colorbar\":{\"outlinewidth\":0,\"ticks\":\"\"}},\"marker\":{\"colorbar\":{\"outlinewidth\":0,\"ticks\":\"\"}}}],\"scattermapbox\":[{\"type\":\"scattermapbox\",\"marker\":{\"colorbar\":{\"outlinewidth\":0,\"ticks\":\"\"}}}],\"scatterternary\":[{\"type\":\"scatterternary\",\"marker\":{\"colorbar\":{\"outlinewidth\":0,\"ticks\":\"\"}}}],\"scattercarpet\":[{\"type\":\"scattercarpet\",\"marker\":{\"colorbar\":{\"outlinewidth\":0,\"ticks\":\"\"}}}],\"carpet\":[{\"aaxis\":{\"endlinecolor\":\"#2a3f5f\",\"gridcolor\":\"white\",\"linecolor\":\"white\",\"minorgridcolor\":\"white\",\"startlinecolor\":\"#2a3f5f\"},\"baxis\":{\"endlinecolor\":\"#2a3f5f\",\"gridcolor\":\"white\",\"linecolor\":\"white\",\"minorgridcolor\":\"white\",\"startlinecolor\":\"#2a3f5f\"},\"type\":\"carpet\"}],\"table\":[{\"cells\":{\"fill\":{\"color\":\"#EBF0F8\"},\"line\":{\"color\":\"white\"}},\"header\":{\"fill\":{\"color\":\"#C8D4E3\"},\"line\":{\"color\":\"white\"}},\"type\":\"table\"}],\"barpolar\":[{\"marker\":{\"line\":{\"color\":\"#E5ECF6\",\"width\":0.5},\"pattern\":{\"fillmode\":\"overlay\",\"size\":10,\"solidity\":0.2}},\"type\":\"barpolar\"}],\"pie\":[{\"automargin\":true,\"type\":\"pie\"}]},\"layout\":{\"autotypenumbers\":\"strict\",\"colorway\":[\"#636efa\",\"#EF553B\",\"#00cc96\",\"#ab63fa\",\"#FFA15A\",\"#19d3f3\",\"#FF6692\",\"#B6E880\",\"#FF97FF\",\"#FECB52\"],\"font\":{\"color\":\"#2a3f5f\"},\"hovermode\":\"closest\",\"hoverlabel\":{\"align\":\"left\"},\"paper_bgcolor\":\"white\",\"plot_bgcolor\":\"#E5ECF6\",\"polar\":{\"bgcolor\":\"#E5ECF6\",\"angularaxis\":{\"gridcolor\":\"white\",\"linecolor\":\"white\",\"ticks\":\"\"},\"radialaxis\":{\"gridcolor\":\"white\",\"linecolor\":\"white\",\"ticks\":\"\"}},\"ternary\":{\"bgcolor\":\"#E5ECF6\",\"aaxis\":{\"gridcolor\":\"white\",\"linecolor\":\"white\",\"ticks\":\"\"},\"baxis\":{\"gridcolor\":\"white\",\"linecolor\":\"white\",\"ticks\":\"\"},\"caxis\":{\"gridcolor\":\"white\",\"linecolor\":\"white\",\"ticks\":\"\"}},\"coloraxis\":{\"colorbar\":{\"outlinewidth\":0,\"ticks\":\"\"}},\"colorscale\":{\"sequential\":[[0.0,\"#0d0887\"],[0.1111111111111111,\"#46039f\"],[0.2222222222222222,\"#7201a8\"],[0.3333333333333333,\"#9c179e\"],[0.4444444444444444,\"#bd3786\"],[0.5555555555555556,\"#d8576b\"],[0.6666666666666666,\"#ed7953\"],[0.7777777777777778,\"#fb9f3a\"],[0.8888888888888888,\"#fdca26\"],[1.0,\"#f0f921\"]],\"sequentialminus\":[[0.0,\"#0d0887\"],[0.1111111111111111,\"#46039f\"],[0.2222222222222222,\"#7201a8\"],[0.3333333333333333,\"#9c179e\"],[0.4444444444444444,\"#bd3786\"],[0.5555555555555556,\"#d8576b\"],[0.6666666666666666,\"#ed7953\"],[0.7777777777777778,\"#fb9f3a\"],[0.8888888888888888,\"#fdca26\"],[1.0,\"#f0f921\"]],\"diverging\":[[0,\"#8e0152\"],[0.1,\"#c51b7d\"],[0.2,\"#de77ae\"],[0.3,\"#f1b6da\"],[0.4,\"#fde0ef\"],[0.5,\"#f7f7f7\"],[0.6,\"#e6f5d0\"],[0.7,\"#b8e186\"],[0.8,\"#7fbc41\"],[0.9,\"#4d9221\"],[1,\"#276419\"]]},\"xaxis\":{\"gridcolor\":\"white\",\"linecolor\":\"white\",\"ticks\":\"\",\"title\":{\"standoff\":15},\"zerolinecolor\":\"white\",\"automargin\":true,\"zerolinewidth\":2},\"yaxis\":{\"gridcolor\":\"white\",\"linecolor\":\"white\",\"ticks\":\"\",\"title\":{\"standoff\":15},\"zerolinecolor\":\"white\",\"automargin\":true,\"zerolinewidth\":2},\"scene\":{\"xaxis\":{\"backgroundcolor\":\"#E5ECF6\",\"gridcolor\":\"white\",\"linecolor\":\"white\",\"showbackground\":true,\"ticks\":\"\",\"zerolinecolor\":\"white\",\"gridwidth\":2},\"yaxis\":{\"backgroundcolor\":\"#E5ECF6\",\"gridcolor\":\"white\",\"linecolor\":\"white\",\"showbackground\":true,\"ticks\":\"\",\"zerolinecolor\":\"white\",\"gridwidth\":2},\"zaxis\":{\"backgroundcolor\":\"#E5ECF6\",\"gridcolor\":\"white\",\"linecolor\":\"white\",\"showbackground\":true,\"ticks\":\"\",\"zerolinecolor\":\"white\",\"gridwidth\":2}},\"shapedefaults\":{\"line\":{\"color\":\"#2a3f5f\"}},\"annotationdefaults\":{\"arrowcolor\":\"#2a3f5f\",\"arrowhead\":0,\"arrowwidth\":1},\"geo\":{\"bgcolor\":\"white\",\"landcolor\":\"#E5ECF6\",\"subunitcolor\":\"white\",\"showland\":true,\"showlakes\":true,\"lakecolor\":\"white\"},\"title\":{\"x\":0.05},\"mapbox\":{\"style\":\"light\"}}},\"legend\":{\"title\":{\"text\":\"color\"},\"tracegroupgap\":0},\"margin\":{\"t\":60},\"dragmode\":\"select\"},                        {\"responsive\": true}                    ).then(function(){\n",
              "                            \n",
              "var gd = document.getElementById('86eec453-85e2-47af-bba5-989ad29604f9');\n",
              "var x = new MutationObserver(function (mutations, observer) {{\n",
              "        var display = window.getComputedStyle(gd).display;\n",
              "        if (!display || display === 'none') {{\n",
              "            console.log([gd, 'removed!']);\n",
              "            Plotly.purge(gd);\n",
              "            observer.disconnect();\n",
              "        }}\n",
              "}});\n",
              "\n",
              "// Listen for the removal of the full notebook cells\n",
              "var notebookContainer = gd.closest('#notebook-container');\n",
              "if (notebookContainer) {{\n",
              "    x.observe(notebookContainer, {childList: true});\n",
              "}}\n",
              "\n",
              "// Listen for the clearing of the current output cell\n",
              "var outputEl = gd.closest('.output');\n",
              "if (outputEl) {{\n",
              "    x.observe(outputEl, {childList: true});\n",
              "}}\n",
              "\n",
              "                        })                };                            </script>        </div>\n",
              "</body>\n",
              "</html>"
            ]
          },
          "metadata": {}
        }
      ]
    },
    {
      "cell_type": "markdown",
      "source": [
        "Ahora debemos evaluar cual de nuestras 4 componentes principales explica la mayor parte de la varianza. Para ello podemos utilizar la función `explained_variance_ratio_`."
      ],
      "metadata": {
        "id": "iyKc2qE9Ocla"
      }
    },
    {
      "cell_type": "code",
      "source": [
        "exp_var_cumul = np.cumsum(pca.explained_variance_ratio_)\n",
        "\n",
        "fig = px.area(\n",
        "              x=range(1, exp_var_cumul.shape[0] + 1),\n",
        "              y=exp_var_cumul\n",
        ")\n",
        "\n",
        "fig.update_layout(xaxis_type='category')\n",
        "fig.show()"
      ],
      "metadata": {
        "id": "uewiNF2gOccK",
        "colab": {
          "base_uri": "https://localhost:8080/",
          "height": 542
        },
        "outputId": "6a9d4e99-0b04-492f-ee6a-846bec883109"
      },
      "execution_count": 13,
      "outputs": [
        {
          "output_type": "display_data",
          "data": {
            "text/html": [
              "<html>\n",
              "<head><meta charset=\"utf-8\" /></head>\n",
              "<body>\n",
              "    <div>            <script src=\"https://cdnjs.cloudflare.com/ajax/libs/mathjax/2.7.5/MathJax.js?config=TeX-AMS-MML_SVG\"></script><script type=\"text/javascript\">if (window.MathJax && window.MathJax.Hub && window.MathJax.Hub.Config) {window.MathJax.Hub.Config({SVG: {font: \"STIX-Web\"}});}</script>                <script type=\"text/javascript\">window.PlotlyConfig = {MathJaxConfig: 'local'};</script>\n",
              "        <script charset=\"utf-8\" src=\"https://cdn.plot.ly/plotly-2.35.2.min.js\"></script>                <div id=\"499214bf-ff46-4f46-ad47-2490e67859c7\" class=\"plotly-graph-div\" style=\"height:525px; width:100%;\"></div>            <script type=\"text/javascript\">                                    window.PLOTLYENV=window.PLOTLYENV || {};                                    if (document.getElementById(\"499214bf-ff46-4f46-ad47-2490e67859c7\")) {                    Plotly.newPlot(                        \"499214bf-ff46-4f46-ad47-2490e67859c7\",                        [{\"fillpattern\":{\"shape\":\"\"},\"hovertemplate\":\"x=%{x}\\u003cbr\\u003ey=%{y}\\u003cextra\\u003e\\u003c\\u002fextra\\u003e\",\"legendgroup\":\"\",\"line\":{\"color\":\"#636efa\"},\"marker\":{\"symbol\":\"circle\"},\"mode\":\"lines\",\"name\":\"\",\"orientation\":\"v\",\"showlegend\":false,\"stackgroup\":\"1\",\"x\":[1,2,3,4],\"xaxis\":\"x\",\"y\":[0.7277045209380136,0.9580097536148199,0.9948480731910938,1.0000000000000002],\"yaxis\":\"y\",\"type\":\"scatter\"}],                        {\"template\":{\"data\":{\"histogram2dcontour\":[{\"type\":\"histogram2dcontour\",\"colorbar\":{\"outlinewidth\":0,\"ticks\":\"\"},\"colorscale\":[[0.0,\"#0d0887\"],[0.1111111111111111,\"#46039f\"],[0.2222222222222222,\"#7201a8\"],[0.3333333333333333,\"#9c179e\"],[0.4444444444444444,\"#bd3786\"],[0.5555555555555556,\"#d8576b\"],[0.6666666666666666,\"#ed7953\"],[0.7777777777777778,\"#fb9f3a\"],[0.8888888888888888,\"#fdca26\"],[1.0,\"#f0f921\"]]}],\"choropleth\":[{\"type\":\"choropleth\",\"colorbar\":{\"outlinewidth\":0,\"ticks\":\"\"}}],\"histogram2d\":[{\"type\":\"histogram2d\",\"colorbar\":{\"outlinewidth\":0,\"ticks\":\"\"},\"colorscale\":[[0.0,\"#0d0887\"],[0.1111111111111111,\"#46039f\"],[0.2222222222222222,\"#7201a8\"],[0.3333333333333333,\"#9c179e\"],[0.4444444444444444,\"#bd3786\"],[0.5555555555555556,\"#d8576b\"],[0.6666666666666666,\"#ed7953\"],[0.7777777777777778,\"#fb9f3a\"],[0.8888888888888888,\"#fdca26\"],[1.0,\"#f0f921\"]]}],\"heatmap\":[{\"type\":\"heatmap\",\"colorbar\":{\"outlinewidth\":0,\"ticks\":\"\"},\"colorscale\":[[0.0,\"#0d0887\"],[0.1111111111111111,\"#46039f\"],[0.2222222222222222,\"#7201a8\"],[0.3333333333333333,\"#9c179e\"],[0.4444444444444444,\"#bd3786\"],[0.5555555555555556,\"#d8576b\"],[0.6666666666666666,\"#ed7953\"],[0.7777777777777778,\"#fb9f3a\"],[0.8888888888888888,\"#fdca26\"],[1.0,\"#f0f921\"]]}],\"heatmapgl\":[{\"type\":\"heatmapgl\",\"colorbar\":{\"outlinewidth\":0,\"ticks\":\"\"},\"colorscale\":[[0.0,\"#0d0887\"],[0.1111111111111111,\"#46039f\"],[0.2222222222222222,\"#7201a8\"],[0.3333333333333333,\"#9c179e\"],[0.4444444444444444,\"#bd3786\"],[0.5555555555555556,\"#d8576b\"],[0.6666666666666666,\"#ed7953\"],[0.7777777777777778,\"#fb9f3a\"],[0.8888888888888888,\"#fdca26\"],[1.0,\"#f0f921\"]]}],\"contourcarpet\":[{\"type\":\"contourcarpet\",\"colorbar\":{\"outlinewidth\":0,\"ticks\":\"\"}}],\"contour\":[{\"type\":\"contour\",\"colorbar\":{\"outlinewidth\":0,\"ticks\":\"\"},\"colorscale\":[[0.0,\"#0d0887\"],[0.1111111111111111,\"#46039f\"],[0.2222222222222222,\"#7201a8\"],[0.3333333333333333,\"#9c179e\"],[0.4444444444444444,\"#bd3786\"],[0.5555555555555556,\"#d8576b\"],[0.6666666666666666,\"#ed7953\"],[0.7777777777777778,\"#fb9f3a\"],[0.8888888888888888,\"#fdca26\"],[1.0,\"#f0f921\"]]}],\"surface\":[{\"type\":\"surface\",\"colorbar\":{\"outlinewidth\":0,\"ticks\":\"\"},\"colorscale\":[[0.0,\"#0d0887\"],[0.1111111111111111,\"#46039f\"],[0.2222222222222222,\"#7201a8\"],[0.3333333333333333,\"#9c179e\"],[0.4444444444444444,\"#bd3786\"],[0.5555555555555556,\"#d8576b\"],[0.6666666666666666,\"#ed7953\"],[0.7777777777777778,\"#fb9f3a\"],[0.8888888888888888,\"#fdca26\"],[1.0,\"#f0f921\"]]}],\"mesh3d\":[{\"type\":\"mesh3d\",\"colorbar\":{\"outlinewidth\":0,\"ticks\":\"\"}}],\"scatter\":[{\"fillpattern\":{\"fillmode\":\"overlay\",\"size\":10,\"solidity\":0.2},\"type\":\"scatter\"}],\"parcoords\":[{\"type\":\"parcoords\",\"line\":{\"colorbar\":{\"outlinewidth\":0,\"ticks\":\"\"}}}],\"scatterpolargl\":[{\"type\":\"scatterpolargl\",\"marker\":{\"colorbar\":{\"outlinewidth\":0,\"ticks\":\"\"}}}],\"bar\":[{\"error_x\":{\"color\":\"#2a3f5f\"},\"error_y\":{\"color\":\"#2a3f5f\"},\"marker\":{\"line\":{\"color\":\"#E5ECF6\",\"width\":0.5},\"pattern\":{\"fillmode\":\"overlay\",\"size\":10,\"solidity\":0.2}},\"type\":\"bar\"}],\"scattergeo\":[{\"type\":\"scattergeo\",\"marker\":{\"colorbar\":{\"outlinewidth\":0,\"ticks\":\"\"}}}],\"scatterpolar\":[{\"type\":\"scatterpolar\",\"marker\":{\"colorbar\":{\"outlinewidth\":0,\"ticks\":\"\"}}}],\"histogram\":[{\"marker\":{\"pattern\":{\"fillmode\":\"overlay\",\"size\":10,\"solidity\":0.2}},\"type\":\"histogram\"}],\"scattergl\":[{\"type\":\"scattergl\",\"marker\":{\"colorbar\":{\"outlinewidth\":0,\"ticks\":\"\"}}}],\"scatter3d\":[{\"type\":\"scatter3d\",\"line\":{\"colorbar\":{\"outlinewidth\":0,\"ticks\":\"\"}},\"marker\":{\"colorbar\":{\"outlinewidth\":0,\"ticks\":\"\"}}}],\"scattermapbox\":[{\"type\":\"scattermapbox\",\"marker\":{\"colorbar\":{\"outlinewidth\":0,\"ticks\":\"\"}}}],\"scatterternary\":[{\"type\":\"scatterternary\",\"marker\":{\"colorbar\":{\"outlinewidth\":0,\"ticks\":\"\"}}}],\"scattercarpet\":[{\"type\":\"scattercarpet\",\"marker\":{\"colorbar\":{\"outlinewidth\":0,\"ticks\":\"\"}}}],\"carpet\":[{\"aaxis\":{\"endlinecolor\":\"#2a3f5f\",\"gridcolor\":\"white\",\"linecolor\":\"white\",\"minorgridcolor\":\"white\",\"startlinecolor\":\"#2a3f5f\"},\"baxis\":{\"endlinecolor\":\"#2a3f5f\",\"gridcolor\":\"white\",\"linecolor\":\"white\",\"minorgridcolor\":\"white\",\"startlinecolor\":\"#2a3f5f\"},\"type\":\"carpet\"}],\"table\":[{\"cells\":{\"fill\":{\"color\":\"#EBF0F8\"},\"line\":{\"color\":\"white\"}},\"header\":{\"fill\":{\"color\":\"#C8D4E3\"},\"line\":{\"color\":\"white\"}},\"type\":\"table\"}],\"barpolar\":[{\"marker\":{\"line\":{\"color\":\"#E5ECF6\",\"width\":0.5},\"pattern\":{\"fillmode\":\"overlay\",\"size\":10,\"solidity\":0.2}},\"type\":\"barpolar\"}],\"pie\":[{\"automargin\":true,\"type\":\"pie\"}]},\"layout\":{\"autotypenumbers\":\"strict\",\"colorway\":[\"#636efa\",\"#EF553B\",\"#00cc96\",\"#ab63fa\",\"#FFA15A\",\"#19d3f3\",\"#FF6692\",\"#B6E880\",\"#FF97FF\",\"#FECB52\"],\"font\":{\"color\":\"#2a3f5f\"},\"hovermode\":\"closest\",\"hoverlabel\":{\"align\":\"left\"},\"paper_bgcolor\":\"white\",\"plot_bgcolor\":\"#E5ECF6\",\"polar\":{\"bgcolor\":\"#E5ECF6\",\"angularaxis\":{\"gridcolor\":\"white\",\"linecolor\":\"white\",\"ticks\":\"\"},\"radialaxis\":{\"gridcolor\":\"white\",\"linecolor\":\"white\",\"ticks\":\"\"}},\"ternary\":{\"bgcolor\":\"#E5ECF6\",\"aaxis\":{\"gridcolor\":\"white\",\"linecolor\":\"white\",\"ticks\":\"\"},\"baxis\":{\"gridcolor\":\"white\",\"linecolor\":\"white\",\"ticks\":\"\"},\"caxis\":{\"gridcolor\":\"white\",\"linecolor\":\"white\",\"ticks\":\"\"}},\"coloraxis\":{\"colorbar\":{\"outlinewidth\":0,\"ticks\":\"\"}},\"colorscale\":{\"sequential\":[[0.0,\"#0d0887\"],[0.1111111111111111,\"#46039f\"],[0.2222222222222222,\"#7201a8\"],[0.3333333333333333,\"#9c179e\"],[0.4444444444444444,\"#bd3786\"],[0.5555555555555556,\"#d8576b\"],[0.6666666666666666,\"#ed7953\"],[0.7777777777777778,\"#fb9f3a\"],[0.8888888888888888,\"#fdca26\"],[1.0,\"#f0f921\"]],\"sequentialminus\":[[0.0,\"#0d0887\"],[0.1111111111111111,\"#46039f\"],[0.2222222222222222,\"#7201a8\"],[0.3333333333333333,\"#9c179e\"],[0.4444444444444444,\"#bd3786\"],[0.5555555555555556,\"#d8576b\"],[0.6666666666666666,\"#ed7953\"],[0.7777777777777778,\"#fb9f3a\"],[0.8888888888888888,\"#fdca26\"],[1.0,\"#f0f921\"]],\"diverging\":[[0,\"#8e0152\"],[0.1,\"#c51b7d\"],[0.2,\"#de77ae\"],[0.3,\"#f1b6da\"],[0.4,\"#fde0ef\"],[0.5,\"#f7f7f7\"],[0.6,\"#e6f5d0\"],[0.7,\"#b8e186\"],[0.8,\"#7fbc41\"],[0.9,\"#4d9221\"],[1,\"#276419\"]]},\"xaxis\":{\"gridcolor\":\"white\",\"linecolor\":\"white\",\"ticks\":\"\",\"title\":{\"standoff\":15},\"zerolinecolor\":\"white\",\"automargin\":true,\"zerolinewidth\":2},\"yaxis\":{\"gridcolor\":\"white\",\"linecolor\":\"white\",\"ticks\":\"\",\"title\":{\"standoff\":15},\"zerolinecolor\":\"white\",\"automargin\":true,\"zerolinewidth\":2},\"scene\":{\"xaxis\":{\"backgroundcolor\":\"#E5ECF6\",\"gridcolor\":\"white\",\"linecolor\":\"white\",\"showbackground\":true,\"ticks\":\"\",\"zerolinecolor\":\"white\",\"gridwidth\":2},\"yaxis\":{\"backgroundcolor\":\"#E5ECF6\",\"gridcolor\":\"white\",\"linecolor\":\"white\",\"showbackground\":true,\"ticks\":\"\",\"zerolinecolor\":\"white\",\"gridwidth\":2},\"zaxis\":{\"backgroundcolor\":\"#E5ECF6\",\"gridcolor\":\"white\",\"linecolor\":\"white\",\"showbackground\":true,\"ticks\":\"\",\"zerolinecolor\":\"white\",\"gridwidth\":2}},\"shapedefaults\":{\"line\":{\"color\":\"#2a3f5f\"}},\"annotationdefaults\":{\"arrowcolor\":\"#2a3f5f\",\"arrowhead\":0,\"arrowwidth\":1},\"geo\":{\"bgcolor\":\"white\",\"landcolor\":\"#E5ECF6\",\"subunitcolor\":\"white\",\"showland\":true,\"showlakes\":true,\"lakecolor\":\"white\"},\"title\":{\"x\":0.05},\"mapbox\":{\"style\":\"light\"}}},\"xaxis\":{\"anchor\":\"y\",\"domain\":[0.0,1.0],\"title\":{\"text\":\"x\"},\"type\":\"category\"},\"yaxis\":{\"anchor\":\"x\",\"domain\":[0.0,1.0],\"title\":{\"text\":\"y\"}},\"legend\":{\"tracegroupgap\":0},\"margin\":{\"t\":60}},                        {\"responsive\": true}                    ).then(function(){\n",
              "                            \n",
              "var gd = document.getElementById('499214bf-ff46-4f46-ad47-2490e67859c7');\n",
              "var x = new MutationObserver(function (mutations, observer) {{\n",
              "        var display = window.getComputedStyle(gd).display;\n",
              "        if (!display || display === 'none') {{\n",
              "            console.log([gd, 'removed!']);\n",
              "            Plotly.purge(gd);\n",
              "            observer.disconnect();\n",
              "        }}\n",
              "}});\n",
              "\n",
              "// Listen for the removal of the full notebook cells\n",
              "var notebookContainer = gd.closest('#notebook-container');\n",
              "if (notebookContainer) {{\n",
              "    x.observe(notebookContainer, {childList: true});\n",
              "}}\n",
              "\n",
              "// Listen for the clearing of the current output cell\n",
              "var outputEl = gd.closest('.output');\n",
              "if (outputEl) {{\n",
              "    x.observe(outputEl, {childList: true});\n",
              "}}\n",
              "\n",
              "                        })                };                            </script>        </div>\n",
              "</body>\n",
              "</html>"
            ]
          },
          "metadata": {}
        }
      ]
    },
    {
      "cell_type": "markdown",
      "source": [
        "Se aprecia que con 1 eje podemos explicar aprox. 70% de la varianza y con 2 ejes alcanzamos prácticamente el 90% de la misma.\n",
        "\n",
        "Con el método PCA podemos fijar `n_components` para definir el número de ejes principales con los que nos quedamos. En este caso tomamos n = 2 para llegar al 90% de la varianza como hemos visto en el gráfico anterior."
      ],
      "metadata": {
        "id": "3_4-gN28OOcb"
      }
    },
    {
      "cell_type": "code",
      "source": [
        "pca = PCA(n_components=2)\n",
        "components = pca.fit_transform(df_norm)\n",
        "\n",
        "fig = px.scatter(components,\n",
        "                 x=0,\n",
        "                 y=1,\n",
        "                 color=df['species'])\n",
        "fig.show()"
      ],
      "metadata": {
        "id": "SYR5ErTUKT0N",
        "colab": {
          "base_uri": "https://localhost:8080/",
          "height": 542
        },
        "outputId": "b5d06100-5d64-4b17-ebc7-b7ba1e511b10"
      },
      "execution_count": 14,
      "outputs": [
        {
          "output_type": "display_data",
          "data": {
            "text/html": [
              "<html>\n",
              "<head><meta charset=\"utf-8\" /></head>\n",
              "<body>\n",
              "    <div>            <script src=\"https://cdnjs.cloudflare.com/ajax/libs/mathjax/2.7.5/MathJax.js?config=TeX-AMS-MML_SVG\"></script><script type=\"text/javascript\">if (window.MathJax && window.MathJax.Hub && window.MathJax.Hub.Config) {window.MathJax.Hub.Config({SVG: {font: \"STIX-Web\"}});}</script>                <script type=\"text/javascript\">window.PlotlyConfig = {MathJaxConfig: 'local'};</script>\n",
              "        <script charset=\"utf-8\" src=\"https://cdn.plot.ly/plotly-2.35.2.min.js\"></script>                <div id=\"b22b5a0c-2207-4af4-92ce-f467ef1d462b\" class=\"plotly-graph-div\" style=\"height:525px; width:100%;\"></div>            <script type=\"text/javascript\">                                    window.PLOTLYENV=window.PLOTLYENV || {};                                    if (document.getElementById(\"b22b5a0c-2207-4af4-92ce-f467ef1d462b\")) {                    Plotly.newPlot(                        \"b22b5a0c-2207-4af4-92ce-f467ef1d462b\",                        [{\"hovertemplate\":\"color=setosa\\u003cbr\\u003e0=%{x}\\u003cbr\\u003e1=%{y}\\u003cextra\\u003e\\u003c\\u002fextra\\u003e\",\"legendgroup\":\"setosa\",\"marker\":{\"color\":\"#636efa\",\"symbol\":\"circle\"},\"mode\":\"markers\",\"name\":\"setosa\",\"orientation\":\"v\",\"showlegend\":true,\"x\":[-2.2645417283949,-2.086425500616159,-2.367950449062526,-2.3041971611520093,-2.388777493505642,-2.0705368071805528,-2.4457113396302836,-2.233841858709266,-2.34195767645539,-2.1886757552808698,-2.1634865562665224,-2.327377754134374,-2.2240827220450026,-2.63971626084463,-2.1922915084984287,-2.2514652145840643,-2.202750480080085,-2.190179163791052,-1.894074293023668,-2.339949070423408,-1.9145563949595172,-2.2046453975338136,-2.7741697937051564,-1.820411563337214,-2.228217499459725,-1.9570240073413971,-2.0520633112766866,-2.168193653345021,-2.1403059632841575,-2.2687901943878765,-2.1445544292771346,-1.8319381022015873,-2.608202867663347,-2.4379508590951424,-2.1886757552808698,-2.211119896812422,-2.0444165193198005,-2.1886757552808698,-2.4359522029660194,-2.1705472018842706,-2.28652723884093,-1.8717072235369514,-2.5578344195375124,-1.964279290354737,-2.1333728329200277,-2.0753575928373067,-2.381258216802373,-2.398191687662639,-2.2267812130915186,-2.2059541686484025],\"xaxis\":\"x\",\"y\":[0.5057039027737852,-0.6554047293691364,-0.3184773108472486,-0.5753677125331949,0.674767396702516,1.518548559888514,0.07456267500687491,0.24761393175226576,-1.0951463625829547,-0.44862904833755884,1.070595576037727,0.1585874546594767,-0.709118158030226,-0.9382819821078536,1.8899785123164665,2.72237107657447,1.5137502825462192,0.5143043082206934,1.4311107069412377,1.1580334289850023,0.4304651632801383,0.952457317288999,0.48951702650349593,0.10675079283540677,0.16218616266619768,-0.6078925674838079,0.26601431198165576,0.5520164953235404,0.3366404088450547,-0.31487860284052765,-0.4839420967692585,0.4452668355028073,1.8284751927341027,2.185391615630894,-0.44862904833755884,-0.18433781054027842,0.6849564262949369,-0.44862904833755884,-0.8821694147756164,0.2927269549664468,0.46799171567093867,-2.32769160611491,-0.45381638048979234,0.49739164001838426,1.171432111774205,-0.6919173471364096,1.1506325928736676,-0.36239076472585646,1.0254825528235456,0.0322378452737801],\"yaxis\":\"y\",\"type\":\"scatter\"},{\"hovertemplate\":\"color=versicolor\\u003cbr\\u003e0=%{x}\\u003cbr\\u003e1=%{y}\\u003cextra\\u003e\\u003c\\u002fextra\\u003e\",\"legendgroup\":\"versicolor\",\"marker\":{\"color\":\"#EF553B\",\"symbol\":\"circle\"},\"mode\":\"markers\",\"name\":\"versicolor\",\"orientation\":\"v\",\"showlegend\":true,\"x\":[1.1039936528045724,0.7324814400086809,1.2421095053189377,0.3973072828233269,1.072593948201545,0.3844581461690015,0.748715075951553,-0.4978633877981183,0.9262223675330978,0.004968025584319231,-0.12469746138037133,0.4387301177805467,0.551633981422507,0.7171650662368511,-0.03725838296568835,0.8758905359406831,0.3480064019802086,0.15339254456866666,1.2153032092161535,0.15694117564425028,0.7382561043698961,0.4723696823445683,1.2279882140834422,0.6293810453149016,0.7004727992084581,0.8735369874014336,1.2542221905224498,1.3582398473872717,0.6621261375659376,-0.04728151331988038,0.12153420888011836,0.014118226051387378,0.23601083732659658,1.0566914280905764,0.2214170883302178,0.43178316074105366,1.0494133552191802,1.0358782103228237,0.06706759987298029,0.275425066251834,0.27233506626177184,0.6231705397262214,0.33000536383722623,-0.3736276226873765,0.2829443429551026,0.08905311031901139,0.2243567832086059,0.5738834855584668,-0.4570128725046751,0.25224447326946914],\"xaxis\":\"x\",\"y\":[0.8631124458513239,0.598635573341997,0.6148224496122862,-1.7581689474435265,-0.21175790267989616,-0.5910624686227366,0.7786986113887823,-1.8488687712754426,0.03033082678338059,-1.0294011124030877,-2.658062677961761,-0.058881285021454316,-1.7725815648562557,-0.185434314505044,-0.43279509871416894,0.509998151059147,-0.19062164665727754,-0.7907254562344856,-1.6333556445154838,-1.3031032701729113,0.40247038161853627,-0.41660822244387985,-0.9409147925302731,-0.41681164254177244,-0.06349392765170264,0.25070861070205347,-0.08262009981311325,0.3288202662704016,-0.22434607094346423,-1.0572124126050206,-1.5635923798655784,-1.5733923546480602,-0.7759237840118167,-0.6369012837689372,-0.28084769308563984,0.8551369202180031,0.5221972645127763,-1.3924664843877816,-0.2126207348933886,-1.3298159131577023,-1.119441524119404,0.02754263330229436,-0.9889007318191552,-2.0179322652041733,-0.8539507169865501,-0.17490854779054157,-0.3804846594865454,-0.1537199740800653,-1.5394645102639808,-0.5958607459650311],\"yaxis\":\"y\",\"type\":\"scatter\"},{\"hovertemplate\":\"color=virginica\\u003cbr\\u003e0=%{x}\\u003cbr\\u003e1=%{y}\\u003cextra\\u003e\\u003c\\u002fextra\\u003e\",\"legendgroup\":\"virginica\",\"marker\":{\"color\":\"#00cc96\",\"symbol\":\"circle\"},\"mode\":\"markers\",\"name\":\"virginica\",\"orientation\":\"v\",\"showlegend\":true,\"x\":[1.8476725943096646,1.153189808252129,2.206349497126593,1.4386854023261817,1.8678907025555846,2.7541967088257526,0.3583744748416678,2.303005898150319,2.001735299218916,2.2675545991022688,1.3659094292022145,1.5990645856518693,1.8842518537520743,1.2530865143775918,1.4640615229856226,1.5918093026385292,1.4712801894655436,2.4373784821935085,3.309141182676079,1.2539809866905776,2.040496259663039,0.9739151144704737,2.8980644358432763,1.3291936913234932,1.704240708519606,1.9577276617934352,1.1719045079878685,1.019781052816263,1.7860088612484681,1.864777912707466,2.435497391415143,2.3160824119611547,1.8603714258523163,1.1112717256759688,1.1974691551180374,2.800949403734029,1.5801552485205375,1.3470444243548019,0.9234329777663843,1.853551984066441,2.016157200677759,1.903116858599487,1.153189808252129,2.0433084392878094,2.001690966934998,1.8705220714601258,1.558491890723717,1.5208450639985907,1.3763911906419284,0.959298575616038],\"xaxis\":\"x\",\"y\":[0.8716966617734135,-0.7013261138565753,0.5544701049349223,-0.05001052226888562,0.2911928017611692,0.7884322063548445,-1.560094583977289,0.4095166952219429,-0.72386535931266,1.921442991465355,0.6939480398041613,-0.42824883590034,0.4143327579500838,-1.1673913352452459,-0.4441475694791233,0.6770353716018519,0.25319247196681544,2.5567573414948024,-0.0023613201020839074,-1.717583844265978,0.907398765015053,-0.571174376366266,0.3977913591718673,-0.4867605419037244,1.0141484248357855,1.003334515429777,-0.31889661731056806,0.06554296309664816,-0.1932727998568915,0.5553815315789892,0.24665446806897337,2.626183869022628,-0.18467239440998331,-0.2959861024303906,-0.8171677419136163,0.844748193784974,1.0724744961271229,0.4222559658955463,0.019230370546893368,0.6724227289716037,0.610397037555113,0.6860248318586991,-0.7013261138565753,0.8646848804720189,1.0485500466234183,0.38282183762299815,-0.9053136014070666,0.26679457485391084,1.0163619287948862,-0.022283944660566785],\"yaxis\":\"y\",\"type\":\"scatter\"}],                        {\"template\":{\"data\":{\"histogram2dcontour\":[{\"type\":\"histogram2dcontour\",\"colorbar\":{\"outlinewidth\":0,\"ticks\":\"\"},\"colorscale\":[[0.0,\"#0d0887\"],[0.1111111111111111,\"#46039f\"],[0.2222222222222222,\"#7201a8\"],[0.3333333333333333,\"#9c179e\"],[0.4444444444444444,\"#bd3786\"],[0.5555555555555556,\"#d8576b\"],[0.6666666666666666,\"#ed7953\"],[0.7777777777777778,\"#fb9f3a\"],[0.8888888888888888,\"#fdca26\"],[1.0,\"#f0f921\"]]}],\"choropleth\":[{\"type\":\"choropleth\",\"colorbar\":{\"outlinewidth\":0,\"ticks\":\"\"}}],\"histogram2d\":[{\"type\":\"histogram2d\",\"colorbar\":{\"outlinewidth\":0,\"ticks\":\"\"},\"colorscale\":[[0.0,\"#0d0887\"],[0.1111111111111111,\"#46039f\"],[0.2222222222222222,\"#7201a8\"],[0.3333333333333333,\"#9c179e\"],[0.4444444444444444,\"#bd3786\"],[0.5555555555555556,\"#d8576b\"],[0.6666666666666666,\"#ed7953\"],[0.7777777777777778,\"#fb9f3a\"],[0.8888888888888888,\"#fdca26\"],[1.0,\"#f0f921\"]]}],\"heatmap\":[{\"type\":\"heatmap\",\"colorbar\":{\"outlinewidth\":0,\"ticks\":\"\"},\"colorscale\":[[0.0,\"#0d0887\"],[0.1111111111111111,\"#46039f\"],[0.2222222222222222,\"#7201a8\"],[0.3333333333333333,\"#9c179e\"],[0.4444444444444444,\"#bd3786\"],[0.5555555555555556,\"#d8576b\"],[0.6666666666666666,\"#ed7953\"],[0.7777777777777778,\"#fb9f3a\"],[0.8888888888888888,\"#fdca26\"],[1.0,\"#f0f921\"]]}],\"heatmapgl\":[{\"type\":\"heatmapgl\",\"colorbar\":{\"outlinewidth\":0,\"ticks\":\"\"},\"colorscale\":[[0.0,\"#0d0887\"],[0.1111111111111111,\"#46039f\"],[0.2222222222222222,\"#7201a8\"],[0.3333333333333333,\"#9c179e\"],[0.4444444444444444,\"#bd3786\"],[0.5555555555555556,\"#d8576b\"],[0.6666666666666666,\"#ed7953\"],[0.7777777777777778,\"#fb9f3a\"],[0.8888888888888888,\"#fdca26\"],[1.0,\"#f0f921\"]]}],\"contourcarpet\":[{\"type\":\"contourcarpet\",\"colorbar\":{\"outlinewidth\":0,\"ticks\":\"\"}}],\"contour\":[{\"type\":\"contour\",\"colorbar\":{\"outlinewidth\":0,\"ticks\":\"\"},\"colorscale\":[[0.0,\"#0d0887\"],[0.1111111111111111,\"#46039f\"],[0.2222222222222222,\"#7201a8\"],[0.3333333333333333,\"#9c179e\"],[0.4444444444444444,\"#bd3786\"],[0.5555555555555556,\"#d8576b\"],[0.6666666666666666,\"#ed7953\"],[0.7777777777777778,\"#fb9f3a\"],[0.8888888888888888,\"#fdca26\"],[1.0,\"#f0f921\"]]}],\"surface\":[{\"type\":\"surface\",\"colorbar\":{\"outlinewidth\":0,\"ticks\":\"\"},\"colorscale\":[[0.0,\"#0d0887\"],[0.1111111111111111,\"#46039f\"],[0.2222222222222222,\"#7201a8\"],[0.3333333333333333,\"#9c179e\"],[0.4444444444444444,\"#bd3786\"],[0.5555555555555556,\"#d8576b\"],[0.6666666666666666,\"#ed7953\"],[0.7777777777777778,\"#fb9f3a\"],[0.8888888888888888,\"#fdca26\"],[1.0,\"#f0f921\"]]}],\"mesh3d\":[{\"type\":\"mesh3d\",\"colorbar\":{\"outlinewidth\":0,\"ticks\":\"\"}}],\"scatter\":[{\"fillpattern\":{\"fillmode\":\"overlay\",\"size\":10,\"solidity\":0.2},\"type\":\"scatter\"}],\"parcoords\":[{\"type\":\"parcoords\",\"line\":{\"colorbar\":{\"outlinewidth\":0,\"ticks\":\"\"}}}],\"scatterpolargl\":[{\"type\":\"scatterpolargl\",\"marker\":{\"colorbar\":{\"outlinewidth\":0,\"ticks\":\"\"}}}],\"bar\":[{\"error_x\":{\"color\":\"#2a3f5f\"},\"error_y\":{\"color\":\"#2a3f5f\"},\"marker\":{\"line\":{\"color\":\"#E5ECF6\",\"width\":0.5},\"pattern\":{\"fillmode\":\"overlay\",\"size\":10,\"solidity\":0.2}},\"type\":\"bar\"}],\"scattergeo\":[{\"type\":\"scattergeo\",\"marker\":{\"colorbar\":{\"outlinewidth\":0,\"ticks\":\"\"}}}],\"scatterpolar\":[{\"type\":\"scatterpolar\",\"marker\":{\"colorbar\":{\"outlinewidth\":0,\"ticks\":\"\"}}}],\"histogram\":[{\"marker\":{\"pattern\":{\"fillmode\":\"overlay\",\"size\":10,\"solidity\":0.2}},\"type\":\"histogram\"}],\"scattergl\":[{\"type\":\"scattergl\",\"marker\":{\"colorbar\":{\"outlinewidth\":0,\"ticks\":\"\"}}}],\"scatter3d\":[{\"type\":\"scatter3d\",\"line\":{\"colorbar\":{\"outlinewidth\":0,\"ticks\":\"\"}},\"marker\":{\"colorbar\":{\"outlinewidth\":0,\"ticks\":\"\"}}}],\"scattermapbox\":[{\"type\":\"scattermapbox\",\"marker\":{\"colorbar\":{\"outlinewidth\":0,\"ticks\":\"\"}}}],\"scatterternary\":[{\"type\":\"scatterternary\",\"marker\":{\"colorbar\":{\"outlinewidth\":0,\"ticks\":\"\"}}}],\"scattercarpet\":[{\"type\":\"scattercarpet\",\"marker\":{\"colorbar\":{\"outlinewidth\":0,\"ticks\":\"\"}}}],\"carpet\":[{\"aaxis\":{\"endlinecolor\":\"#2a3f5f\",\"gridcolor\":\"white\",\"linecolor\":\"white\",\"minorgridcolor\":\"white\",\"startlinecolor\":\"#2a3f5f\"},\"baxis\":{\"endlinecolor\":\"#2a3f5f\",\"gridcolor\":\"white\",\"linecolor\":\"white\",\"minorgridcolor\":\"white\",\"startlinecolor\":\"#2a3f5f\"},\"type\":\"carpet\"}],\"table\":[{\"cells\":{\"fill\":{\"color\":\"#EBF0F8\"},\"line\":{\"color\":\"white\"}},\"header\":{\"fill\":{\"color\":\"#C8D4E3\"},\"line\":{\"color\":\"white\"}},\"type\":\"table\"}],\"barpolar\":[{\"marker\":{\"line\":{\"color\":\"#E5ECF6\",\"width\":0.5},\"pattern\":{\"fillmode\":\"overlay\",\"size\":10,\"solidity\":0.2}},\"type\":\"barpolar\"}],\"pie\":[{\"automargin\":true,\"type\":\"pie\"}]},\"layout\":{\"autotypenumbers\":\"strict\",\"colorway\":[\"#636efa\",\"#EF553B\",\"#00cc96\",\"#ab63fa\",\"#FFA15A\",\"#19d3f3\",\"#FF6692\",\"#B6E880\",\"#FF97FF\",\"#FECB52\"],\"font\":{\"color\":\"#2a3f5f\"},\"hovermode\":\"closest\",\"hoverlabel\":{\"align\":\"left\"},\"paper_bgcolor\":\"white\",\"plot_bgcolor\":\"#E5ECF6\",\"polar\":{\"bgcolor\":\"#E5ECF6\",\"angularaxis\":{\"gridcolor\":\"white\",\"linecolor\":\"white\",\"ticks\":\"\"},\"radialaxis\":{\"gridcolor\":\"white\",\"linecolor\":\"white\",\"ticks\":\"\"}},\"ternary\":{\"bgcolor\":\"#E5ECF6\",\"aaxis\":{\"gridcolor\":\"white\",\"linecolor\":\"white\",\"ticks\":\"\"},\"baxis\":{\"gridcolor\":\"white\",\"linecolor\":\"white\",\"ticks\":\"\"},\"caxis\":{\"gridcolor\":\"white\",\"linecolor\":\"white\",\"ticks\":\"\"}},\"coloraxis\":{\"colorbar\":{\"outlinewidth\":0,\"ticks\":\"\"}},\"colorscale\":{\"sequential\":[[0.0,\"#0d0887\"],[0.1111111111111111,\"#46039f\"],[0.2222222222222222,\"#7201a8\"],[0.3333333333333333,\"#9c179e\"],[0.4444444444444444,\"#bd3786\"],[0.5555555555555556,\"#d8576b\"],[0.6666666666666666,\"#ed7953\"],[0.7777777777777778,\"#fb9f3a\"],[0.8888888888888888,\"#fdca26\"],[1.0,\"#f0f921\"]],\"sequentialminus\":[[0.0,\"#0d0887\"],[0.1111111111111111,\"#46039f\"],[0.2222222222222222,\"#7201a8\"],[0.3333333333333333,\"#9c179e\"],[0.4444444444444444,\"#bd3786\"],[0.5555555555555556,\"#d8576b\"],[0.6666666666666666,\"#ed7953\"],[0.7777777777777778,\"#fb9f3a\"],[0.8888888888888888,\"#fdca26\"],[1.0,\"#f0f921\"]],\"diverging\":[[0,\"#8e0152\"],[0.1,\"#c51b7d\"],[0.2,\"#de77ae\"],[0.3,\"#f1b6da\"],[0.4,\"#fde0ef\"],[0.5,\"#f7f7f7\"],[0.6,\"#e6f5d0\"],[0.7,\"#b8e186\"],[0.8,\"#7fbc41\"],[0.9,\"#4d9221\"],[1,\"#276419\"]]},\"xaxis\":{\"gridcolor\":\"white\",\"linecolor\":\"white\",\"ticks\":\"\",\"title\":{\"standoff\":15},\"zerolinecolor\":\"white\",\"automargin\":true,\"zerolinewidth\":2},\"yaxis\":{\"gridcolor\":\"white\",\"linecolor\":\"white\",\"ticks\":\"\",\"title\":{\"standoff\":15},\"zerolinecolor\":\"white\",\"automargin\":true,\"zerolinewidth\":2},\"scene\":{\"xaxis\":{\"backgroundcolor\":\"#E5ECF6\",\"gridcolor\":\"white\",\"linecolor\":\"white\",\"showbackground\":true,\"ticks\":\"\",\"zerolinecolor\":\"white\",\"gridwidth\":2},\"yaxis\":{\"backgroundcolor\":\"#E5ECF6\",\"gridcolor\":\"white\",\"linecolor\":\"white\",\"showbackground\":true,\"ticks\":\"\",\"zerolinecolor\":\"white\",\"gridwidth\":2},\"zaxis\":{\"backgroundcolor\":\"#E5ECF6\",\"gridcolor\":\"white\",\"linecolor\":\"white\",\"showbackground\":true,\"ticks\":\"\",\"zerolinecolor\":\"white\",\"gridwidth\":2}},\"shapedefaults\":{\"line\":{\"color\":\"#2a3f5f\"}},\"annotationdefaults\":{\"arrowcolor\":\"#2a3f5f\",\"arrowhead\":0,\"arrowwidth\":1},\"geo\":{\"bgcolor\":\"white\",\"landcolor\":\"#E5ECF6\",\"subunitcolor\":\"white\",\"showland\":true,\"showlakes\":true,\"lakecolor\":\"white\"},\"title\":{\"x\":0.05},\"mapbox\":{\"style\":\"light\"}}},\"xaxis\":{\"anchor\":\"y\",\"domain\":[0.0,1.0],\"title\":{\"text\":\"0\"}},\"yaxis\":{\"anchor\":\"x\",\"domain\":[0.0,1.0],\"title\":{\"text\":\"1\"}},\"legend\":{\"title\":{\"text\":\"color\"},\"tracegroupgap\":0},\"margin\":{\"t\":60}},                        {\"responsive\": true}                    ).then(function(){\n",
              "                            \n",
              "var gd = document.getElementById('b22b5a0c-2207-4af4-92ce-f467ef1d462b');\n",
              "var x = new MutationObserver(function (mutations, observer) {{\n",
              "        var display = window.getComputedStyle(gd).display;\n",
              "        if (!display || display === 'none') {{\n",
              "            console.log([gd, 'removed!']);\n",
              "            Plotly.purge(gd);\n",
              "            observer.disconnect();\n",
              "        }}\n",
              "}});\n",
              "\n",
              "// Listen for the removal of the full notebook cells\n",
              "var notebookContainer = gd.closest('#notebook-container');\n",
              "if (notebookContainer) {{\n",
              "    x.observe(notebookContainer, {childList: true});\n",
              "}}\n",
              "\n",
              "// Listen for the clearing of the current output cell\n",
              "var outputEl = gd.closest('.output');\n",
              "if (outputEl) {{\n",
              "    x.observe(outputEl, {childList: true});\n",
              "}}\n",
              "\n",
              "                        })                };                            </script>        </div>\n",
              "</body>\n",
              "</html>"
            ]
          },
          "metadata": {}
        }
      ]
    },
    {
      "cell_type": "markdown",
      "source": [
        "Finalmente podemos combinar todo de manera gráfica en un solo scatterplot: tanto los datapoints como las componentes principales que hemos seleccionado. Para ello dibujaremos los autovectores con un autovalor unitario definido por la raiz del mismo.\n",
        "\n",
        "$loading = autovector * \\sqrt autovalor$"
      ],
      "metadata": {
        "id": "_nGGrVmBTEsm"
      }
    },
    {
      "cell_type": "code",
      "source": [
        "\n",
        "loadings = pca.components_.T * np.sqrt(pca.explained_variance_) # Calculamos los loadings\n",
        "\n",
        "fig = px.scatter(components, x=0, y=1, color=df['species']) # Graficamos los datapoints\n",
        "\n",
        "for i, feature in enumerate(features):\n",
        "    fig.add_annotation(\n",
        "        ax=0, ay=0,\n",
        "        axref=\"x\", ayref=\"y\",\n",
        "        x=loadings[i, 0],\n",
        "        y=loadings[i, 1],\n",
        "        showarrow=True,\n",
        "        arrowsize=2,\n",
        "        arrowhead=2,\n",
        "        xanchor=\"right\",\n",
        "        yanchor=\"top\"\n",
        "    )\n",
        "    fig.add_annotation(\n",
        "        x=loadings[i, 0],\n",
        "        y=loadings[i, 1],\n",
        "        ax=0, ay=0,\n",
        "        xanchor=\"center\",\n",
        "        yanchor=\"bottom\",\n",
        "        text=feature,\n",
        "        yshift=5,\n",
        "    )\n",
        "fig.show()"
      ],
      "metadata": {
        "id": "oVHEQpG8TFjK",
        "colab": {
          "base_uri": "https://localhost:8080/",
          "height": 542
        },
        "outputId": "a3cc4698-569e-4e9d-9e9e-4cd8ab0f77e2"
      },
      "execution_count": 15,
      "outputs": [
        {
          "output_type": "display_data",
          "data": {
            "text/html": [
              "<html>\n",
              "<head><meta charset=\"utf-8\" /></head>\n",
              "<body>\n",
              "    <div>            <script src=\"https://cdnjs.cloudflare.com/ajax/libs/mathjax/2.7.5/MathJax.js?config=TeX-AMS-MML_SVG\"></script><script type=\"text/javascript\">if (window.MathJax && window.MathJax.Hub && window.MathJax.Hub.Config) {window.MathJax.Hub.Config({SVG: {font: \"STIX-Web\"}});}</script>                <script type=\"text/javascript\">window.PlotlyConfig = {MathJaxConfig: 'local'};</script>\n",
              "        <script charset=\"utf-8\" src=\"https://cdn.plot.ly/plotly-2.35.2.min.js\"></script>                <div id=\"4dc38610-4cb9-469d-bc30-e1291c9a1b70\" class=\"plotly-graph-div\" style=\"height:525px; width:100%;\"></div>            <script type=\"text/javascript\">                                    window.PLOTLYENV=window.PLOTLYENV || {};                                    if (document.getElementById(\"4dc38610-4cb9-469d-bc30-e1291c9a1b70\")) {                    Plotly.newPlot(                        \"4dc38610-4cb9-469d-bc30-e1291c9a1b70\",                        [{\"hovertemplate\":\"color=setosa\\u003cbr\\u003e0=%{x}\\u003cbr\\u003e1=%{y}\\u003cextra\\u003e\\u003c\\u002fextra\\u003e\",\"legendgroup\":\"setosa\",\"marker\":{\"color\":\"#636efa\",\"symbol\":\"circle\"},\"mode\":\"markers\",\"name\":\"setosa\",\"orientation\":\"v\",\"showlegend\":true,\"x\":[-2.2645417283949,-2.086425500616159,-2.367950449062526,-2.3041971611520093,-2.388777493505642,-2.0705368071805528,-2.4457113396302836,-2.233841858709266,-2.34195767645539,-2.1886757552808698,-2.1634865562665224,-2.327377754134374,-2.2240827220450026,-2.63971626084463,-2.1922915084984287,-2.2514652145840643,-2.202750480080085,-2.190179163791052,-1.894074293023668,-2.339949070423408,-1.9145563949595172,-2.2046453975338136,-2.7741697937051564,-1.820411563337214,-2.228217499459725,-1.9570240073413971,-2.0520633112766866,-2.168193653345021,-2.1403059632841575,-2.2687901943878765,-2.1445544292771346,-1.8319381022015873,-2.608202867663347,-2.4379508590951424,-2.1886757552808698,-2.211119896812422,-2.0444165193198005,-2.1886757552808698,-2.4359522029660194,-2.1705472018842706,-2.28652723884093,-1.8717072235369514,-2.5578344195375124,-1.964279290354737,-2.1333728329200277,-2.0753575928373067,-2.381258216802373,-2.398191687662639,-2.2267812130915186,-2.2059541686484025],\"xaxis\":\"x\",\"y\":[0.5057039027737852,-0.6554047293691364,-0.3184773108472486,-0.5753677125331949,0.674767396702516,1.518548559888514,0.07456267500687491,0.24761393175226576,-1.0951463625829547,-0.44862904833755884,1.070595576037727,0.1585874546594767,-0.709118158030226,-0.9382819821078536,1.8899785123164665,2.72237107657447,1.5137502825462192,0.5143043082206934,1.4311107069412377,1.1580334289850023,0.4304651632801383,0.952457317288999,0.48951702650349593,0.10675079283540677,0.16218616266619768,-0.6078925674838079,0.26601431198165576,0.5520164953235404,0.3366404088450547,-0.31487860284052765,-0.4839420967692585,0.4452668355028073,1.8284751927341027,2.185391615630894,-0.44862904833755884,-0.18433781054027842,0.6849564262949369,-0.44862904833755884,-0.8821694147756164,0.2927269549664468,0.46799171567093867,-2.32769160611491,-0.45381638048979234,0.49739164001838426,1.171432111774205,-0.6919173471364096,1.1506325928736676,-0.36239076472585646,1.0254825528235456,0.0322378452737801],\"yaxis\":\"y\",\"type\":\"scatter\"},{\"hovertemplate\":\"color=versicolor\\u003cbr\\u003e0=%{x}\\u003cbr\\u003e1=%{y}\\u003cextra\\u003e\\u003c\\u002fextra\\u003e\",\"legendgroup\":\"versicolor\",\"marker\":{\"color\":\"#EF553B\",\"symbol\":\"circle\"},\"mode\":\"markers\",\"name\":\"versicolor\",\"orientation\":\"v\",\"showlegend\":true,\"x\":[1.1039936528045724,0.7324814400086809,1.2421095053189377,0.3973072828233269,1.072593948201545,0.3844581461690015,0.748715075951553,-0.4978633877981183,0.9262223675330978,0.004968025584319231,-0.12469746138037133,0.4387301177805467,0.551633981422507,0.7171650662368511,-0.03725838296568835,0.8758905359406831,0.3480064019802086,0.15339254456866666,1.2153032092161535,0.15694117564425028,0.7382561043698961,0.4723696823445683,1.2279882140834422,0.6293810453149016,0.7004727992084581,0.8735369874014336,1.2542221905224498,1.3582398473872717,0.6621261375659376,-0.04728151331988038,0.12153420888011836,0.014118226051387378,0.23601083732659658,1.0566914280905764,0.2214170883302178,0.43178316074105366,1.0494133552191802,1.0358782103228237,0.06706759987298029,0.275425066251834,0.27233506626177184,0.6231705397262214,0.33000536383722623,-0.3736276226873765,0.2829443429551026,0.08905311031901139,0.2243567832086059,0.5738834855584668,-0.4570128725046751,0.25224447326946914],\"xaxis\":\"x\",\"y\":[0.8631124458513239,0.598635573341997,0.6148224496122862,-1.7581689474435265,-0.21175790267989616,-0.5910624686227366,0.7786986113887823,-1.8488687712754426,0.03033082678338059,-1.0294011124030877,-2.658062677961761,-0.058881285021454316,-1.7725815648562557,-0.185434314505044,-0.43279509871416894,0.509998151059147,-0.19062164665727754,-0.7907254562344856,-1.6333556445154838,-1.3031032701729113,0.40247038161853627,-0.41660822244387985,-0.9409147925302731,-0.41681164254177244,-0.06349392765170264,0.25070861070205347,-0.08262009981311325,0.3288202662704016,-0.22434607094346423,-1.0572124126050206,-1.5635923798655784,-1.5733923546480602,-0.7759237840118167,-0.6369012837689372,-0.28084769308563984,0.8551369202180031,0.5221972645127763,-1.3924664843877816,-0.2126207348933886,-1.3298159131577023,-1.119441524119404,0.02754263330229436,-0.9889007318191552,-2.0179322652041733,-0.8539507169865501,-0.17490854779054157,-0.3804846594865454,-0.1537199740800653,-1.5394645102639808,-0.5958607459650311],\"yaxis\":\"y\",\"type\":\"scatter\"},{\"hovertemplate\":\"color=virginica\\u003cbr\\u003e0=%{x}\\u003cbr\\u003e1=%{y}\\u003cextra\\u003e\\u003c\\u002fextra\\u003e\",\"legendgroup\":\"virginica\",\"marker\":{\"color\":\"#00cc96\",\"symbol\":\"circle\"},\"mode\":\"markers\",\"name\":\"virginica\",\"orientation\":\"v\",\"showlegend\":true,\"x\":[1.8476725943096646,1.153189808252129,2.206349497126593,1.4386854023261817,1.8678907025555846,2.7541967088257526,0.3583744748416678,2.303005898150319,2.001735299218916,2.2675545991022688,1.3659094292022145,1.5990645856518693,1.8842518537520743,1.2530865143775918,1.4640615229856226,1.5918093026385292,1.4712801894655436,2.4373784821935085,3.309141182676079,1.2539809866905776,2.040496259663039,0.9739151144704737,2.8980644358432763,1.3291936913234932,1.704240708519606,1.9577276617934352,1.1719045079878685,1.019781052816263,1.7860088612484681,1.864777912707466,2.435497391415143,2.3160824119611547,1.8603714258523163,1.1112717256759688,1.1974691551180374,2.800949403734029,1.5801552485205375,1.3470444243548019,0.9234329777663843,1.853551984066441,2.016157200677759,1.903116858599487,1.153189808252129,2.0433084392878094,2.001690966934998,1.8705220714601258,1.558491890723717,1.5208450639985907,1.3763911906419284,0.959298575616038],\"xaxis\":\"x\",\"y\":[0.8716966617734135,-0.7013261138565753,0.5544701049349223,-0.05001052226888562,0.2911928017611692,0.7884322063548445,-1.560094583977289,0.4095166952219429,-0.72386535931266,1.921442991465355,0.6939480398041613,-0.42824883590034,0.4143327579500838,-1.1673913352452459,-0.4441475694791233,0.6770353716018519,0.25319247196681544,2.5567573414948024,-0.0023613201020839074,-1.717583844265978,0.907398765015053,-0.571174376366266,0.3977913591718673,-0.4867605419037244,1.0141484248357855,1.003334515429777,-0.31889661731056806,0.06554296309664816,-0.1932727998568915,0.5553815315789892,0.24665446806897337,2.626183869022628,-0.18467239440998331,-0.2959861024303906,-0.8171677419136163,0.844748193784974,1.0724744961271229,0.4222559658955463,0.019230370546893368,0.6724227289716037,0.610397037555113,0.6860248318586991,-0.7013261138565753,0.8646848804720189,1.0485500466234183,0.38282183762299815,-0.9053136014070666,0.26679457485391084,1.0163619287948862,-0.022283944660566785],\"yaxis\":\"y\",\"type\":\"scatter\"}],                        {\"template\":{\"data\":{\"histogram2dcontour\":[{\"type\":\"histogram2dcontour\",\"colorbar\":{\"outlinewidth\":0,\"ticks\":\"\"},\"colorscale\":[[0.0,\"#0d0887\"],[0.1111111111111111,\"#46039f\"],[0.2222222222222222,\"#7201a8\"],[0.3333333333333333,\"#9c179e\"],[0.4444444444444444,\"#bd3786\"],[0.5555555555555556,\"#d8576b\"],[0.6666666666666666,\"#ed7953\"],[0.7777777777777778,\"#fb9f3a\"],[0.8888888888888888,\"#fdca26\"],[1.0,\"#f0f921\"]]}],\"choropleth\":[{\"type\":\"choropleth\",\"colorbar\":{\"outlinewidth\":0,\"ticks\":\"\"}}],\"histogram2d\":[{\"type\":\"histogram2d\",\"colorbar\":{\"outlinewidth\":0,\"ticks\":\"\"},\"colorscale\":[[0.0,\"#0d0887\"],[0.1111111111111111,\"#46039f\"],[0.2222222222222222,\"#7201a8\"],[0.3333333333333333,\"#9c179e\"],[0.4444444444444444,\"#bd3786\"],[0.5555555555555556,\"#d8576b\"],[0.6666666666666666,\"#ed7953\"],[0.7777777777777778,\"#fb9f3a\"],[0.8888888888888888,\"#fdca26\"],[1.0,\"#f0f921\"]]}],\"heatmap\":[{\"type\":\"heatmap\",\"colorbar\":{\"outlinewidth\":0,\"ticks\":\"\"},\"colorscale\":[[0.0,\"#0d0887\"],[0.1111111111111111,\"#46039f\"],[0.2222222222222222,\"#7201a8\"],[0.3333333333333333,\"#9c179e\"],[0.4444444444444444,\"#bd3786\"],[0.5555555555555556,\"#d8576b\"],[0.6666666666666666,\"#ed7953\"],[0.7777777777777778,\"#fb9f3a\"],[0.8888888888888888,\"#fdca26\"],[1.0,\"#f0f921\"]]}],\"heatmapgl\":[{\"type\":\"heatmapgl\",\"colorbar\":{\"outlinewidth\":0,\"ticks\":\"\"},\"colorscale\":[[0.0,\"#0d0887\"],[0.1111111111111111,\"#46039f\"],[0.2222222222222222,\"#7201a8\"],[0.3333333333333333,\"#9c179e\"],[0.4444444444444444,\"#bd3786\"],[0.5555555555555556,\"#d8576b\"],[0.6666666666666666,\"#ed7953\"],[0.7777777777777778,\"#fb9f3a\"],[0.8888888888888888,\"#fdca26\"],[1.0,\"#f0f921\"]]}],\"contourcarpet\":[{\"type\":\"contourcarpet\",\"colorbar\":{\"outlinewidth\":0,\"ticks\":\"\"}}],\"contour\":[{\"type\":\"contour\",\"colorbar\":{\"outlinewidth\":0,\"ticks\":\"\"},\"colorscale\":[[0.0,\"#0d0887\"],[0.1111111111111111,\"#46039f\"],[0.2222222222222222,\"#7201a8\"],[0.3333333333333333,\"#9c179e\"],[0.4444444444444444,\"#bd3786\"],[0.5555555555555556,\"#d8576b\"],[0.6666666666666666,\"#ed7953\"],[0.7777777777777778,\"#fb9f3a\"],[0.8888888888888888,\"#fdca26\"],[1.0,\"#f0f921\"]]}],\"surface\":[{\"type\":\"surface\",\"colorbar\":{\"outlinewidth\":0,\"ticks\":\"\"},\"colorscale\":[[0.0,\"#0d0887\"],[0.1111111111111111,\"#46039f\"],[0.2222222222222222,\"#7201a8\"],[0.3333333333333333,\"#9c179e\"],[0.4444444444444444,\"#bd3786\"],[0.5555555555555556,\"#d8576b\"],[0.6666666666666666,\"#ed7953\"],[0.7777777777777778,\"#fb9f3a\"],[0.8888888888888888,\"#fdca26\"],[1.0,\"#f0f921\"]]}],\"mesh3d\":[{\"type\":\"mesh3d\",\"colorbar\":{\"outlinewidth\":0,\"ticks\":\"\"}}],\"scatter\":[{\"fillpattern\":{\"fillmode\":\"overlay\",\"size\":10,\"solidity\":0.2},\"type\":\"scatter\"}],\"parcoords\":[{\"type\":\"parcoords\",\"line\":{\"colorbar\":{\"outlinewidth\":0,\"ticks\":\"\"}}}],\"scatterpolargl\":[{\"type\":\"scatterpolargl\",\"marker\":{\"colorbar\":{\"outlinewidth\":0,\"ticks\":\"\"}}}],\"bar\":[{\"error_x\":{\"color\":\"#2a3f5f\"},\"error_y\":{\"color\":\"#2a3f5f\"},\"marker\":{\"line\":{\"color\":\"#E5ECF6\",\"width\":0.5},\"pattern\":{\"fillmode\":\"overlay\",\"size\":10,\"solidity\":0.2}},\"type\":\"bar\"}],\"scattergeo\":[{\"type\":\"scattergeo\",\"marker\":{\"colorbar\":{\"outlinewidth\":0,\"ticks\":\"\"}}}],\"scatterpolar\":[{\"type\":\"scatterpolar\",\"marker\":{\"colorbar\":{\"outlinewidth\":0,\"ticks\":\"\"}}}],\"histogram\":[{\"marker\":{\"pattern\":{\"fillmode\":\"overlay\",\"size\":10,\"solidity\":0.2}},\"type\":\"histogram\"}],\"scattergl\":[{\"type\":\"scattergl\",\"marker\":{\"colorbar\":{\"outlinewidth\":0,\"ticks\":\"\"}}}],\"scatter3d\":[{\"type\":\"scatter3d\",\"line\":{\"colorbar\":{\"outlinewidth\":0,\"ticks\":\"\"}},\"marker\":{\"colorbar\":{\"outlinewidth\":0,\"ticks\":\"\"}}}],\"scattermapbox\":[{\"type\":\"scattermapbox\",\"marker\":{\"colorbar\":{\"outlinewidth\":0,\"ticks\":\"\"}}}],\"scatterternary\":[{\"type\":\"scatterternary\",\"marker\":{\"colorbar\":{\"outlinewidth\":0,\"ticks\":\"\"}}}],\"scattercarpet\":[{\"type\":\"scattercarpet\",\"marker\":{\"colorbar\":{\"outlinewidth\":0,\"ticks\":\"\"}}}],\"carpet\":[{\"aaxis\":{\"endlinecolor\":\"#2a3f5f\",\"gridcolor\":\"white\",\"linecolor\":\"white\",\"minorgridcolor\":\"white\",\"startlinecolor\":\"#2a3f5f\"},\"baxis\":{\"endlinecolor\":\"#2a3f5f\",\"gridcolor\":\"white\",\"linecolor\":\"white\",\"minorgridcolor\":\"white\",\"startlinecolor\":\"#2a3f5f\"},\"type\":\"carpet\"}],\"table\":[{\"cells\":{\"fill\":{\"color\":\"#EBF0F8\"},\"line\":{\"color\":\"white\"}},\"header\":{\"fill\":{\"color\":\"#C8D4E3\"},\"line\":{\"color\":\"white\"}},\"type\":\"table\"}],\"barpolar\":[{\"marker\":{\"line\":{\"color\":\"#E5ECF6\",\"width\":0.5},\"pattern\":{\"fillmode\":\"overlay\",\"size\":10,\"solidity\":0.2}},\"type\":\"barpolar\"}],\"pie\":[{\"automargin\":true,\"type\":\"pie\"}]},\"layout\":{\"autotypenumbers\":\"strict\",\"colorway\":[\"#636efa\",\"#EF553B\",\"#00cc96\",\"#ab63fa\",\"#FFA15A\",\"#19d3f3\",\"#FF6692\",\"#B6E880\",\"#FF97FF\",\"#FECB52\"],\"font\":{\"color\":\"#2a3f5f\"},\"hovermode\":\"closest\",\"hoverlabel\":{\"align\":\"left\"},\"paper_bgcolor\":\"white\",\"plot_bgcolor\":\"#E5ECF6\",\"polar\":{\"bgcolor\":\"#E5ECF6\",\"angularaxis\":{\"gridcolor\":\"white\",\"linecolor\":\"white\",\"ticks\":\"\"},\"radialaxis\":{\"gridcolor\":\"white\",\"linecolor\":\"white\",\"ticks\":\"\"}},\"ternary\":{\"bgcolor\":\"#E5ECF6\",\"aaxis\":{\"gridcolor\":\"white\",\"linecolor\":\"white\",\"ticks\":\"\"},\"baxis\":{\"gridcolor\":\"white\",\"linecolor\":\"white\",\"ticks\":\"\"},\"caxis\":{\"gridcolor\":\"white\",\"linecolor\":\"white\",\"ticks\":\"\"}},\"coloraxis\":{\"colorbar\":{\"outlinewidth\":0,\"ticks\":\"\"}},\"colorscale\":{\"sequential\":[[0.0,\"#0d0887\"],[0.1111111111111111,\"#46039f\"],[0.2222222222222222,\"#7201a8\"],[0.3333333333333333,\"#9c179e\"],[0.4444444444444444,\"#bd3786\"],[0.5555555555555556,\"#d8576b\"],[0.6666666666666666,\"#ed7953\"],[0.7777777777777778,\"#fb9f3a\"],[0.8888888888888888,\"#fdca26\"],[1.0,\"#f0f921\"]],\"sequentialminus\":[[0.0,\"#0d0887\"],[0.1111111111111111,\"#46039f\"],[0.2222222222222222,\"#7201a8\"],[0.3333333333333333,\"#9c179e\"],[0.4444444444444444,\"#bd3786\"],[0.5555555555555556,\"#d8576b\"],[0.6666666666666666,\"#ed7953\"],[0.7777777777777778,\"#fb9f3a\"],[0.8888888888888888,\"#fdca26\"],[1.0,\"#f0f921\"]],\"diverging\":[[0,\"#8e0152\"],[0.1,\"#c51b7d\"],[0.2,\"#de77ae\"],[0.3,\"#f1b6da\"],[0.4,\"#fde0ef\"],[0.5,\"#f7f7f7\"],[0.6,\"#e6f5d0\"],[0.7,\"#b8e186\"],[0.8,\"#7fbc41\"],[0.9,\"#4d9221\"],[1,\"#276419\"]]},\"xaxis\":{\"gridcolor\":\"white\",\"linecolor\":\"white\",\"ticks\":\"\",\"title\":{\"standoff\":15},\"zerolinecolor\":\"white\",\"automargin\":true,\"zerolinewidth\":2},\"yaxis\":{\"gridcolor\":\"white\",\"linecolor\":\"white\",\"ticks\":\"\",\"title\":{\"standoff\":15},\"zerolinecolor\":\"white\",\"automargin\":true,\"zerolinewidth\":2},\"scene\":{\"xaxis\":{\"backgroundcolor\":\"#E5ECF6\",\"gridcolor\":\"white\",\"linecolor\":\"white\",\"showbackground\":true,\"ticks\":\"\",\"zerolinecolor\":\"white\",\"gridwidth\":2},\"yaxis\":{\"backgroundcolor\":\"#E5ECF6\",\"gridcolor\":\"white\",\"linecolor\":\"white\",\"showbackground\":true,\"ticks\":\"\",\"zerolinecolor\":\"white\",\"gridwidth\":2},\"zaxis\":{\"backgroundcolor\":\"#E5ECF6\",\"gridcolor\":\"white\",\"linecolor\":\"white\",\"showbackground\":true,\"ticks\":\"\",\"zerolinecolor\":\"white\",\"gridwidth\":2}},\"shapedefaults\":{\"line\":{\"color\":\"#2a3f5f\"}},\"annotationdefaults\":{\"arrowcolor\":\"#2a3f5f\",\"arrowhead\":0,\"arrowwidth\":1},\"geo\":{\"bgcolor\":\"white\",\"landcolor\":\"#E5ECF6\",\"subunitcolor\":\"white\",\"showland\":true,\"showlakes\":true,\"lakecolor\":\"white\"},\"title\":{\"x\":0.05},\"mapbox\":{\"style\":\"light\"}}},\"xaxis\":{\"anchor\":\"y\",\"domain\":[0.0,1.0],\"title\":{\"text\":\"0\"}},\"yaxis\":{\"anchor\":\"x\",\"domain\":[0.0,1.0],\"title\":{\"text\":\"1\"}},\"legend\":{\"title\":{\"text\":\"color\"},\"tracegroupgap\":0},\"margin\":{\"t\":60},\"annotations\":[{\"arrowhead\":2,\"arrowsize\":2,\"ax\":0,\"axref\":\"x\",\"ay\":0,\"ayref\":\"y\",\"showarrow\":true,\"x\":-0.45081821597368243,\"xanchor\":\"right\",\"y\":0.8913275413878017,\"yanchor\":\"top\"},{\"ax\":0,\"ay\":0,\"text\":\"sepal_width\",\"x\":-0.45081821597368243,\"xanchor\":\"center\",\"y\":0.8913275413878017,\"yanchor\":\"bottom\",\"yshift\":5},{\"arrowhead\":2,\"arrowsize\":2,\"ax\":0,\"axref\":\"x\",\"ay\":0,\"ayref\":\"y\",\"showarrow\":true,\"x\":0.8942101639027132,\"xanchor\":\"right\",\"y\":0.35854927658845354,\"yanchor\":\"top\"},{\"ax\":0,\"ay\":0,\"text\":\"sepal_length\",\"x\":0.8942101639027132,\"xanchor\":\"center\",\"y\":0.35854927658845354,\"yanchor\":\"bottom\",\"yshift\":5},{\"arrowhead\":2,\"arrowsize\":2,\"ax\":0,\"axref\":\"x\",\"ay\":0,\"ayref\":\"y\",\"showarrow\":true,\"x\":0.9682286132352305,\"xanchor\":\"right\",\"y\":0.06299656151711273,\"yanchor\":\"top\"},{\"ax\":0,\"ay\":0,\"text\":\"petal_width\",\"x\":0.9682286132352305,\"xanchor\":\"center\",\"y\":0.06299656151711273,\"yanchor\":\"bottom\",\"yshift\":5},{\"arrowhead\":2,\"arrowsize\":2,\"ax\":0,\"axref\":\"x\",\"ay\":0,\"ayref\":\"y\",\"showarrow\":true,\"x\":0.9950066567723495,\"xanchor\":\"right\",\"y\":0.020314649291456793,\"yanchor\":\"top\"},{\"ax\":0,\"ay\":0,\"text\":\"petal_length\",\"x\":0.9950066567723495,\"xanchor\":\"center\",\"y\":0.020314649291456793,\"yanchor\":\"bottom\",\"yshift\":5}]},                        {\"responsive\": true}                    ).then(function(){\n",
              "                            \n",
              "var gd = document.getElementById('4dc38610-4cb9-469d-bc30-e1291c9a1b70');\n",
              "var x = new MutationObserver(function (mutations, observer) {{\n",
              "        var display = window.getComputedStyle(gd).display;\n",
              "        if (!display || display === 'none') {{\n",
              "            console.log([gd, 'removed!']);\n",
              "            Plotly.purge(gd);\n",
              "            observer.disconnect();\n",
              "        }}\n",
              "}});\n",
              "\n",
              "// Listen for the removal of the full notebook cells\n",
              "var notebookContainer = gd.closest('#notebook-container');\n",
              "if (notebookContainer) {{\n",
              "    x.observe(notebookContainer, {childList: true});\n",
              "}}\n",
              "\n",
              "// Listen for the clearing of the current output cell\n",
              "var outputEl = gd.closest('.output');\n",
              "if (outputEl) {{\n",
              "    x.observe(outputEl, {childList: true});\n",
              "}}\n",
              "\n",
              "                        })                };                            </script>        </div>\n",
              "</body>\n",
              "</html>"
            ]
          },
          "metadata": {}
        }
      ]
    },
    {
      "cell_type": "markdown",
      "source": [
        "Extra: Visualización de 3 Componentes Principales en 3D"
      ],
      "metadata": {
        "id": "07YrM18mSt7N"
      }
    },
    {
      "cell_type": "code",
      "source": [
        "pca = PCA(n_components=3)\n",
        "components = pca.fit_transform(df_norm)\n",
        "\n",
        "total_var = pca.explained_variance_ratio_.sum() * 100\n",
        "\n",
        "fig = px.scatter_3d(\n",
        "    components, x=0, y=1, z=2, color=df['species'],\n",
        "    title=f'Total Explained Variance: {total_var:.2f}%',\n",
        "    labels={'0': 'PC 1', '1': 'PC 2', '2': 'PC 3'}\n",
        ")\n",
        "fig.show()"
      ],
      "metadata": {
        "id": "QPVuz82WKWPF",
        "colab": {
          "base_uri": "https://localhost:8080/",
          "height": 542
        },
        "outputId": "63129d35-ec70-4961-e7db-b0fe0878c42b"
      },
      "execution_count": 16,
      "outputs": [
        {
          "output_type": "display_data",
          "data": {
            "text/html": [
              "<html>\n",
              "<head><meta charset=\"utf-8\" /></head>\n",
              "<body>\n",
              "    <div>            <script src=\"https://cdnjs.cloudflare.com/ajax/libs/mathjax/2.7.5/MathJax.js?config=TeX-AMS-MML_SVG\"></script><script type=\"text/javascript\">if (window.MathJax && window.MathJax.Hub && window.MathJax.Hub.Config) {window.MathJax.Hub.Config({SVG: {font: \"STIX-Web\"}});}</script>                <script type=\"text/javascript\">window.PlotlyConfig = {MathJaxConfig: 'local'};</script>\n",
              "        <script charset=\"utf-8\" src=\"https://cdn.plot.ly/plotly-2.35.2.min.js\"></script>                <div id=\"7bbb4b11-f946-4191-9110-3dbee81922b0\" class=\"plotly-graph-div\" style=\"height:525px; width:100%;\"></div>            <script type=\"text/javascript\">                                    window.PLOTLYENV=window.PLOTLYENV || {};                                    if (document.getElementById(\"7bbb4b11-f946-4191-9110-3dbee81922b0\")) {                    Plotly.newPlot(                        \"7bbb4b11-f946-4191-9110-3dbee81922b0\",                        [{\"hovertemplate\":\"color=setosa\\u003cbr\\u003ePC 1=%{x}\\u003cbr\\u003ePC 2=%{y}\\u003cbr\\u003ePC 3=%{z}\\u003cextra\\u003e\\u003c\\u002fextra\\u003e\",\"legendgroup\":\"setosa\",\"marker\":{\"color\":\"#636efa\",\"symbol\":\"circle\"},\"mode\":\"markers\",\"name\":\"setosa\",\"scene\":\"scene\",\"showlegend\":true,\"x\":[-2.2645417283949,-2.086425500616159,-2.367950449062526,-2.3041971611520093,-2.388777493505642,-2.0705368071805528,-2.4457113396302836,-2.233841858709266,-2.34195767645539,-2.1886757552808698,-2.1634865562665224,-2.327377754134374,-2.2240827220450026,-2.63971626084463,-2.1922915084984287,-2.2514652145840643,-2.202750480080085,-2.190179163791052,-1.894074293023668,-2.339949070423408,-1.9145563949595172,-2.2046453975338136,-2.7741697937051564,-1.820411563337214,-2.228217499459725,-1.9570240073413971,-2.0520633112766866,-2.168193653345021,-2.1403059632841575,-2.2687901943878765,-2.1445544292771346,-1.8319381022015873,-2.608202867663347,-2.4379508590951424,-2.1886757552808698,-2.211119896812422,-2.0444165193198005,-2.1886757552808698,-2.4359522029660194,-2.1705472018842706,-2.28652723884093,-1.8717072235369514,-2.5578344195375124,-1.964279290354737,-2.1333728329200277,-2.0753575928373067,-2.381258216802373,-2.398191687662639,-2.2267812130915186,-2.2059541686484025],\"y\":[0.5057039027737852,-0.6554047293691364,-0.3184773108472486,-0.5753677125331949,0.674767396702516,1.518548559888514,0.07456267500687491,0.24761393175226576,-1.0951463625829547,-0.44862904833755884,1.070595576037727,0.1585874546594767,-0.709118158030226,-0.9382819821078536,1.8899785123164665,2.72237107657447,1.5137502825462192,0.5143043082206934,1.4311107069412377,1.1580334289850023,0.4304651632801383,0.952457317288999,0.48951702650349593,0.10675079283540677,0.16218616266619768,-0.6078925674838079,0.26601431198165576,0.5520164953235404,0.3366404088450547,-0.31487860284052765,-0.4839420967692585,0.4452668355028073,1.8284751927341027,2.185391615630894,-0.44862904833755884,-0.18433781054027842,0.6849564262949369,-0.44862904833755884,-0.8821694147756164,0.2927269549664468,0.46799171567093867,-2.32769160611491,-0.45381638048979234,0.49739164001838426,1.171432111774205,-0.6919173471364096,1.1506325928736676,-0.36239076472585646,1.0254825528235456,0.0322378452737801],\"z\":[0.12194334778175694,0.22725083239924868,-0.05147962364496686,-0.09886044443740315,-0.021427848973115143,-0.030684258280724633,-0.34219763621375454,0.0825744644548511,-0.15356239869462568,0.24655952238860795,0.2640093733471052,-0.10016561562692773,0.2232145139927609,-0.18957003015127227,0.469480094635948,-0.032603796659031986,0.0013634915813944253,0.03861559488011973,0.3707428339920339,-0.13741771892565388,0.4160068747562897,-0.16473834638054327,-0.3388363843434943,-0.040061472426247746,-0.12420142802351701,0.2985910287763133,-0.09209297881395308,0.20129548162435212,0.26531454453662995,-0.07551543604155618,0.06785576071331613,0.2653752438840749,-0.05141951815449872,0.07934975488701909,0.24655952238860795,0.21862452774493638,0.47941157047978494,0.24655952238860795,-0.20155758667584395,0.16993853576297518,-0.04073653896247459,0.1945286098578791,-0.31357183756933993,-0.31475561006397534,-0.2527932216894101,0.056559008189486615,-0.06210190348954645,-0.14685563241862137,0.17664530203898027,0.14659352736712902],\"type\":\"scatter3d\"},{\"hovertemplate\":\"color=versicolor\\u003cbr\\u003ePC 1=%{x}\\u003cbr\\u003ePC 2=%{y}\\u003cbr\\u003ePC 3=%{z}\\u003cextra\\u003e\\u003c\\u002fextra\\u003e\",\"legendgroup\":\"versicolor\",\"marker\":{\"color\":\"#EF553B\",\"symbol\":\"circle\"},\"mode\":\"markers\",\"name\":\"versicolor\",\"scene\":\"scene\",\"showlegend\":true,\"x\":[1.1039936528045724,0.7324814400086809,1.2421095053189377,0.3973072828233269,1.072593948201545,0.3844581461690015,0.748715075951553,-0.4978633877981183,0.9262223675330978,0.004968025584319231,-0.12469746138037133,0.4387301177805467,0.551633981422507,0.7171650662368511,-0.03725838296568835,0.8758905359406831,0.3480064019802086,0.15339254456866666,1.2153032092161535,0.15694117564425028,0.7382561043698961,0.4723696823445683,1.2279882140834422,0.6293810453149016,0.7004727992084581,0.8735369874014336,1.2542221905224498,1.3582398473872717,0.6621261375659376,-0.04728151331988038,0.12153420888011836,0.014118226051387378,0.23601083732659658,1.0566914280905764,0.2214170883302178,0.43178316074105366,1.0494133552191802,1.0358782103228237,0.06706759987298029,0.275425066251834,0.27233506626177184,0.6231705397262214,0.33000536383722623,-0.3736276226873765,0.2829443429551026,0.08905311031901139,0.2243567832086059,0.5738834855584668,-0.4570128725046751,0.25224447326946914],\"y\":[0.8631124458513239,0.598635573341997,0.6148224496122862,-1.7581689474435265,-0.21175790267989616,-0.5910624686227366,0.7786986113887823,-1.8488687712754426,0.03033082678338059,-1.0294011124030877,-2.658062677961761,-0.058881285021454316,-1.7725815648562557,-0.185434314505044,-0.43279509871416894,0.509998151059147,-0.19062164665727754,-0.7907254562344856,-1.6333556445154838,-1.3031032701729113,0.40247038161853627,-0.41660822244387985,-0.9409147925302731,-0.41681164254177244,-0.06349392765170264,0.25070861070205347,-0.08262009981311325,0.3288202662704016,-0.22434607094346423,-1.0572124126050206,-1.5635923798655784,-1.5733923546480602,-0.7759237840118167,-0.6369012837689372,-0.28084769308563984,0.8551369202180031,0.5221972645127763,-1.3924664843877816,-0.2126207348933886,-1.3298159131577023,-1.119441524119404,0.02754263330229436,-0.9889007318191552,-2.0179322652041733,-0.8539507169865501,-0.17490854779054157,-0.3804846594865454,-0.1537199740800653,-1.5394645102639808,-0.5958607459650311],\"z\":[0.6855551077942378,0.09406680197491354,0.5548465341001647,0.018569482353448397,0.39744743760450024,-0.12679768959169138,-0.14865602261265595,-0.2555552499784263,0.5954598892691505,-0.5428670487940244,0.03981344818563035,-0.20670349127562335,0.7613802230457299,0.06729984236136136,-0.1980614491567964,0.5035058317132018,-0.49283151759658667,0.2986045157302112,0.4794099138261446,0.16858674603688048,-0.6167726256672097,0.26271828296845495,0.3667048589319056,0.2899624736113837,0.44476755904949156,0.472148885851825,0.7268435294994511,0.26145807366185986,-0.08736810691734048,0.3153191946620137,0.14524173764103418,0.23658142800820112,0.14797288485799648,-0.10675323371866044,-0.6675596602128351,-0.45073148705271765,0.3961422664149754,0.6854343029563248,-0.2941282619311933,-0.09344476854004775,-0.09817189094727766,0.019304654380143102,0.19596807283921475,-0.11218405322355401,-0.1341188230564792,-0.13144837518696093,-0.15876900264185012,0.27003941643324253,-0.196126173313974,-0.09474993972957227],\"type\":\"scatter3d\"},{\"hovertemplate\":\"color=virginica\\u003cbr\\u003ePC 1=%{x}\\u003cbr\\u003ePC 2=%{y}\\u003cbr\\u003ePC 3=%{z}\\u003cextra\\u003e\\u003c\\u002fextra\\u003e\",\"legendgroup\":\"virginica\",\"marker\":{\"color\":\"#00cc96\",\"symbol\":\"circle\"},\"mode\":\"markers\",\"name\":\"virginica\",\"scene\":\"scene\",\"showlegend\":true,\"x\":[1.8476725943096646,1.153189808252129,2.206349497126593,1.4386854023261817,1.8678907025555846,2.7541967088257526,0.3583744748416678,2.303005898150319,2.001735299218916,2.2675545991022688,1.3659094292022145,1.5990645856518693,1.8842518537520743,1.2530865143775918,1.4640615229856226,1.5918093026385292,1.4712801894655436,2.4373784821935085,3.309141182676079,1.2539809866905776,2.040496259663039,0.9739151144704737,2.8980644358432763,1.3291936913234932,1.704240708519606,1.9577276617934352,1.1719045079878685,1.019781052816263,1.7860088612484681,1.864777912707466,2.435497391415143,2.3160824119611547,1.8603714258523163,1.1112717256759688,1.1974691551180374,2.800949403734029,1.5801552485205375,1.3470444243548019,0.9234329777663843,1.853551984066441,2.016157200677759,1.903116858599487,1.153189808252129,2.0433084392878094,2.001690966934998,1.8705220714601258,1.558491890723717,1.5208450639985907,1.3763911906419284,0.959298575616038],\"y\":[0.8716966617734135,-0.7013261138565753,0.5544701049349223,-0.05001052226888562,0.2911928017611692,0.7884322063548445,-1.560094583977289,0.4095166952219429,-0.72386535931266,1.921442991465355,0.6939480398041613,-0.42824883590034,0.4143327579500838,-1.1673913352452459,-0.4441475694791233,0.6770353716018519,0.25319247196681544,2.5567573414948024,-0.0023613201020839074,-1.717583844265978,0.907398765015053,-0.571174376366266,0.3977913591718673,-0.4867605419037244,1.0141484248357855,1.003334515429777,-0.31889661731056806,0.06554296309664816,-0.1932727998568915,0.5553815315789892,0.24665446806897337,2.626183869022628,-0.18467239440998331,-0.2959861024303906,-0.8171677419136163,0.844748193784974,1.0724744961271229,0.4222559658955463,0.019230370546893368,0.6724227289716037,0.610397037555113,0.6860248318586991,-0.7013261138565753,0.8646848804720189,1.0485500466234183,0.38282183762299815,-0.9053136014070666,0.26679457485391084,1.0163619287948862,-0.022283944660566785],\"z\":[-1.0027609857792774,-0.5314646350398209,0.20549591009804052,-0.16339046381870623,-0.3940043331868134,0.5862327043799545,-0.9909998953229917,0.65416668700383,0.39407044826972454,-0.39251765781193065,-0.2832795160183266,-0.023304082122133165,-0.024548553964213682,-0.5821302708905565,-1.0041105249947544,-0.6366507209624218,-0.03665750918367543,0.13420008174692877,0.706933959275208,0.26462208388224656,-0.23187811428391852,-0.8295037810733956,0.8609268420176831,0.004707349333497981,-0.2959578765436411,0.4228170517520512,-0.1306519099558441,-0.33804216962299505,-0.2700025257687447,0.717510683379881,0.7302340057881257,0.49961954256304153,-0.35333027867038186,0.18265960766060224,0.16321378151183735,0.5470009572124545,-0.943392608462269,-0.1800287059385476,-0.4173943034655893,0.014820329362692905,-0.4259149468895268,-0.12779936404399184,-0.5314646350398209,-0.3352660605231029,-0.6292688881501898,-0.25453231867902254,0.025381909859827207,-0.17927720259036037,-0.9314050519376965,-0.5287941871703028],\"type\":\"scatter3d\"}],                        {\"template\":{\"data\":{\"histogram2dcontour\":[{\"type\":\"histogram2dcontour\",\"colorbar\":{\"outlinewidth\":0,\"ticks\":\"\"},\"colorscale\":[[0.0,\"#0d0887\"],[0.1111111111111111,\"#46039f\"],[0.2222222222222222,\"#7201a8\"],[0.3333333333333333,\"#9c179e\"],[0.4444444444444444,\"#bd3786\"],[0.5555555555555556,\"#d8576b\"],[0.6666666666666666,\"#ed7953\"],[0.7777777777777778,\"#fb9f3a\"],[0.8888888888888888,\"#fdca26\"],[1.0,\"#f0f921\"]]}],\"choropleth\":[{\"type\":\"choropleth\",\"colorbar\":{\"outlinewidth\":0,\"ticks\":\"\"}}],\"histogram2d\":[{\"type\":\"histogram2d\",\"colorbar\":{\"outlinewidth\":0,\"ticks\":\"\"},\"colorscale\":[[0.0,\"#0d0887\"],[0.1111111111111111,\"#46039f\"],[0.2222222222222222,\"#7201a8\"],[0.3333333333333333,\"#9c179e\"],[0.4444444444444444,\"#bd3786\"],[0.5555555555555556,\"#d8576b\"],[0.6666666666666666,\"#ed7953\"],[0.7777777777777778,\"#fb9f3a\"],[0.8888888888888888,\"#fdca26\"],[1.0,\"#f0f921\"]]}],\"heatmap\":[{\"type\":\"heatmap\",\"colorbar\":{\"outlinewidth\":0,\"ticks\":\"\"},\"colorscale\":[[0.0,\"#0d0887\"],[0.1111111111111111,\"#46039f\"],[0.2222222222222222,\"#7201a8\"],[0.3333333333333333,\"#9c179e\"],[0.4444444444444444,\"#bd3786\"],[0.5555555555555556,\"#d8576b\"],[0.6666666666666666,\"#ed7953\"],[0.7777777777777778,\"#fb9f3a\"],[0.8888888888888888,\"#fdca26\"],[1.0,\"#f0f921\"]]}],\"heatmapgl\":[{\"type\":\"heatmapgl\",\"colorbar\":{\"outlinewidth\":0,\"ticks\":\"\"},\"colorscale\":[[0.0,\"#0d0887\"],[0.1111111111111111,\"#46039f\"],[0.2222222222222222,\"#7201a8\"],[0.3333333333333333,\"#9c179e\"],[0.4444444444444444,\"#bd3786\"],[0.5555555555555556,\"#d8576b\"],[0.6666666666666666,\"#ed7953\"],[0.7777777777777778,\"#fb9f3a\"],[0.8888888888888888,\"#fdca26\"],[1.0,\"#f0f921\"]]}],\"contourcarpet\":[{\"type\":\"contourcarpet\",\"colorbar\":{\"outlinewidth\":0,\"ticks\":\"\"}}],\"contour\":[{\"type\":\"contour\",\"colorbar\":{\"outlinewidth\":0,\"ticks\":\"\"},\"colorscale\":[[0.0,\"#0d0887\"],[0.1111111111111111,\"#46039f\"],[0.2222222222222222,\"#7201a8\"],[0.3333333333333333,\"#9c179e\"],[0.4444444444444444,\"#bd3786\"],[0.5555555555555556,\"#d8576b\"],[0.6666666666666666,\"#ed7953\"],[0.7777777777777778,\"#fb9f3a\"],[0.8888888888888888,\"#fdca26\"],[1.0,\"#f0f921\"]]}],\"surface\":[{\"type\":\"surface\",\"colorbar\":{\"outlinewidth\":0,\"ticks\":\"\"},\"colorscale\":[[0.0,\"#0d0887\"],[0.1111111111111111,\"#46039f\"],[0.2222222222222222,\"#7201a8\"],[0.3333333333333333,\"#9c179e\"],[0.4444444444444444,\"#bd3786\"],[0.5555555555555556,\"#d8576b\"],[0.6666666666666666,\"#ed7953\"],[0.7777777777777778,\"#fb9f3a\"],[0.8888888888888888,\"#fdca26\"],[1.0,\"#f0f921\"]]}],\"mesh3d\":[{\"type\":\"mesh3d\",\"colorbar\":{\"outlinewidth\":0,\"ticks\":\"\"}}],\"scatter\":[{\"fillpattern\":{\"fillmode\":\"overlay\",\"size\":10,\"solidity\":0.2},\"type\":\"scatter\"}],\"parcoords\":[{\"type\":\"parcoords\",\"line\":{\"colorbar\":{\"outlinewidth\":0,\"ticks\":\"\"}}}],\"scatterpolargl\":[{\"type\":\"scatterpolargl\",\"marker\":{\"colorbar\":{\"outlinewidth\":0,\"ticks\":\"\"}}}],\"bar\":[{\"error_x\":{\"color\":\"#2a3f5f\"},\"error_y\":{\"color\":\"#2a3f5f\"},\"marker\":{\"line\":{\"color\":\"#E5ECF6\",\"width\":0.5},\"pattern\":{\"fillmode\":\"overlay\",\"size\":10,\"solidity\":0.2}},\"type\":\"bar\"}],\"scattergeo\":[{\"type\":\"scattergeo\",\"marker\":{\"colorbar\":{\"outlinewidth\":0,\"ticks\":\"\"}}}],\"scatterpolar\":[{\"type\":\"scatterpolar\",\"marker\":{\"colorbar\":{\"outlinewidth\":0,\"ticks\":\"\"}}}],\"histogram\":[{\"marker\":{\"pattern\":{\"fillmode\":\"overlay\",\"size\":10,\"solidity\":0.2}},\"type\":\"histogram\"}],\"scattergl\":[{\"type\":\"scattergl\",\"marker\":{\"colorbar\":{\"outlinewidth\":0,\"ticks\":\"\"}}}],\"scatter3d\":[{\"type\":\"scatter3d\",\"line\":{\"colorbar\":{\"outlinewidth\":0,\"ticks\":\"\"}},\"marker\":{\"colorbar\":{\"outlinewidth\":0,\"ticks\":\"\"}}}],\"scattermapbox\":[{\"type\":\"scattermapbox\",\"marker\":{\"colorbar\":{\"outlinewidth\":0,\"ticks\":\"\"}}}],\"scatterternary\":[{\"type\":\"scatterternary\",\"marker\":{\"colorbar\":{\"outlinewidth\":0,\"ticks\":\"\"}}}],\"scattercarpet\":[{\"type\":\"scattercarpet\",\"marker\":{\"colorbar\":{\"outlinewidth\":0,\"ticks\":\"\"}}}],\"carpet\":[{\"aaxis\":{\"endlinecolor\":\"#2a3f5f\",\"gridcolor\":\"white\",\"linecolor\":\"white\",\"minorgridcolor\":\"white\",\"startlinecolor\":\"#2a3f5f\"},\"baxis\":{\"endlinecolor\":\"#2a3f5f\",\"gridcolor\":\"white\",\"linecolor\":\"white\",\"minorgridcolor\":\"white\",\"startlinecolor\":\"#2a3f5f\"},\"type\":\"carpet\"}],\"table\":[{\"cells\":{\"fill\":{\"color\":\"#EBF0F8\"},\"line\":{\"color\":\"white\"}},\"header\":{\"fill\":{\"color\":\"#C8D4E3\"},\"line\":{\"color\":\"white\"}},\"type\":\"table\"}],\"barpolar\":[{\"marker\":{\"line\":{\"color\":\"#E5ECF6\",\"width\":0.5},\"pattern\":{\"fillmode\":\"overlay\",\"size\":10,\"solidity\":0.2}},\"type\":\"barpolar\"}],\"pie\":[{\"automargin\":true,\"type\":\"pie\"}]},\"layout\":{\"autotypenumbers\":\"strict\",\"colorway\":[\"#636efa\",\"#EF553B\",\"#00cc96\",\"#ab63fa\",\"#FFA15A\",\"#19d3f3\",\"#FF6692\",\"#B6E880\",\"#FF97FF\",\"#FECB52\"],\"font\":{\"color\":\"#2a3f5f\"},\"hovermode\":\"closest\",\"hoverlabel\":{\"align\":\"left\"},\"paper_bgcolor\":\"white\",\"plot_bgcolor\":\"#E5ECF6\",\"polar\":{\"bgcolor\":\"#E5ECF6\",\"angularaxis\":{\"gridcolor\":\"white\",\"linecolor\":\"white\",\"ticks\":\"\"},\"radialaxis\":{\"gridcolor\":\"white\",\"linecolor\":\"white\",\"ticks\":\"\"}},\"ternary\":{\"bgcolor\":\"#E5ECF6\",\"aaxis\":{\"gridcolor\":\"white\",\"linecolor\":\"white\",\"ticks\":\"\"},\"baxis\":{\"gridcolor\":\"white\",\"linecolor\":\"white\",\"ticks\":\"\"},\"caxis\":{\"gridcolor\":\"white\",\"linecolor\":\"white\",\"ticks\":\"\"}},\"coloraxis\":{\"colorbar\":{\"outlinewidth\":0,\"ticks\":\"\"}},\"colorscale\":{\"sequential\":[[0.0,\"#0d0887\"],[0.1111111111111111,\"#46039f\"],[0.2222222222222222,\"#7201a8\"],[0.3333333333333333,\"#9c179e\"],[0.4444444444444444,\"#bd3786\"],[0.5555555555555556,\"#d8576b\"],[0.6666666666666666,\"#ed7953\"],[0.7777777777777778,\"#fb9f3a\"],[0.8888888888888888,\"#fdca26\"],[1.0,\"#f0f921\"]],\"sequentialminus\":[[0.0,\"#0d0887\"],[0.1111111111111111,\"#46039f\"],[0.2222222222222222,\"#7201a8\"],[0.3333333333333333,\"#9c179e\"],[0.4444444444444444,\"#bd3786\"],[0.5555555555555556,\"#d8576b\"],[0.6666666666666666,\"#ed7953\"],[0.7777777777777778,\"#fb9f3a\"],[0.8888888888888888,\"#fdca26\"],[1.0,\"#f0f921\"]],\"diverging\":[[0,\"#8e0152\"],[0.1,\"#c51b7d\"],[0.2,\"#de77ae\"],[0.3,\"#f1b6da\"],[0.4,\"#fde0ef\"],[0.5,\"#f7f7f7\"],[0.6,\"#e6f5d0\"],[0.7,\"#b8e186\"],[0.8,\"#7fbc41\"],[0.9,\"#4d9221\"],[1,\"#276419\"]]},\"xaxis\":{\"gridcolor\":\"white\",\"linecolor\":\"white\",\"ticks\":\"\",\"title\":{\"standoff\":15},\"zerolinecolor\":\"white\",\"automargin\":true,\"zerolinewidth\":2},\"yaxis\":{\"gridcolor\":\"white\",\"linecolor\":\"white\",\"ticks\":\"\",\"title\":{\"standoff\":15},\"zerolinecolor\":\"white\",\"automargin\":true,\"zerolinewidth\":2},\"scene\":{\"xaxis\":{\"backgroundcolor\":\"#E5ECF6\",\"gridcolor\":\"white\",\"linecolor\":\"white\",\"showbackground\":true,\"ticks\":\"\",\"zerolinecolor\":\"white\",\"gridwidth\":2},\"yaxis\":{\"backgroundcolor\":\"#E5ECF6\",\"gridcolor\":\"white\",\"linecolor\":\"white\",\"showbackground\":true,\"ticks\":\"\",\"zerolinecolor\":\"white\",\"gridwidth\":2},\"zaxis\":{\"backgroundcolor\":\"#E5ECF6\",\"gridcolor\":\"white\",\"linecolor\":\"white\",\"showbackground\":true,\"ticks\":\"\",\"zerolinecolor\":\"white\",\"gridwidth\":2}},\"shapedefaults\":{\"line\":{\"color\":\"#2a3f5f\"}},\"annotationdefaults\":{\"arrowcolor\":\"#2a3f5f\",\"arrowhead\":0,\"arrowwidth\":1},\"geo\":{\"bgcolor\":\"white\",\"landcolor\":\"#E5ECF6\",\"subunitcolor\":\"white\",\"showland\":true,\"showlakes\":true,\"lakecolor\":\"white\"},\"title\":{\"x\":0.05},\"mapbox\":{\"style\":\"light\"}}},\"scene\":{\"domain\":{\"x\":[0.0,1.0],\"y\":[0.0,1.0]},\"xaxis\":{\"title\":{\"text\":\"PC 1\"}},\"yaxis\":{\"title\":{\"text\":\"PC 2\"}},\"zaxis\":{\"title\":{\"text\":\"PC 3\"}}},\"legend\":{\"title\":{\"text\":\"color\"},\"tracegroupgap\":0},\"title\":{\"text\":\"Total Explained Variance: 99.48%\"}},                        {\"responsive\": true}                    ).then(function(){\n",
              "                            \n",
              "var gd = document.getElementById('7bbb4b11-f946-4191-9110-3dbee81922b0');\n",
              "var x = new MutationObserver(function (mutations, observer) {{\n",
              "        var display = window.getComputedStyle(gd).display;\n",
              "        if (!display || display === 'none') {{\n",
              "            console.log([gd, 'removed!']);\n",
              "            Plotly.purge(gd);\n",
              "            observer.disconnect();\n",
              "        }}\n",
              "}});\n",
              "\n",
              "// Listen for the removal of the full notebook cells\n",
              "var notebookContainer = gd.closest('#notebook-container');\n",
              "if (notebookContainer) {{\n",
              "    x.observe(notebookContainer, {childList: true});\n",
              "}}\n",
              "\n",
              "// Listen for the clearing of the current output cell\n",
              "var outputEl = gd.closest('.output');\n",
              "if (outputEl) {{\n",
              "    x.observe(outputEl, {childList: true});\n",
              "}}\n",
              "\n",
              "                        })                };                            </script>        </div>\n",
              "</body>\n",
              "</html>"
            ]
          },
          "metadata": {}
        }
      ]
    }
  ]
}