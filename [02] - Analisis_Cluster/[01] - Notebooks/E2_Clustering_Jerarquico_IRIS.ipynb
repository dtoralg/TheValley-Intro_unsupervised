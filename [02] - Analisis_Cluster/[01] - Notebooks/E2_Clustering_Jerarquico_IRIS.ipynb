{
  "nbformat": 4,
  "nbformat_minor": 0,
  "metadata": {
    "colab": {
      "provenance": [],
      "authorship_tag": "ABX9TyMYQMkqdYDdqeD257ZonPOX",
      "include_colab_link": true
    },
    "kernelspec": {
      "name": "python3",
      "display_name": "Python 3"
    },
    "language_info": {
      "name": "python"
    }
  },
  "cells": [
    {
      "cell_type": "markdown",
      "metadata": {
        "id": "view-in-github",
        "colab_type": "text"
      },
      "source": [
        "<a href=\"https://colab.research.google.com/github/dtoralg/TheValley_MDS/blob/main/%5B02%5D%20-%20Analisis_Cluster/%5B01%5D%20-%20Notebooks/E2_Clustering_Jerarquico_IRIS.ipynb\" target=\"_parent\"><img src=\"https://colab.research.google.com/assets/colab-badge.svg\" alt=\"Open In Colab\"/></a>"
      ]
    },
    {
      "cell_type": "markdown",
      "source": [
        "# Clustering Jerárquico y Dendrogramas con el dataset Iris"
      ],
      "metadata": {
        "id": "gNnBL-1M2sB3"
      }
    },
    {
      "cell_type": "markdown",
      "source": [
        "## Introducción\n",
        "En este ejercicio vamos a trabajar con técnicas de clustering jerárquico para descubrir patrones y grupos naturales en los datos, utilizando el clásico dataset Iris. Clustering jerárquico es un método que no requiere especificar el número de clusters a priori y permite visualizar las relaciones entre los datos mediante dendrogramas, facilitando la interpretación de la estructura de los grupos.\n",
        "\n",
        "El dataset Iris es uno de los más utilizados en estadística y machine learning. Contiene 150 muestras de flores, cada una con medidas de sépalo y pétalo, y una etiqueta que indica la especie real de la flor. Sin embargo, en este ejercicio no usaremos las etiquetas para el clustering: el objetivo es comprobar si las técnicas de agrupamiento son capaces de recuperar la estructura natural de las especies a partir de las medidas."
      ],
      "metadata": {
        "id": "DjIBpFIQ2y7A"
      }
    },
    {
      "cell_type": "markdown",
      "source": [
        "## Objetivos del ejercicio\n",
        "* Comprender los conceptos básicos del clustering jerárquico y cómo se construyen dendrogramas.\n",
        "\n",
        "* Preprocesar los datos para asegurar que las variables tengan una escala comparable.\n",
        "\n",
        "* Aplicar diferentes métodos de linkage para construir un dendrograma y analizar su interpretación.\n",
        "\n",
        "* Asignar etiquetas de clusters a las muestras a partir del dendrograma.\n",
        "\n",
        "* Evaluar si los clusters resultantes se corresponden con las especies reales del dataset Iris."
      ],
      "metadata": {
        "id": "2m_DsM5o21eZ"
      }
    },
    {
      "cell_type": "markdown",
      "source": [
        "## Descripción del dataset\n",
        "El dataset Iris contiene las siguientes características métricas para cada muestra de flor:\n",
        "\n",
        "Sepal Length (cm): Longitud del sépalo\n",
        "\n",
        "Sepal Width (cm): Ancho del sépalo\n",
        "\n",
        "Petal Length (cm): Longitud del pétalo\n",
        "\n",
        "Petal Width (cm): Ancho del pétalo\n",
        "\n",
        "Las especies incluidas en el dataset son:\n",
        "\n",
        "* Iris-setosa\n",
        "\n",
        "* Iris-versicolor\n",
        "\n",
        "* Iris-virginica\n",
        "\n",
        "Este ejercicio te permitirá explorar la relación entre las medidas y comprobar si es posible diferenciar las especies sin necesidad de etiquetas, aplicando únicamente clustering jerárquico."
      ],
      "metadata": {
        "id": "NLXBO_OJ28e0"
      }
    },
    {
      "cell_type": "markdown",
      "source": [
        "## Importar librerías necesarias\n"
      ],
      "metadata": {
        "id": "sckZoOdS3Et6"
      }
    },
    {
      "cell_type": "code",
      "source": [
        "import numpy as np\n",
        "import pandas as pd\n",
        "import matplotlib.pyplot as plt\n",
        "import seaborn as sns\n",
        "from sklearn.datasets import load_iris\n",
        "from scipy.cluster.hierarchy import dendrogram, linkage, fcluster\n",
        "from sklearn.preprocessing import StandardScaler\n",
        "\n",
        "sns.set(style=\"whitegrid\")\n"
      ],
      "metadata": {
        "id": "ImJRFx4P3Ikf"
      },
      "execution_count": null,
      "outputs": []
    },
    {
      "cell_type": "markdown",
      "source": [
        "## Cargar y explorar el dataset Iris\n"
      ],
      "metadata": {
        "id": "0fc-oZA53Jt-"
      }
    },
    {
      "cell_type": "code",
      "source": [
        "# Cargar el dataset Iris como DataFrame\n",
        "iris_data = load_iris()\n",
        "df_iris = pd.DataFrame(iris_data.data, columns=iris_data.feature_names)\n",
        "df_iris['species'] = iris_data.target\n",
        "\n",
        "print(\"Primeras 5 filas del dataset Iris:\")\n",
        "df_iris.head()\n"
      ],
      "metadata": {
        "id": "JF6lSWeE3Lom"
      },
      "execution_count": null,
      "outputs": []
    },
    {
      "cell_type": "markdown",
      "source": [
        "## Estandarizar las variables numéricas\n"
      ],
      "metadata": {
        "id": "Orc11la23Q4j"
      }
    },
    {
      "cell_type": "code",
      "execution_count": null,
      "metadata": {
        "id": "tBm9KmXi2g5v"
      },
      "outputs": [],
      "source": [
        "# Estandarizamos las variables numéricas para que tengan media 0 y desviación estándar 1\n",
        "scaler = StandardScaler()\n",
        "X_scaled = scaler.fit_transform(df_iris.iloc[:, :-1])\n",
        "\n",
        "print(\"Muestra de las primeras 5 filas tras estandarizar:\")\n",
        "pd.DataFrame(X_scaled, columns=iris_data.feature_names).head()\n"
      ]
    },
    {
      "cell_type": "markdown",
      "source": [
        "## Calcular el linkage y construir el dendrograma\n"
      ],
      "metadata": {
        "id": "iMjOAJU33UAV"
      }
    },
    {
      "cell_type": "code",
      "source": [
        "# Calculamos el linkage con el método 'ward' (minimiza la varianza interna de los clusters)\n",
        "linkage_matrix = linkage(X_scaled, method='ward')\n",
        "\n",
        "# Construimos el dendrograma\n",
        "plt.figure(figsize=(15, 7))\n",
        "dendrogram(linkage_matrix,\n",
        "           truncate_mode='lastp',  # Truncar para que sea más fácil de leer\n",
        "           p=30,                   # Mostrar solo los últimos 30 fusiones\n",
        "           leaf_rotation=90.,\n",
        "           leaf_font_size=12.,\n",
        "           show_contracted=True)\n",
        "plt.title('Dendrograma del clustering jerárquico sobre Iris')\n",
        "plt.xlabel('Muestras o clusters')\n",
        "plt.ylabel('Distancia (ward)')\n",
        "plt.show()\n"
      ],
      "metadata": {
        "id": "QHn9ohMs3Wr6"
      },
      "execution_count": null,
      "outputs": []
    },
    {
      "cell_type": "markdown",
      "source": [
        "## Asignar etiquetas a partir del dendrograma\n"
      ],
      "metadata": {
        "id": "4zV7otiG3YXk"
      }
    },
    {
      "cell_type": "code",
      "source": [
        "# Definimos un número de clusters cortando el dendrograma en un punto de distancia\n",
        "num_clusters = 3  # por ejemplo, probamos con 3 clusters\n",
        "labels = fcluster(linkage_matrix, num_clusters, criterion='maxclust')\n",
        "\n",
        "# Añadimos las etiquetas predichas al DataFrame\n",
        "df_iris['cluster'] = labels\n",
        "\n",
        "print(\"Primeras 5 filas con etiquetas de cluster asignadas:\")\n",
        "df_iris.head()\n"
      ],
      "metadata": {
        "id": "ijhD2uNd3a3v"
      },
      "execution_count": null,
      "outputs": []
    },
    {
      "cell_type": "markdown",
      "source": [
        "## Visualizar los clusters resultantes\n"
      ],
      "metadata": {
        "id": "7NuxdTvU3cPq"
      }
    },
    {
      "cell_type": "code",
      "source": [
        "# Creamos un scatterplot usando las dos primeras características originales\n",
        "plt.figure(figsize=(10, 6))\n",
        "sns.scatterplot(x=df_iris.iloc[:, 0], y=df_iris.iloc[:, 1],\n",
        "                hue=df_iris['cluster'], palette='Set1', s=80)\n",
        "plt.title('Visualización de clusters jerárquicos sobre Iris')\n",
        "plt.xlabel(iris_data.feature_names[0])\n",
        "plt.ylabel(iris_data.feature_names[1])\n",
        "plt.legend(title='Cluster')\n",
        "plt.show()\n"
      ],
      "metadata": {
        "id": "mnG4UWe93eph"
      },
      "execution_count": null,
      "outputs": []
    }
  ]
}